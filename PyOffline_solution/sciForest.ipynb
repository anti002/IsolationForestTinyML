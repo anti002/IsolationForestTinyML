{
 "cells": [
  {
   "cell_type": "code",
   "execution_count": 2,
   "metadata": {},
   "outputs": [],
   "source": [
    "from __future__ import division\n",
    "from __future__ import print_function\n",
    "from sklearn.ensemble import IsolationForest\n",
    "\n",
    "import os\n",
    "import sys\n",
    "from time import time\n",
    "\n",
    "# temporary solution for relative imports in case pyod is not installed\n",
    "# if pyod is installed, no need to use the following line\n",
    "sys.path.append(\n",
    "    os.path.abspath(os.path.join(os.path.dirname(\"__file__\"), '..')))\n",
    "\n",
    "import pandas as pd\n",
    "import numpy as np\n",
    "from numpy import percentile\n",
    "from sklearn.metrics import average_precision_score\n",
    "import scipy.io\n",
    "import matplotlib.pyplot as plt\n",
    "import matplotlib.font_manager"
   ]
  },
  {
   "cell_type": "code",
   "execution_count": 3,
   "metadata": {},
   "outputs": [],
   "source": [
    "# Define the number of inliers and outliers\n",
    "n_samples = 256\n",
    "outliers_fraction = 0.25\n",
    "clusters_separation = [0]\n",
    "\n",
    "# Compare given detectors under given settings\n",
    "# Initialize the data\n",
    "xx, yy = np.meshgrid(np.linspace(-7, 7, 100), np.linspace(-7, 7, 100))\n",
    "n_inliers = int((1. - outliers_fraction) * n_samples)\n",
    "n_outliers = int(outliers_fraction * n_samples)\n",
    "ground_truth = np.zeros(n_samples, dtype=int)\n",
    "ground_truth[-n_outliers:] = 1"
   ]
  },
  {
   "cell_type": "code",
   "execution_count": 4,
   "metadata": {},
   "outputs": [],
   "source": [
    "random_state = np.random.RandomState(42)\n",
    "# Define nine outlier detection tools to be compared\n",
    "classifiers = {\n",
    "    'Isolation Forest': IsolationForest(contamination=outliers_fraction,\n",
    "                                random_state=random_state)\n",
    "}"
   ]
  },
  {
   "cell_type": "code",
   "execution_count": 5,
   "metadata": {},
   "outputs": [
    {
     "data": {
      "text/plain": [
       "{'whiskers': [<matplotlib.lines.Line2D at 0x1ea7c2ae9a0>,\n",
       "  <matplotlib.lines.Line2D at 0x1ea7c2aec70>],\n",
       " 'caps': [<matplotlib.lines.Line2D at 0x1ea7c2aefa0>,\n",
       "  <matplotlib.lines.Line2D at 0x1ea7c2ce250>],\n",
       " 'boxes': [<matplotlib.lines.Line2D at 0x1ea7c2ae6d0>],\n",
       " 'medians': [<matplotlib.lines.Line2D at 0x1ea7c2ce520>],\n",
       " 'fliers': [<matplotlib.lines.Line2D at 0x1ea7c235280>],\n",
       " 'means': []}"
      ]
     },
     "execution_count": 5,
     "metadata": {},
     "output_type": "execute_result"
    },
    {
     "data": {
      "image/png": "[encoded data removed]",
      "text/plain": [
       "<Figure size 432x288 with 1 Axes>"
      ]
     },
     "metadata": {
      "needs_background": "light"
     },
     "output_type": "display_data"
    }
   ],
   "source": [
    "# Fit the models with the generated data and \n",
    "# compare model performances\n",
    "for i, offset in enumerate(clusters_separation):\n",
    "    np.random.seed(42)\n",
    "    # Data generation\n",
    "    #X1 = 0.3 * np.random.randn(n_inliers // 2, 2) - offset\n",
    "    #X2 = 0.3 * np.random.randn(n_inliers // 2, 2) + offset\n",
    "    #X = np.r_[X1, X2]\n",
    "    # Add outliers\n",
    "    #X = np.r_[X, np.random.uniform(low=-6, high=6, size=(n_outliers, 2))]\n",
    "    data = scipy.io.loadmat('C:\\\\Users\\\\anton\\\\OneDrive\\\\Skrivbord\\\\Thesis_Code\\\\IsolationForestTinyML\\\\DatSets\\\\glass.mat',\n",
    "                        squeeze_me=False)\n",
    "\n",
    "    enlist = list(data.items())\n",
    "    X = np.array(enlist, dtype=object)\n",
    "    X = np.delete(X, 0, 0)\n",
    "    X = np.delete(X, 0, 0)\n",
    "    X = np.delete(X, 0, 0)\n",
    "    X = np.delete(X, 0, 1)\n",
    "\n",
    "    y_true = np.empty([1,0], dtype=int)\n",
    "\n",
    "    #print(X[1][0][0])\n",
    "    k = 0\n",
    "    while k < len(X[1][0]):\n",
    "        y_true = np.append(y_true, int(X[1][0][k]))\n",
    "        k += 1\n",
    "\n",
    "    X = X[0][0]\n",
    "    # Fit the model\n",
    "    #plt.figure(figsize=(15, 12))\n",
    "    for i, (clf_name, clf) in enumerate(classifiers.items()):\n",
    "        #print(i + 1, 'fitting', clf_name)\n",
    "        # fit the data and tag outliers\n",
    "        p = 0\n",
    "        aps = []\n",
    "        while p < 10:\n",
    "            clf.fit(X)\n",
    "            #WARNING put +1\n",
    "            scores_pred = clf.decision_function(X) * 1 \n",
    "            threshold = percentile(scores_pred, 100 * outliers_fraction)\n",
    "            y_pred = clf.predict(X) * -1\n",
    "            y_pred = (y_pred + 1) / 2\n",
    "            aps.append(average_precision_score(y_true, scores_pred))\n",
    "            p += 1\n",
    "        #n_errors = (y_pred != ground_truth).sum()\n",
    "        # plot the levels lines and the points\n",
    "        #WARNING +1\n",
    "        #Z = clf.decision_function(np.c_[xx.ravel(), yy.ravel()]) * 1\n",
    "        #Z = Z.reshape(xx.shape)\n",
    "        #plt.figure(figsize=[10,10])\n",
    "        #subplot = plt.subplot(2, 2, 1)\n",
    "        #subplot.contourf(xx, yy, Z, levels=np.linspace(Z.min(), threshold, 7),\n",
    "        #                 cmap=plt.cm.Blues_r)\n",
    "        #a = subplot.contour(xx, yy, Z, levels=[-threshold],\n",
    "        #                    linewidths=2, colors='red')\n",
    "        #subplot.contourf(xx, yy, Z, levels=[threshold, Z.max()],\n",
    "        #                 colors='orange')\n",
    "        #b = subplot.scatter(X[:-n_outliers, 0], X[:-n_outliers, 1], c='white',\n",
    "        #                    s=20, edgecolor='k')\n",
    "        #c = subplot.scatter(X[-n_outliers:, 0], X[-n_outliers:, 1], c='black',\n",
    "        #                    s=20, edgecolor='k')\n",
    "        #subplot.axis('tight')\n",
    "        #subplot.legend(\n",
    "         #   [a.collections[0], b, c],\n",
    "        #    ['learned decision function', 'true inliers', 'true outliers'],\n",
    "          #  prop=matplotlib.font_manager.FontProperties(size=10),\n",
    "          #  loc='lower right')\n",
    "        #subplot.set_xlabel(\"%d. %s (errors: %d)\" % (i + 1, clf_name, n_errors))\n",
    "        #subplot.set_xlim((-7, 7))\n",
    "        #subplot.set_ylim((-7, 7))\n",
    "    #plt.subplots_adjust(0.04, 0.1, 0.96, 0.94, 0.1, 0.26)\n",
    "    #plt.suptitle(\"Outlier detection\")\n",
    "#plt.show()\n",
    "plt.boxplot(aps)"
   ]
  },
  {
   "cell_type": "code",
   "execution_count": 6,
   "metadata": {},
   "outputs": [
    {
     "data": {
      "text/plain": [
       "array([  1,   2,   3,   4,   5,   6,   7,  -1,   9,  -1,  -1,  -1,  13,\n",
       "        14,  15,  -1,  -1,  18,  -1,  -1,  21,  22,  -1,  -1,  25,  -1,\n",
       "        -1,  -1,  29,  -1,  31,  32,  33,  -1,  35,  -1,  -1,  -1,  -1,\n",
       "        40,  41,  42,  43,  44,  -1,  -1,  47,  48,  -1,  -1,  -1,  52,\n",
       "        53,  54,  -1,  -1,  -1,  58,  59,  -1,  -1,  62,  -1,  -1,  65,\n",
       "        66,  67,  68,  -1,  -1,  -1,  72,  -1,  -1,  -1,  76,  77,  78,\n",
       "        79,  -1,  -1,  -1,  -1,  84,  -1,  -1,  87,  88,  89,  90,  -1,\n",
       "        92,  -1,  -1,  95,  -1,  -1,  -1,  99, 100, 101, 102, 103,  -1,\n",
       "        -1,  -1,  -1, 108, 109,  -1, 111,  -1,  -1,  -1, 115, 116,  -1,\n",
       "        -1,  -1], dtype=int64)"
      ]
     },
     "execution_count": 6,
     "metadata": {},
     "output_type": "execute_result"
    }
   ],
   "source": [
    "\n",
    "clf.estimators_[0].tree_.children_left"
   ]
  },
  {
   "cell_type": "code",
   "execution_count": 7,
   "metadata": {},
   "outputs": [
    {
     "data": {
      "text/plain": [
       "array([ 86,  39,  28,  27,  12,  11,   8,  -1,  10,  -1,  -1,  -1,  20,\n",
       "        17,  16,  -1,  -1,  19,  -1,  -1,  24,  23,  -1,  -1,  26,  -1,\n",
       "        -1,  -1,  30,  -1,  38,  37,  34,  -1,  36,  -1,  -1,  -1,  -1,\n",
       "        75,  64,  51,  46,  45,  -1,  -1,  50,  49,  -1,  -1,  -1,  57,\n",
       "        56,  55,  -1,  -1,  -1,  61,  60,  -1,  -1,  63,  -1,  -1,  74,\n",
       "        71,  70,  69,  -1,  -1,  -1,  73,  -1,  -1,  -1,  83,  82,  81,\n",
       "        80,  -1,  -1,  -1,  -1,  85,  -1,  -1,  98,  97,  94,  91,  -1,\n",
       "        93,  -1,  -1,  96,  -1,  -1,  -1, 114, 107, 106, 105, 104,  -1,\n",
       "        -1,  -1,  -1, 113, 110,  -1, 112,  -1,  -1,  -1, 118, 117,  -1,\n",
       "        -1,  -1], dtype=int64)"
      ]
     },
     "execution_count": 7,
     "metadata": {},
     "output_type": "execute_result"
    }
   ],
   "source": [
    "\n",
    "clf.estimators_[0].tree_.children_right"
   ]
  },
  {
   "cell_type": "code",
   "execution_count": 8,
   "metadata": {},
   "outputs": [
    {
     "data": {
      "text/plain": [
       "array([ 0,  1,  4,  7,  0,  8,  6, -2,  1, -2, -2, -2,  1,  6,  0, -2, -2,\n",
       "        5, -2, -2,  2,  5, -2, -2,  3, -2, -2, -2,  5, -2,  1,  4,  3, -2,\n",
       "        4, -2, -2, -2, -2,  2,  7,  7,  0,  2, -2, -2,  1,  3, -2, -2, -2,\n",
       "        0,  6,  1, -2, -2, -2,  7,  4, -2, -2,  7, -2, -2,  0,  8,  5,  0,\n",
       "       -2, -2, -2,  7, -2, -2, -2,  5,  1,  6,  2, -2, -2, -2, -2,  6, -2,\n",
       "       -2,  1,  7,  5,  3, -2,  6, -2, -2,  5, -2, -2, -2,  8,  5,  3,  1,\n",
       "        0, -2, -2, -2, -2,  7,  4, -2,  5, -2, -2, -2,  6,  5, -2, -2, -2],\n",
       "      dtype=int64)"
      ]
     },
     "execution_count": 8,
     "metadata": {},
     "output_type": "execute_result"
    }
   ],
   "source": [
    "clf.estimators_[0].tree_.feature"
   ]
  },
  {
   "cell_type": "code",
   "execution_count": 9,
   "metadata": {},
   "outputs": [
    {
     "data": {
      "text/plain": [
       "array([ 1.52226780e+00,  1.42282154e+01,  7.35341460e+01,  1.42469424e+00,\n",
       "        1.51493759e+00,  7.94574656e-02,  6.51512883e+00, -2.00000000e+00,\n",
       "        1.30126171e+01, -2.00000000e+00, -2.00000000e+00, -2.00000000e+00,\n",
       "        1.31224510e+01,  7.99868095e+00,  1.51638615e+00, -2.00000000e+00,\n",
       "       -2.00000000e+00,  5.19201129e-01, -2.00000000e+00, -2.00000000e+00,\n",
       "        1.11723017e+00,  3.71867178e-01, -2.00000000e+00, -2.00000000e+00,\n",
       "        1.10118046e+00, -2.00000000e+00, -2.00000000e+00, -2.00000000e+00,\n",
       "        7.46102384e-03, -2.00000000e+00,  1.28447649e+01,  7.44586015e+01,\n",
       "        8.54927204e-01, -2.00000000e+00,  7.36923663e+01, -2.00000000e+00,\n",
       "       -2.00000000e+00, -2.00000000e+00, -2.00000000e+00,  2.77784223e+00,\n",
       "        8.36239722e-01,  2.00137054e-01,  1.51428191e+00,  9.75817125e-01,\n",
       "       -2.00000000e+00, -2.00000000e+00,  1.48197388e+01,  9.64381048e-01,\n",
       "       -2.00000000e+00, -2.00000000e+00, -2.00000000e+00,  1.51606623e+00,\n",
       "        8.95411902e+00,  1.49517821e+01, -2.00000000e+00, -2.00000000e+00,\n",
       "       -2.00000000e+00,  5.74258799e-01,  7.30243594e+01, -2.00000000e+00,\n",
       "       -2.00000000e+00,  6.64883773e-01, -2.00000000e+00, -2.00000000e+00,\n",
       "        1.51842596e+00,  1.16370647e-02,  7.82734764e-01,  1.51719009e+00,\n",
       "       -2.00000000e+00, -2.00000000e+00, -2.00000000e+00,  1.58843606e+00,\n",
       "       -2.00000000e+00, -2.00000000e+00, -2.00000000e+00,  2.71490786e-01,\n",
       "        1.48513188e+01,  9.23735770e+00,  3.76446048e+00, -2.00000000e+00,\n",
       "       -2.00000000e+00, -2.00000000e+00, -2.00000000e+00,  5.95536849e+00,\n",
       "       -2.00000000e+00, -2.00000000e+00,  1.33053213e+01,  4.28890365e-01,\n",
       "        8.91676937e-02,  7.41159044e-01, -2.00000000e+00,  1.48814615e+01,\n",
       "       -2.00000000e+00, -2.00000000e+00,  4.61440192e-01, -2.00000000e+00,\n",
       "       -2.00000000e+00, -2.00000000e+00,  8.16199076e-02,  1.49428817e-01,\n",
       "        1.02518308e+00,  1.38960693e+01,  1.52371732e+00, -2.00000000e+00,\n",
       "       -2.00000000e+00, -2.00000000e+00, -2.00000000e+00,  1.79870612e-01,\n",
       "        7.05019991e+01, -2.00000000e+00,  4.00465788e-01, -2.00000000e+00,\n",
       "       -2.00000000e+00, -2.00000000e+00,  1.31370928e+01,  7.94291251e-02,\n",
       "       -2.00000000e+00, -2.00000000e+00, -2.00000000e+00])"
      ]
     },
     "execution_count": 9,
     "metadata": {},
     "output_type": "execute_result"
    }
   ],
   "source": [
    "clf.estimators_[0].tree_.threshold"
   ]
  },
  {
   "cell_type": "code",
   "execution_count": 10,
   "metadata": {},
   "outputs": [
    {
     "data": {
      "text/plain": [
       "array([214, 197, 167, 160, 159,   4,   3,   1,   2,   1,   1,   1, 155,\n",
       "        68,   7,   5,   2,  61,   7,  54,  87,   8,   7,   1,  79,  13,\n",
       "        66,   1,   7,   1,   6,   5,   4,   1,   3,   1,   2,   1,   1,\n",
       "        30,  24,  14,   6,   2,   1,   1,   4,   3,   1,   2,   1,   8,\n",
       "         4,   3,   2,   1,   1,   4,   2,   1,   1,   2,   1,   1,  10,\n",
       "         9,   7,   6,   5,   1,   1,   2,   1,   1,   1,   6,   4,   3,\n",
       "         2,   1,   1,   1,   1,   2,   1,   1,  17,   6,   5,   3,   1,\n",
       "         2,   1,   1,   2,   1,   1,   1,  11,   8,   4,   3,   2,   1,\n",
       "         1,   1,   1,   4,   3,   1,   2,   1,   1,   1,   3,   2,   1,\n",
       "         1,   1], dtype=int64)"
      ]
     },
     "execution_count": 10,
     "metadata": {},
     "output_type": "execute_result"
    }
   ],
   "source": [
    "clf.estimators_[0].tree_.n_node_samples"
   ]
  },
  {
   "cell_type": "code",
   "execution_count": 11,
   "metadata": {},
   "outputs": [
    {
     "name": "stdout",
     "output_type": "stream",
     "text": [
      "119\n"
     ]
    }
   ],
   "source": [
    "print(len(clf.estimators_[0].tree_.feature))"
   ]
  },
  {
   "cell_type": "code",
   "execution_count": 16,
   "metadata": {},
   "outputs": [],
   "source": [
    "file = open(\"tree_attributes\", \"w\")\n",
    "c = 0\n",
    "while c < len(clf.estimators_[0].tree_.feature):\n",
    "    file.write(\",\" + str(clf.estimators_[0].tree_.feature[c]))\n",
    "    c += 1\n",
    "    "
   ]
  },
  {
   "cell_type": "code",
   "execution_count": null,
   "metadata": {},
   "outputs": [],
   "source": []
  }
 ],
 "metadata": {
  "interpreter": {
   "hash": "c4a31993002339e453ebb2c66c294fd01e84ed8cca375c93fb5e33ef382fbc8b"
  },
  "kernelspec": {
   "display_name": "Python 3.9.10 64-bit (windows store)",
   "language": "python",
   "name": "python3"
  },
  "language_info": {
   "codemirror_mode": {
    "name": "ipython",
    "version": 3
   },
   "file_extension": ".py",
   "mimetype": "text/x-python",
   "name": "python",
   "nbconvert_exporter": "python",
   "pygments_lexer": "ipython3",
   "version": "3.9.10"
  },
  "orig_nbformat": 4
 },
 "nbformat": 4,
 "nbformat_minor": 2
}
