{
 "cells": [
  {
   "cell_type": "code",
   "execution_count": 2,
   "metadata": {},
   "outputs": [],
   "source": [
    "from __future__ import division\n",
    "from __future__ import print_function\n",
    "from sklearn.ensemble import IsolationForest\n",
    "\n",
    "import os\n",
    "import sys\n",
    "from time import time\n",
    "\n",
    "# temporary solution for relative imports in case pyod is not installed\n",
    "# if pyod is installed, no need to use the following line\n",
    "sys.path.append(\n",
    "    os.path.abspath(os.path.join(os.path.dirname(\"__file__\"), '..')))\n",
    "\n",
    "import pandas as pd\n",
    "import numpy as np\n",
    "from numpy import percentile\n",
    "from sklearn.metrics import average_precision_score\n",
    "import scipy.io\n",
    "import matplotlib.pyplot as plt\n",
    "import matplotlib.font_manager"
   ]
  },
  {
   "cell_type": "code",
   "execution_count": 3,
   "metadata": {},
   "outputs": [],
   "source": [
    "# Define the number of inliers and outliers\n",
    "n_samples = 256\n",
    "outliers_fraction = 0.25\n",
    "clusters_separation = [0]\n",
    "\n",
    "# Compare given detectors under given settings\n",
    "# Initialize the data\n",
    "xx, yy = np.meshgrid(np.linspace(-7, 7, 100), np.linspace(-7, 7, 100))\n",
    "n_inliers = int((1. - outliers_fraction) * n_samples)\n",
    "n_outliers = int(outliers_fraction * n_samples)\n",
    "ground_truth = np.zeros(n_samples, dtype=int)\n",
    "ground_truth[-n_outliers:] = 1"
   ]
  },
  {
   "cell_type": "code",
   "execution_count": 4,
   "metadata": {},
   "outputs": [],
   "source": [
    "random_state = np.random.RandomState(42)\n",
    "# Define nine outlier detection tools to be compared\n",
    "classifiers = {\n",
    "    'Isolation Forest': IsolationForest(contamination=outliers_fraction,\n",
    "                                random_state=random_state)\n",
    "}"
   ]
  },
  {
   "cell_type": "code",
   "execution_count": 11,
   "metadata": {},
   "outputs": [
    {
     "name": "stdout",
     "output_type": "stream",
     "text": [
      "[0.0319119849265194, 0.031940835101514686, 0.03145295602277559, 0.03183829967354975, 0.03215178156503484, 0.03226820771355199, 0.03089708141343291, 0.03268547148444393, 0.031647130637140926, 0.030801884575635152]\n"
     ]
    },
    {
     "data": {
      "image/png": "[encoded data removed]",
      "text/plain": [
       "<Figure size 432x288 with 1 Axes>"
      ]
     },
     "metadata": {
      "needs_background": "light"
     },
     "output_type": "display_data"
    }
   ],
   "source": [
    "# Fit the models with the generated data and \n",
    "# compare model performances\n",
    "for i, offset in enumerate(clusters_separation):\n",
    "    np.random.seed(42)\n",
    "    # Data generation\n",
    "    #X1 = 0.3 * np.random.randn(n_inliers // 2, 2) - offset\n",
    "    #X2 = 0.3 * np.random.randn(n_inliers // 2, 2) + offset\n",
    "    #X = np.r_[X1, X2]\n",
    "    # Add outliers\n",
    "    #X = np.r_[X, np.random.uniform(low=-6, high=6, size=(n_outliers, 2))]\n",
    "    data = scipy.io.loadmat('C:\\\\Users\\\\anton\\\\OneDrive\\\\Skrivbord\\\\Thesis_Code\\\\IsolationForestTinyML\\\\DatSets\\\\glass.mat',\n",
    "                        squeeze_me=False)\n",
    "\n",
    "    enlist = list(data.items())\n",
    "    X = np.array(enlist, dtype=object)\n",
    "    X = np.delete(X, 0, 0)\n",
    "    X = np.delete(X, 0, 0)\n",
    "    X = np.delete(X, 0, 0)\n",
    "    X = np.delete(X, 0, 1)\n",
    "\n",
    "    y_true = np.empty([1,0], dtype=int)\n",
    "\n",
    "    #print(X[1][0][0])\n",
    "    k = 0\n",
    "    while k < len(X[1][0]):\n",
    "        y_true = np.append(y_true, int(X[1][0][k]))\n",
    "        k += 1\n",
    "\n",
    "    X = X[0][0]\n",
    "    # Fit the model\n",
    "    #plt.figure(figsize=(15, 12))\n",
    "    for i, (clf_name, clf) in enumerate(classifiers.items()):\n",
    "        #print(i + 1, 'fitting', clf_name)\n",
    "        # fit the data and tag outliers\n",
    "        p = 0\n",
    "        aps = []\n",
    "        while p < 10:\n",
    "            clf.fit(X)\n",
    "            #WARNING put +1\n",
    "            scores_pred = clf.decision_function(X) * 1 \n",
    "            threshold = percentile(scores_pred, 100 * outliers_fraction)\n",
    "            y_pred = clf.predict(X) * -1\n",
    "            y_pred = (y_pred + 1) / 2\n",
    "            aps.append(average_precision_score(y_true, scores_pred))\n",
    "            p += 1\n",
    "        #n_errors = (y_pred != ground_truth).sum()\n",
    "        # plot the levels lines and the points\n",
    "        #WARNING +1\n",
    "        #Z = clf.decision_function(np.c_[xx.ravel(), yy.ravel()]) * 1\n",
    "        #Z = Z.reshape(xx.shape)\n",
    "        #plt.figure(figsize=[10,10])\n",
    "        #subplot = plt.subplot(2, 2, 1)\n",
    "        #subplot.contourf(xx, yy, Z, levels=np.linspace(Z.min(), threshold, 7),\n",
    "        #                 cmap=plt.cm.Blues_r)\n",
    "        #a = subplot.contour(xx, yy, Z, levels=[-threshold],\n",
    "        #                    linewidths=2, colors='red')\n",
    "        #subplot.contourf(xx, yy, Z, levels=[threshold, Z.max()],\n",
    "        #                 colors='orange')\n",
    "        #b = subplot.scatter(X[:-n_outliers, 0], X[:-n_outliers, 1], c='white',\n",
    "        #                    s=20, edgecolor='k')\n",
    "        #c = subplot.scatter(X[-n_outliers:, 0], X[-n_outliers:, 1], c='black',\n",
    "        #                    s=20, edgecolor='k')\n",
    "        #subplot.axis('tight')\n",
    "        #subplot.legend(\n",
    "         #   [a.collections[0], b, c],\n",
    "        #    ['learned decision function', 'true inliers', 'true outliers'],\n",
    "          #  prop=matplotlib.font_manager.FontProperties(size=10),\n",
    "          #  loc='lower right')\n",
    "        #subplot.set_xlabel(\"%d. %s (errors: %d)\" % (i + 1, clf_name, n_errors))\n",
    "        #subplot.set_xlim((-7, 7))\n",
    "        #subplot.set_ylim((-7, 7))\n",
    "    #plt.subplots_adjust(0.04, 0.1, 0.96, 0.94, 0.1, 0.26)\n",
    "    #plt.suptitle(\"Outlier detection\")\n",
    "#plt.show()\n",
    "plt.boxplot(aps)\n",
    "print(aps)"
   ]
  },
  {
   "cell_type": "code",
   "execution_count": null,
   "metadata": {},
   "outputs": [],
   "source": []
  }
 ],
 "metadata": {
  "interpreter": {
   "hash": "c4a31993002339e453ebb2c66c294fd01e84ed8cca375c93fb5e33ef382fbc8b"
  },
  "kernelspec": {
   "display_name": "Python 3.9.10 64-bit (windows store)",
   "language": "python",
   "name": "python3"
  },
  "language_info": {
   "codemirror_mode": {
    "name": "ipython",
    "version": 3
   },
   "file_extension": ".py",
   "mimetype": "text/x-python",
   "name": "python",
   "nbconvert_exporter": "python",
   "pygments_lexer": "ipython3",
   "version": "3.9.10"
  },
  "orig_nbformat": 4
 },
 "nbformat": 4,
 "nbformat_minor": 2
}
