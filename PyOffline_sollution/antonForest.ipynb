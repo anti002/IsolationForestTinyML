{
 "cells": [
  {
   "cell_type": "code",
   "execution_count": 1,
   "metadata": {},
   "outputs": [],
   "source": [
    "import numpy as np"
   ]
  },
  {
   "cell_type": "code",
   "execution_count": 2,
   "metadata": {},
   "outputs": [],
   "source": [
    "class antonForest():\n",
    "\n",
    "    def __init__(self, t_trees, sample_size, random_state) -> None:\n",
    "        self.t_trees = t_trees\n",
    "        self.sample_size = sample_size\n",
    "        self.random_state = random_state\n",
    "\n",
    "    def fit(self, X):\n",
    "        \n",
    "        self.forest = []\n",
    "        height_limit = np.ceil(np.log2(self.sample_size))\n",
    "\n",
    "        n_rows = X.shape[0]\n",
    "        for i in range(self.t_trees):\n",
    "            \n",
    "            #if n_rows < self.sample_size:\n",
    "             #   self.sample_size = n_rows\n",
    "            #index = self.random_state.choice(range(n_rows), size = self.sample_size, replace = False)\n",
    "            #This row makes the subsampling and split values random for each run\n",
    "            index = self.random_state.randint(0, n_rows, self.sample_size)\n",
    "            #index = np.random.choice(range(n_rows), size=self.sample_size, replace=False)\n",
    "            #index = np.random.randint(0, n_rows, self.sample_size)\n",
    "            \n",
    "            sub_X = X[index]\n",
    "            \n",
    "            tree = iTree(0, height_limit)\n",
    "            tree.fit(sub_X)\n",
    "            self.forest.append(tree)\n",
    "            \n",
    "        return self\n",
    "\n",
    "    def path_length(self, data):\n",
    "\n",
    "        edges = []\n",
    "\n",
    "        for row in data:\n",
    "            path = []\n",
    "            for tree in self.forest:\n",
    "                node = tree.root\n",
    "                length = 0\n",
    "                while isinstance(node, DecisionNode):\n",
    "                    if row[node.q_value] < node.x_value:\n",
    "                        node = node.left\n",
    "                    else:\n",
    "                        node = node.right\n",
    "                    length += 1\n",
    "                \n",
    "                leaf_size = node.size\n",
    "                path_length = length + c(leaf_size)\n",
    "                path.append(path_length)\n",
    "            \n",
    "            edges.append(path)\n",
    "        edges = np.array(edges)\n",
    "        return np.mean(edges, axis = -1)\n",
    "\n",
    "    def decision_function(self, data):\n",
    "\n",
    "        average_length = self.path_length(data)\n",
    "        scores = np.array([np.power(2, -l/c(self.sample_size)) for l in average_length])\n",
    "        #WARNING fix - and +0.5\n",
    "        scores = -scores + 0.4775\n",
    "        return scores\n",
    "\n",
    "    def predict_from_score(self, scores, threshold):\n",
    "        return np.array([1 if s >= threshold else 0 for s in scores])\n",
    "\n",
    "    def predict(self, data, threshold):\n",
    "        scores = self.decision_function(data)\n",
    "        prediction = self.predict_from_score(scores, threshold)\n",
    "        return prediction"
   ]
  },
  {
   "cell_type": "code",
   "execution_count": 3,
   "metadata": {},
   "outputs": [],
   "source": [
    "class Leaf:\n",
    "\n",
    "    def __init__(self, size, data) -> None:\n",
    "        self.size = size\n",
    "        self.data = data"
   ]
  },
  {
   "cell_type": "code",
   "execution_count": 4,
   "metadata": {},
   "outputs": [],
   "source": [
    "class DecisionNode:\n",
    "\n",
    "    def __init__(self, left, right, q_value, x_value) -> None:\n",
    "        self.left = left\n",
    "        self.right = right\n",
    "        self.q_value = q_value\n",
    "        self.x_value = x_value"
   ]
  },
  {
   "cell_type": "code",
   "execution_count": 5,
   "metadata": {},
   "outputs": [],
   "source": [
    "class iTree():\n",
    "\n",
    "    def __init__(self, current_height, height_limit) -> None:\n",
    "        self.current_height = current_height\n",
    "        self.heigh_limit = height_limit\n",
    "\n",
    "    def fit(self, sub_sample):\n",
    "        \n",
    "        X = sub_sample\n",
    "        \n",
    "        if self.current_height >= self.heigh_limit or X.shape[0] <= 2:\n",
    "            self.root = Leaf(X.shape[0], X)\n",
    "            return self.root\n",
    "        else:\n",
    "            #Chosing random q value\n",
    "            n_attributes = X.shape[1]\n",
    "            q_value = np.random.randint(0, n_attributes)\n",
    "            #Chosing random x value\n",
    "            x_value = np.random.uniform(min(X[:, q_value]), max(X[:, q_value]))\n",
    "\n",
    "            X_left = X[X[:, q_value] < x_value]\n",
    "            X_right = X[X[:, q_value] >= x_value]\n",
    "\n",
    "            left_subtree = iTree(self.current_height + 1, self.heigh_limit)\n",
    "            right_subtree = iTree(self.current_height + 1, self.heigh_limit)\n",
    "\n",
    "            left_subtree.fit(X_left)\n",
    "            right_subtree.fit(X_right)\n",
    "\n",
    "            self.root = DecisionNode(left_subtree.root, right_subtree.root, q_value, x_value)\n",
    "            self.n_nodes = self.count_nodes(self.root)\n",
    "\n",
    "            return self.root\n",
    "\n",
    "    def count_nodes(self, root):\n",
    "            \n",
    "        count = 0\n",
    "        stack = [root]\n",
    "           \n",
    "        while stack:\n",
    "            node = stack.pop()\n",
    "            count += 1\n",
    "\n",
    "        if isinstance(node, DecisionNode):\n",
    "            stack.append(node.right)\n",
    "            stack.append(node.left)\n",
    "\n",
    "        return count\n"
   ]
  },
  {
   "cell_type": "markdown",
   "metadata": {},
   "source": [
    "Code for testing and running the classes and functions:"
   ]
  },
  {
   "cell_type": "code",
   "execution_count": 6,
   "metadata": {},
   "outputs": [],
   "source": [
    "from __future__ import division\n",
    "from __future__ import print_function\n",
    "\n",
    "import os\n",
    "import sys\n",
    "from time import time\n",
    "\n",
    "# temporary solution for relative imports in case pyod is not installed\n",
    "# if pyod is installed, no need to use the following line\n",
    "sys.path.append(\n",
    "    os.path.abspath(os.path.join(os.path.dirname(\"__file__\"), '..')))\n",
    "\n",
    "from numpy import percentile\n",
    "import matplotlib.pyplot as plt"
   ]
  },
  {
   "cell_type": "code",
   "execution_count": 7,
   "metadata": {},
   "outputs": [],
   "source": [
    "# Define the number of inliers and outliers\n",
    "n_samples = 200\n",
    "outliers_fraction = 0.25\n",
    "clusters_separation = [0]\n",
    "\n",
    "# Compare given detectors under given settings\n",
    "# Initialize the data\n",
    "xx, yy = np.meshgrid(np.linspace(-7, 7, 100), np.linspace(-7, 7, 100))\n",
    "n_inliers = int((1. - outliers_fraction) * n_samples)\n",
    "n_outliers = int(outliers_fraction * n_samples)\n",
    "ground_truth = np.zeros(n_samples, dtype=int)\n",
    "ground_truth[-n_outliers:] = 1"
   ]
  },
  {
   "cell_type": "code",
   "execution_count": 8,
   "metadata": {},
   "outputs": [],
   "source": [
    "random_state = np.random.RandomState(42)"
   ]
  },
  {
   "cell_type": "code",
   "execution_count": 10,
   "metadata": {},
   "outputs": [
    {
     "data": {
      "text/plain": [
       "<Figure size 1080x864 with 0 Axes>"
      ]
     },
     "metadata": {},
     "output_type": "display_data"
    },
    {
     "data": {
      "image/png": "[encoded data removed]",
      "text/plain": [
       "<Figure size 720x720 with 1 Axes>"
      ]
     },
     "metadata": {
      "needs_background": "light"
     },
     "output_type": "display_data"
    }
   ],
   "source": [
    "# Fit the models with the generated data and \n",
    "# compare model performances\n",
    "def c(size):\n",
    "    if size > 2:\n",
    "        return 2 * (np.log(size-1)+0.5772156649) - 2*(size-1)/size\n",
    "    if size == 2:\n",
    "        return 1\n",
    "    return 0\n",
    "\n",
    "np.random.seed(42)\n",
    "clf = antonForest(100, 256, random_state=random_state)\n",
    "# Data generation\n",
    "X1 = 0.3 * np.random.randn(n_inliers // 2, 2) #Removed offest\n",
    "X2 = 0.3 * np.random.randn(n_inliers // 2, 2) #Removed offset\n",
    "X = np.r_[X1, X2]\n",
    "# Add outliers\n",
    "X = np.r_[X, np.random.uniform(low=-6, high=6, size=(n_outliers, 2))]\n",
    "\n",
    "# Fit the model\n",
    "plt.figure(figsize=(15, 12))\n",
    "# fit the data and tag outliers\n",
    "clf.fit(X)\n",
    "#WARNING put +1\n",
    "scores_pred = clf.decision_function(X) * 1 \n",
    "threshold = percentile(scores_pred, 100 * outliers_fraction)\n",
    "y_pred = clf.predict(X, threshold) * -1\n",
    "y_pred = (y_pred + 1) / 2\n",
    "n_errors = (y_pred != ground_truth).sum()\n",
    "# plot the levels lines and the points\n",
    "\n",
    "#WARNING +1\n",
    "Z = clf.decision_function(np.c_[xx.ravel(), yy.ravel()]) * 1\n",
    "Z = Z.reshape(xx.shape)\n",
    "plt.figure(figsize=[10,10])\n",
    "subplot = plt.subplot(2, 2, 1)\n",
    "subplot.contourf(xx, yy, Z, levels=np.linspace(Z.min(), threshold, 7),\n",
    "                    cmap=plt.cm.Blues_r)\n",
    "a = subplot.contour(xx, yy, Z, levels=[threshold], #Removed - in front of threshold, since -score\n",
    "                    linewidths=2, colors='red')\n",
    "subplot.contourf(xx, yy, Z, levels=[threshold, Z.max()],\n",
    "                    colors='orange')\n",
    "b = subplot.scatter(X[:-n_outliers, 0], X[:-n_outliers, 1], c='white',\n",
    "                    s=20, edgecolor='k')\n",
    "c = subplot.scatter(X[-n_outliers:, 0], X[-n_outliers:, 1], c='black',\n",
    "                    s=20, edgecolor='k')\n",
    "subplot.axis('tight')\n",
    "subplot.set_xlabel(\"%d. %s (errors: %d)\" % (1, \"Isolation Forest\", n_errors))\n",
    "subplot.set_xlim((-7, 7))\n",
    "subplot.set_ylim((-7, 7))\n",
    "plt.subplots_adjust(0.04, 0.1, 0.96, 0.94, 0.1, 0.26)\n",
    "plt.suptitle(\"Outlier detection\")\n",
    "plt.show()"
   ]
  },
  {
   "cell_type": "code",
   "execution_count": 162,
   "metadata": {},
   "outputs": [
    {
     "name": "stdout",
     "output_type": "stream",
     "text": [
      "1 fitting Isolation Forest\n"
     ]
    },
    {
     "data": {
      "text/plain": [
       "<Figure size 1080x864 with 0 Axes>"
      ]
     },
     "metadata": {},
     "output_type": "display_data"
    },
    {
     "data": {
      "image/png": "[encoded data removed]",
      "text/plain": [
       "<Figure size 720x720 with 1 Axes>"
      ]
     },
     "metadata": {
      "needs_background": "light"
     },
     "output_type": "display_data"
    }
   ],
   "source": [
    "# Fit the models with the generated data and \n",
    "# compare model performances\n",
    "def c(size):\n",
    "    if size > 2:\n",
    "        return 2 * (np.log(size-1)+0.5772156649) - 2*(size-1)/size\n",
    "    if size == 2:\n",
    "        return 1\n",
    "    return 0\n",
    "\n",
    "\n",
    "np.random.seed(42)\n",
    "# Data generation\n",
    "X1 = 0.3 * np.random.randn(n_inliers // 2, 2) #Removed offest\n",
    "X2 = 0.3 * np.random.randn(n_inliers // 2, 2) #Removed offset\n",
    "X = np.r_[X1, X2]\n",
    "# Add outliers\n",
    "X = np.r_[X, np.random.uniform(low=-6, high=6, size=(n_outliers, 2))]\n",
    "\n",
    "# Fit the model\n",
    "plt.figure(figsize=(15, 12))\n",
    "for i, (clf_name, clf) in enumerate(classifiers.items()):\n",
    "    print(i + 1, 'fitting', clf_name)\n",
    "    # fit the data and tag outliers\n",
    "    clf.fit(X)\n",
    "    #WARNING put +1\n",
    "    scores_pred = clf.decision_function(X) * 1 \n",
    "    threshold = percentile(scores_pred, 100 * outliers_fraction)\n",
    "    y_pred = clf.predict(X, threshold) * -1\n",
    "    y_pred = (y_pred + 1) / 2\n",
    "    n_errors = (y_pred != ground_truth).sum()\n",
    "    # plot the levels lines and the points\n",
    "\n",
    "    #WARNING +1\n",
    "    Z = clf.decision_function(np.c_[xx.ravel(), yy.ravel()]) * 1\n",
    "    Z = Z.reshape(xx.shape)\n",
    "    plt.figure(figsize=[10,10])\n",
    "    subplot = plt.subplot(2, 2, 1)\n",
    "    subplot.contourf(xx, yy, Z, levels=np.linspace(Z.min(), threshold, 7),\n",
    "                        cmap=plt.cm.Blues_r)\n",
    "    a = subplot.contour(xx, yy, Z, levels=[threshold], #Removed - in front of threshold, since -score\n",
    "                        linewidths=2, colors='red')\n",
    "    subplot.contourf(xx, yy, Z, levels=[threshold, Z.max()],\n",
    "                        colors='orange')\n",
    "    b = subplot.scatter(X[:-n_outliers, 0], X[:-n_outliers, 1], c='white',\n",
    "                        s=20, edgecolor='k')\n",
    "    c = subplot.scatter(X[-n_outliers:, 0], X[-n_outliers:, 1], c='black',\n",
    "                        s=20, edgecolor='k')\n",
    "    subplot.axis('tight')\n",
    "    subplot.set_xlabel(\"%d. %s (errors: %d)\" % (i + 1, clf_name, n_errors))\n",
    "    subplot.set_xlim((-7, 7))\n",
    "    subplot.set_ylim((-7, 7))\n",
    "plt.subplots_adjust(0.04, 0.1, 0.96, 0.94, 0.1, 0.26)\n",
    "plt.suptitle(\"Outlier detection\")\n",
    "plt.show()"
   ]
  },
  {
   "cell_type": "code",
   "execution_count": 126,
   "metadata": {},
   "outputs": [
    {
     "data": {
      "text/plain": [
       "(array([  7.,  12.,  21.,   9.,   1.,   1.,   3.,   5.,  38., 103.]),\n",
       " array([-0.19999444, -0.1655087 , -0.13102297, -0.09653723, -0.0620515 ,\n",
       "        -0.02756576,  0.00691997,  0.04140571,  0.07589144,  0.11037718,\n",
       "         0.14486291]),\n",
       " <BarContainer object of 10 artists>)"
      ]
     },
     "execution_count": 126,
     "metadata": {},
     "output_type": "execute_result"
    },
    {
     "data": {
      "image/png": "[encoded data removed]",
      "text/plain": [
       "<Figure size 432x288 with 1 Axes>"
      ]
     },
     "metadata": {
      "needs_background": "light"
     },
     "output_type": "display_data"
    }
   ],
   "source": [
    "def c(size):\n",
    "    if size > 2:\n",
    "        return 2 * (np.log(size-1)+0.5772156649) - 2*(size-1)/size\n",
    "    if size == 2:\n",
    "        return 1\n",
    "    return 0\n",
    "\n",
    "clf = antonForest(100, 256, random_state)\n",
    "clf.fit(X)\n",
    "plt.hist(clf.decision_function(X))"
   ]
  },
  {
   "cell_type": "code",
   "execution_count": null,
   "metadata": {},
   "outputs": [],
   "source": []
  },
  {
   "cell_type": "code",
   "execution_count": null,
   "metadata": {},
   "outputs": [],
   "source": []
  }
 ],
 "metadata": {
  "interpreter": {
   "hash": "c4a31993002339e453ebb2c66c294fd01e84ed8cca375c93fb5e33ef382fbc8b"
  },
  "kernelspec": {
   "display_name": "Python 3.9.10 64-bit (windows store)",
   "language": "python",
   "name": "python3"
  },
  "language_info": {
   "codemirror_mode": {
    "name": "ipython",
    "version": 3
   },
   "file_extension": ".py",
   "mimetype": "text/x-python",
   "name": "python",
   "nbconvert_exporter": "python",
   "pygments_lexer": "ipython3",
   "version": "3.9.10"
  },
  "orig_nbformat": 4
 },
 "nbformat": 4,
 "nbformat_minor": 2
}
