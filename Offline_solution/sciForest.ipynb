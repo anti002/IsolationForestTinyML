{
 "cells": [
  {
   "cell_type": "code",
   "execution_count": 1,
   "metadata": {},
   "outputs": [],
   "source": [
    "from __future__ import division\n",
    "from __future__ import print_function\n",
    "from sklearn.ensemble import IsolationForest\n",
    "\n",
    "import os\n",
    "import sys\n",
    "from time import time\n",
    "\n",
    "# temporary solution for relative imports in case pyod is not installed\n",
    "# if pyod is installed, no need to use the following line\n",
    "sys.path.append(\n",
    "    os.path.abspath(os.path.join(os.path.dirname(\"__file__\"), '..')))\n",
    "\n",
    "import numpy as np\n",
    "from numpy import percentile\n",
    "from sklearn.metrics import average_precision_score\n",
    "import scipy.io\n",
    "import matplotlib.pyplot as plt"
   ]
  },
  {
   "cell_type": "code",
   "execution_count": 3,
   "metadata": {},
   "outputs": [],
   "source": [
    "# Define the number of inliers and outliers\n",
    "n_samples = 256\n",
    "outliers_fraction = 0.25\n",
    "clusters_separation = [0]\n",
    "\n",
    "# Compare given detectors under given settings\n",
    "# Initialize the data\n",
    "xx, yy = np.meshgrid(np.linspace(-7, 7, 100), np.linspace(-7, 7, 100))\n",
    "n_inliers = int((1. - outliers_fraction) * n_samples)\n",
    "n_outliers = int(outliers_fraction * n_samples)\n",
    "ground_truth = np.zeros(n_samples, dtype=int)\n",
    "ground_truth[-n_outliers:] = 1"
   ]
  },
  {
   "cell_type": "code",
   "execution_count": 4,
   "metadata": {},
   "outputs": [],
   "source": [
    "random_state = np.random.RandomState(42)\n",
    "# Define nine outlier detection tools to be compared\n",
    "classifiers = {\n",
    "    'Isolation Forest': IsolationForest(contamination=outliers_fraction,\n",
    "                                random_state=random_state)\n",
    "}"
   ]
  },
  {
   "cell_type": "code",
   "execution_count": 5,
   "metadata": {},
   "outputs": [
    {
     "data": {
      "text/plain": [
       "{'whiskers': [<matplotlib.lines.Line2D at 0x1ee685705b0>,\n",
       "  <matplotlib.lines.Line2D at 0x1ee68570880>],\n",
       " 'caps': [<matplotlib.lines.Line2D at 0x1ee68570c10>,\n",
       "  <matplotlib.lines.Line2D at 0x1ee68570e20>],\n",
       " 'boxes': [<matplotlib.lines.Line2D at 0x1ee685702e0>],\n",
       " 'medians': [<matplotlib.lines.Line2D at 0x1ee6851ef10>],\n",
       " 'fliers': [<matplotlib.lines.Line2D at 0x1ee58521640>],\n",
       " 'means': []}"
      ]
     },
     "execution_count": 5,
     "metadata": {},
     "output_type": "execute_result"
    },
    {
     "data": {
      "image/png": "[encoded data removed]",
      "text/plain": [
       "<Figure size 432x288 with 1 Axes>"
      ]
     },
     "metadata": {
      "needs_background": "light"
     },
     "output_type": "display_data"
    }
   ],
   "source": [
    "# Fit the models with the generated data and \n",
    "# compare model performances\n",
    "for i, offset in enumerate(clusters_separation):\n",
    "    np.random.seed(42)\n",
    "    # Data generation\n",
    "    #X1 = 0.3 * np.random.randn(n_inliers // 2, 2) - offset\n",
    "    #X2 = 0.3 * np.random.randn(n_inliers // 2, 2) + offset\n",
    "    #X = np.r_[X1, X2]\n",
    "    # Add outliers\n",
    "    #X = np.r_[X, np.random.uniform(low=-6, high=6, size=(n_outliers, 2))]\n",
    "    data = scipy.io.loadmat('C:\\\\Users\\\\anton\\\\OneDrive\\\\Skrivbord\\\\Thesis_Code\\\\IsolationForestTinyML\\\\DatSets\\\\wine.mat',\n",
    "                        squeeze_me=False)\n",
    "\n",
    "    enlist = list(data.items())\n",
    "    X = np.array(enlist, dtype=object)\n",
    "    X = np.delete(X, 0, 0)\n",
    "    X = np.delete(X, 0, 0)\n",
    "    X = np.delete(X, 0, 0)\n",
    "    X = np.delete(X, 0, 1)\n",
    "\n",
    "    y_true = np.empty([1,0], dtype=int)\n",
    "\n",
    "    #print(X[1][0][0])\n",
    "    k = 0\n",
    "    while k < len(X[1][0]):\n",
    "        y_true = np.append(y_true, int(X[1][0][k]))\n",
    "        k += 1\n",
    "\n",
    "    X = X[0][0]\n",
    "    # Fit the model\n",
    "    #plt.figure(figsize=(15, 12))\n",
    "    for i, (clf_name, clf) in enumerate(classifiers.items()):\n",
    "        #print(i + 1, 'fitting', clf_name)\n",
    "        # fit the data and tag outliers\n",
    "        p = 0\n",
    "        aps = []\n",
    "        while p < 10:\n",
    "            clf.fit(X)\n",
    "            #WARNING put +1\n",
    "            scores_pred = clf.decision_function(X) * 1 \n",
    "            threshold = percentile(scores_pred, 100 * outliers_fraction)\n",
    "            y_pred = clf.predict(X) * -1\n",
    "            y_pred = (y_pred + 1) / 2\n",
    "            aps.append(average_precision_score(y_true, scores_pred))\n",
    "            p += 1\n",
    "        #n_errors = (y_pred != ground_truth).sum()\n",
    "        # plot the levels lines and the points\n",
    "        #WARNING +1\n",
    "        #Z = clf.decision_function(np.c_[xx.ravel(), yy.ravel()]) * 1\n",
    "        #Z = Z.reshape(xx.shape)\n",
    "        #plt.figure(figsize=[10,10])\n",
    "        #subplot = plt.subplot(2, 2, 1)\n",
    "        #subplot.contourf(xx, yy, Z, levels=np.linspace(Z.min(), threshold, 7),\n",
    "        #                 cmap=plt.cm.Blues_r)\n",
    "        #a = subplot.contour(xx, yy, Z, levels=[-threshold],\n",
    "        #                    linewidths=2, colors='red')\n",
    "        #subplot.contourf(xx, yy, Z, levels=[threshold, Z.max()],\n",
    "        #                 colors='orange')\n",
    "        #b = subplot.scatter(X[:-n_outliers, 0], X[:-n_outliers, 1], c='white',\n",
    "        #                    s=20, edgecolor='k')\n",
    "        #c = subplot.scatter(X[-n_outliers:, 0], X[-n_outliers:, 1], c='black',\n",
    "        #                    s=20, edgecolor='k')\n",
    "        #subplot.axis('tight')\n",
    "        #subplot.legend(\n",
    "         #   [a.collections[0], b, c],\n",
    "        #    ['learned decision function', 'true inliers', 'true outliers'],\n",
    "          #  prop=matplotlib.font_manager.FontProperties(size=10),\n",
    "          #  loc='lower right')\n",
    "        #subplot.set_xlabel(\"%d. %s (errors: %d)\" % (i + 1, clf_name, n_errors))\n",
    "        #subplot.set_xlim((-7, 7))\n",
    "        #subplot.set_ylim((-7, 7))\n",
    "    #plt.subplots_adjust(0.04, 0.1, 0.96, 0.94, 0.1, 0.26)\n",
    "    #plt.suptitle(\"Outlier detection\")\n",
    "#plt.show()\n",
    "plt.boxplot(aps)"
   ]
  },
  {
   "cell_type": "code",
   "execution_count": 6,
   "metadata": {},
   "outputs": [
    {
     "data": {
      "text/plain": [
       "array([  1,   2,   3,   4,   5,  -1,   7,  -1,  -1,  10,  -1,  12,  13,\n",
       "        14,  -1,  -1,  -1,  -1,  19,  20,  21,  -1,  -1,  -1,  -1,  26,\n",
       "        27,  28,  29,  30,  31,  -1,  -1,  34,  -1,  -1,  37,  38,  -1,\n",
       "        -1,  41,  -1,  -1,  44,  45,  46,  -1,  -1,  49,  -1,  -1,  52,\n",
       "        -1,  54,  -1,  -1,  57,  -1,  59,  -1,  -1,  62,  63,  64,  65,\n",
       "        -1,  67,  -1,  -1,  70,  71,  -1,  -1,  -1,  -1,  -1,  77,  78,\n",
       "        79,  80,  81,  -1,  83,  84,  -1,  -1,  -1,  88,  89,  -1,  -1,\n",
       "        92,  93,  -1,  -1,  96,  -1,  -1,  99, 100,  -1,  -1, 103,  -1,\n",
       "       105, 106,  -1,  -1,  -1, 110, 111, 112,  -1,  -1,  -1, 116, 117,\n",
       "        -1, 119,  -1,  -1,  -1, 123, 124, 125, 126, 127, 128,  -1,  -1,\n",
       "        -1, 132, 133,  -1,  -1, 136,  -1,  -1, 139, 140,  -1, 142,  -1,\n",
       "        -1,  -1, 146, 147, 148,  -1,  -1, 151, 152,  -1,  -1, 155,  -1,\n",
       "        -1,  -1, 159, 160,  -1, 162, 163, 164,  -1,  -1,  -1, 168, 169,\n",
       "        -1,  -1, 172,  -1,  -1, 175,  -1,  -1], dtype=int64)"
      ]
     },
     "execution_count": 6,
     "metadata": {},
     "output_type": "execute_result"
    }
   ],
   "source": [
    "\n",
    "clf.estimators_[0].tree_.children_left"
   ]
  },
  {
   "cell_type": "code",
   "execution_count": 7,
   "metadata": {},
   "outputs": [
    {
     "data": {
      "text/plain": [
       "array([ 76,  25,  18,   9,   6,  -1,   8,  -1,  -1,  11,  -1,  17,  16,\n",
       "        15,  -1,  -1,  -1,  -1,  24,  23,  22,  -1,  -1,  -1,  -1,  61,\n",
       "        56,  43,  36,  33,  32,  -1,  -1,  35,  -1,  -1,  40,  39,  -1,\n",
       "        -1,  42,  -1,  -1,  51,  48,  47,  -1,  -1,  50,  -1,  -1,  53,\n",
       "        -1,  55,  -1,  -1,  58,  -1,  60,  -1,  -1,  75,  74,  69,  66,\n",
       "        -1,  68,  -1,  -1,  73,  72,  -1,  -1,  -1,  -1,  -1, 122, 109,\n",
       "        98,  87,  82,  -1,  86,  85,  -1,  -1,  -1,  91,  90,  -1,  -1,\n",
       "        95,  94,  -1,  -1,  97,  -1,  -1, 102, 101,  -1,  -1, 104,  -1,\n",
       "       108, 107,  -1,  -1,  -1, 115, 114, 113,  -1,  -1,  -1, 121, 118,\n",
       "        -1, 120,  -1,  -1,  -1, 158, 145, 138, 131, 130, 129,  -1,  -1,\n",
       "        -1, 135, 134,  -1,  -1, 137,  -1,  -1, 144, 141,  -1, 143,  -1,\n",
       "        -1,  -1, 157, 150, 149,  -1,  -1, 154, 153,  -1,  -1, 156,  -1,\n",
       "        -1,  -1, 174, 161,  -1, 167, 166, 165,  -1,  -1,  -1, 171, 170,\n",
       "        -1,  -1, 173,  -1,  -1, 176,  -1,  -1], dtype=int64)"
      ]
     },
     "execution_count": 7,
     "metadata": {},
     "output_type": "execute_result"
    }
   ],
   "source": [
    "\n",
    "clf.estimators_[0].tree_.children_right"
   ]
  },
  {
   "cell_type": "code",
   "execution_count": 8,
   "metadata": {},
   "outputs": [
    {
     "data": {
      "text/plain": [
       "array([ 7,  1,  5, 10,  6, -2,  6, -2, -2,  6, -2,  5, 12,  8, -2, -2, -2,\n",
       "       -2,  4,  9,  6, -2, -2, -2, -2,  2,  8,  3,  1,  9,  6, -2, -2,  4,\n",
       "       -2, -2,  6,  1, -2, -2,  6, -2, -2, 11,  2,  4, -2, -2,  3, -2, -2,\n",
       "        1, -2, 11, -2, -2,  1, -2,  9, -2, -2,  2, 11,  5,  7, -2,  2, -2,\n",
       "       -2,  4,  9, -2, -2, -2, -2, -2, 11,  7,  9,  9, 12, -2,  2, 12, -2,\n",
       "       -2, -2,  0,  8, -2, -2, 10,  0, -2, -2,  2, -2, -2,  0,  1, -2, -2,\n",
       "        7, -2,  6, 12, -2, -2, -2,  7,  8,  7, -2, -2, -2, 10,  9, -2, 10,\n",
       "       -2, -2, -2, 10, 11, 10, 10,  6,  6, -2, -2, -2,  0,  6, -2, -2, 12,\n",
       "       -2, -2,  0,  8, -2, 11, -2, -2, -2,  1,  5, 12, -2, -2, 11,  1, -2,\n",
       "       -2,  6, -2, -2, -2,  3,  0, -2,  1,  3,  4, -2, -2, -2,  4,  5, -2,\n",
       "       -2,  3, -2, -2,  5, -2, -2], dtype=int64)"
      ]
     },
     "execution_count": 8,
     "metadata": {},
     "output_type": "execute_result"
    }
   ],
   "source": [
    "clf.estimators_[0].tree_.feature"
   ]
  },
  {
   "cell_type": "code",
   "execution_count": 10,
   "metadata": {},
   "outputs": [
    {
     "data": {
      "text/plain": [
       "177"
      ]
     },
     "execution_count": 10,
     "metadata": {},
     "output_type": "execute_result"
    }
   ],
   "source": [
    "len(clf.estimators_[0].tree_.threshold )"
   ]
  },
  {
   "cell_type": "code",
   "execution_count": 18,
   "metadata": {},
   "outputs": [
    {
     "name": "stdout",
     "output_type": "stream",
     "text": [
      "129\n"
     ]
    }
   ],
   "source": [
    "# Fit the models with the generated data and \n",
    "# compare model performances\n",
    "for i, offset in enumerate(clusters_separation):\n",
    "    np.random.seed(42)\n",
    "    # Data generation\n",
    "    #X1 = 0.3 * np.random.randn(n_inliers // 2, 2) - offset\n",
    "    #X2 = 0.3 * np.random.randn(n_inliers // 2, 2) + offset\n",
    "    #X = np.r_[X1, X2]\n",
    "    # Add outliers\n",
    "    #X = np.r_[X, np.random.uniform(low=-6, high=6, size=(n_outliers, 2))]\n",
    "    data = scipy.io.loadmat('C:\\\\Users\\\\anton\\\\OneDrive\\\\Skrivbord\\\\Thesis_Code\\\\IsolationForestTinyML\\\\DatSets\\\\wine.mat',\n",
    "                        squeeze_me=False)\n",
    "\n",
    "    enlist = list(data.items())\n",
    "    X = np.array(enlist, dtype=object)\n",
    "    X = np.delete(X, 0, 0)\n",
    "    X = np.delete(X, 0, 0)\n",
    "    X = np.delete(X, 0, 0)\n",
    "    X = np.delete(X, 0, 1)\n",
    "\n",
    "    y_true = np.empty([1,0], dtype=int)\n",
    "\n",
    "    #print(X[1][0][0])\n",
    "    k = 0\n",
    "    while k < len(X[1][0]):\n",
    "        y_true = np.append(y_true, int(X[1][0][k]))\n",
    "        k += 1\n",
    "\n",
    "    X = X[0][0]\n",
    "    # Fit the model\n",
    "    #plt.figure(figsize=(15, 12))\n",
    "    for i, (clf_name, clf) in enumerate(classifiers.items()):\n",
    "        #print(i + 1, 'fitting', clf_name)\n",
    "        # fit the data and tag outliers\n",
    "        p = 0\n",
    "        aps = []\n",
    "        #while p < 10:\n",
    "        clf.fit(X)\n",
    "        #WARNING put +1\n",
    "        scores_pred = clf.decision_function(X) * 1 \n",
    "        threshold = percentile(scores_pred, 100 * outliers_fraction)\n",
    "        y_pred = clf.predict(X) * -1\n",
    "        y_pred = (y_pred + 1) / 2\n",
    "        aps.append(average_precision_score(y_true, scores_pred))\n",
    "        p += 1\n",
    "        print(len(scores_pred))\n",
    "    \n",
    "    from sklearn.preprocessing import MinMaxScaler\n",
    "    \n",
    "    scaler = MinMaxScaler()\n",
    "\n",
    "    scaler.fit(X)\n",
    "\n",
    "    max = scaler.data_max_\n",
    "    min = scaler.data_min_\n",
    "\n",
    "    norm_data = scaler.transform(X)\n",
    "\n",
    "\n",
    "    #clf.fit(norm_data)   \n",
    "    #print(scores_pred)\n",
    "    #scores_pred = clf.decision_function(norm_data)\n",
    "    #print(scores_pred)\n",
    "\n"
   ]
  },
  {
   "cell_type": "code",
   "execution_count": 19,
   "metadata": {},
   "outputs": [
    {
     "name": "stdout",
     "output_type": "stream",
     "text": [
      "[ 0.00515888 -0.03305003  0.04857145 -0.03202354 -0.00759219  0.02868853\n",
      " -0.0151185   0.04774557 -0.0654046  -0.02053494 -0.08035324 -0.01599528\n",
      "  0.01234115  0.03734211  0.02420205  0.03592073  0.05190329 -0.0092272\n",
      "  0.04202334  0.00333961 -0.04936631  0.02664093 -0.0164589   0.04497805\n",
      " -0.07843726  0.00652409  0.03577147  0.0142915   0.06604957 -0.0116923\n",
      "  0.03983616  0.05370686  0.07851817  0.05160217  0.0401003   0.05292141\n",
      "  0.08180635  0.07086776  0.04165248  0.06589416  0.04221858  0.05266613\n",
      "  0.05783869  0.04728676  0.04710686  0.03380349 -0.03701247 -0.03152855\n",
      "  0.05105577  0.01424845  0.01084541  0.04967113  0.0620272   0.07607218\n",
      "  0.0757052   0.07318846  0.00495816  0.0755566   0.05341131  0.0577002\n",
      "  0.03982717 -0.05203498  0.0589111   0.00013355  0.04439704  0.06196428\n",
      " -0.05181512  0.0721627   0.06870006  0.          0.04374753  0.06288734\n",
      " -0.1222859   0.02245604 -0.02304222 -0.034082    0.06373806  0.04476538\n",
      "  0.01065084  0.06067878  0.05722437  0.01619193  0.04919912  0.0213412\n",
      "  0.01984362  0.01903961  0.03036641 -0.01540547 -0.01499205  0.03225961\n",
      "  0.04068668  0.03860522  0.027067    0.01430772  0.04983347 -0.00263779\n",
      "  0.04441134 -0.07054885  0.03753833  0.06452052  0.02633957 -0.01358577\n",
      " -0.01622352 -0.01055932  0.01820329  0.02470531  0.0205821   0.03183951\n",
      " -0.00203641 -0.08605608 -0.00895011  0.04455656  0.04668329  0.04684283\n",
      "  0.05860643  0.04589678  0.03135661  0.02786217  0.03618363  0.02957624\n",
      " -0.01041847  0.03387968 -0.00051037  0.03366083  0.02855028  0.05565684\n",
      "  0.01783942  0.03579079  0.00298283]\n"
     ]
    }
   ],
   "source": [
    "print(scores_pred)"
   ]
  },
  {
   "cell_type": "code",
   "execution_count": 20,
   "metadata": {},
   "outputs": [
    {
     "data": {
      "text/plain": [
       "2"
      ]
     },
     "execution_count": 20,
     "metadata": {},
     "output_type": "execute_result"
    }
   ],
   "source": [
    "file = open(\"save_vectors.ino\", \"w\")\n",
    "\n",
    "file.write(\"#include <vector>\\n\")\n",
    "file.write(\"using namespace std;\\n\\n\")\n",
    "file.write(\"struct Tree{\\n\")\n",
    "file.write(\"    int child_id_left, child_id_right, feature, n_samples;\\n\")\n",
    "file.write(\"    float threshold;\\n\")\n",
    "file.write(\"};\\n\\n\")\n",
    "\n",
    "file.write(\"vector<vector<Tree>> iForest;\\n\")\n",
    "m = 0\n",
    "while m < clf.n_estimators:\n",
    "    file.write(\"std::vector<Tree> iTree\" + str(m + 1) + \";\\n\")\n",
    "    m += 1\n",
    "file.write(\"\\n\")\n",
    "\n",
    "f = 0\n",
    "file.write(\"void setup() {\\n\")\n",
    "file.write(\"    Serial.begin(9600);\\n\")\n",
    "while f < clf.n_estimators:\n",
    "    j = 0\n",
    "    while j < len(clf.estimators_[f].tree_.feature):\n",
    "        temp_child_l = clf.estimators_[f].tree_.children_left[j]\n",
    "        if clf.estimators_[f].tree_.children_left[j] == -1:\n",
    "            temp_child_l = 0\n",
    "\n",
    "        temp_child_r = clf.estimators_[f].tree_.children_right[j]\n",
    "        if temp_child_r == clf.estimators_[f].tree_.children_right[j] == -1:\n",
    "            temp_child_r = 0\n",
    "\n",
    "        temp_feature = clf.estimators_[f].tree_.feature[j]\n",
    "        temp_threshold = clf.estimators_[f].tree_.threshold[j]\n",
    "        temps_values = clf.estimators_[f].tree_.n_node_samples[j]\n",
    "\n",
    "        file.write(\"    iTree\" + str(f + 1) + \".push_back({\"  \n",
    "                                                            + str(temp_child_l) + \", \"\n",
    "                                                            + str(temp_child_r) + \", \"\n",
    "                                                            + str(temp_feature) + \", \"\n",
    "                                                            + str(temps_values) + \", \"\n",
    "                                                            + str(temp_threshold) + \n",
    "                                                        \"});\\n\")\n",
    "\n",
    "        j += 1\n",
    "\n",
    "    file.write(\"    iForest.push_back(iTree\" + str(f + 1) + \");\\n\\n\")\n",
    "    f += 1\n",
    "\n",
    "rows = f*j\n",
    "memory_per_vector = 8\n",
    "allocated_memory = rows * memory_per_vector\n",
    "file.write(\"}\\n\")\n",
    "file.write(\"void loop() {\\n\")\n",
    "file.write(\"\\n}\")\n",
    "\n",
    "\n"
   ]
  },
  {
   "cell_type": "code",
   "execution_count": 61,
   "metadata": {},
   "outputs": [
    {
     "ename": "TypeError",
     "evalue": "'numpy.ndarray' object is not callable",
     "output_type": "error",
     "traceback": [
      "\u001b[1;31m---------------------------------------------------------------------------\u001b[0m",
      "\u001b[1;31mTypeError\u001b[0m                                 Traceback (most recent call last)",
      "\u001b[1;32mc:\\Users\\anton\\OneDrive\\Skrivbord\\Thesis_Code\\IsolationForestTinyML\\PyOffline_solution\\sciForest.ipynb Cell 9'\u001b[0m in \u001b[0;36m<module>\u001b[1;34m\u001b[0m\n\u001b[0;32m      <a href='vscode-notebook-cell:/c%3A/Users/anton/OneDrive/Skrivbord/Thesis_Code/IsolationForestTinyML/PyOffline_solution/sciForest.ipynb#ch0000008?line=4'>5</a>\u001b[0m \u001b[39mwhile\u001b[39;00m s \u001b[39m<\u001b[39m clf\u001b[39m.\u001b[39mn_estimators:\n\u001b[0;32m      <a href='vscode-notebook-cell:/c%3A/Users/anton/OneDrive/Skrivbord/Thesis_Code/IsolationForestTinyML/PyOffline_solution/sciForest.ipynb#ch0000008?line=6'>7</a>\u001b[0m     new_arr \u001b[39m=\u001b[39m np\u001b[39m.\u001b[39mdelete(clf\u001b[39m.\u001b[39mestimators_[s]\u001b[39m.\u001b[39mtree_\u001b[39m.\u001b[39mthreshold, np\u001b[39m.\u001b[39mwhere(clf\u001b[39m.\u001b[39mestimators_[s]\u001b[39m.\u001b[39mtree_\u001b[39m.\u001b[39mthreshold \u001b[39m==\u001b[39m \u001b[39m-\u001b[39m\u001b[39m2\u001b[39m))\n\u001b[1;32m----> <a href='vscode-notebook-cell:/c%3A/Users/anton/OneDrive/Skrivbord/Thesis_Code/IsolationForestTinyML/PyOffline_solution/sciForest.ipynb#ch0000008?line=7'>8</a>\u001b[0m     scale \u001b[39m=\u001b[39m (\u001b[39mmax\u001b[39;49m(new_arr)\u001b[39m-\u001b[39m\u001b[39mmin\u001b[39m(new_arr))\u001b[39m/\u001b[39m \u001b[39m255\u001b[39m\n\u001b[0;32m     <a href='vscode-notebook-cell:/c%3A/Users/anton/OneDrive/Skrivbord/Thesis_Code/IsolationForestTinyML/PyOffline_solution/sciForest.ipynb#ch0000008?line=9'>10</a>\u001b[0m     i \u001b[39m=\u001b[39m \u001b[39m0\u001b[39m\n\u001b[0;32m     <a href='vscode-notebook-cell:/c%3A/Users/anton/OneDrive/Skrivbord/Thesis_Code/IsolationForestTinyML/PyOffline_solution/sciForest.ipynb#ch0000008?line=10'>11</a>\u001b[0m     \u001b[39mwhile\u001b[39;00m i \u001b[39m<\u001b[39m \u001b[39mlen\u001b[39m(clf\u001b[39m.\u001b[39mestimators_[s]\u001b[39m.\u001b[39mtree_\u001b[39m.\u001b[39mthreshold):\n",
      "\u001b[1;31mTypeError\u001b[0m: 'numpy.ndarray' object is not callable"
     ]
    }
   ],
   "source": [
    "\n",
    "\n",
    "\n",
    "#open file\n",
    "file = open('data.txt' , 'w')\n",
    "\n",
    "s = 0\n",
    "while s < clf.n_estimators:\n",
    "\n",
    "    new_arr = np.delete(clf.estimators_[s].tree_.threshold, np.where(clf.estimators_[s].tree_.threshold == -2))\n",
    "    scale = (max(new_arr)-min(new_arr))/ 255\n",
    "\n",
    "    i = 0\n",
    "    while i < len(clf.estimators_[s].tree_.threshold):\n",
    "\n",
    "        if int(clf.estimators_[s].tree_.threshold[i]) != -2:\n",
    "            quant = round(clf.estimators_[s].tree_.threshold[i]/scale - min(new_arr)) #Correct formula?\n",
    "            clf.estimators_[s].tree_.threshold[i] = quant\n",
    "        else:\n",
    "            clf.estimators_[s].tree_.threshold[i] = clf.estimators_[s].tree_.threshold[i]\n",
    "            \n",
    "        i += 1\n",
    "    file.write(str(s + 1))\n",
    "    d = 0\n",
    "    while d < len(clf.estimators_[s].tree_.feature):\n",
    "        file.write(\" \" + str(clf.estimators_[s].tree_.children_left[d]))\n",
    "        file.write(\" \" + str(clf.estimators_[s].tree_.children_right[d]))\n",
    "        file.write(\" \" + str(clf.estimators_[s].tree_.feature[d]))\n",
    "        file.write(\" \" + str(int(clf.estimators_[s].tree_.threshold[d])))\n",
    "        file.write(\" \" + str(clf.estimators_[s].tree_.n_node_samples[d]))\n",
    "        d += 1\n",
    "    \n",
    "    file.write(\"\\n\")\n",
    "    s += 1"
   ]
  }
 ],
 "metadata": {
  "interpreter": {
   "hash": "c4a31993002339e453ebb2c66c294fd01e84ed8cca375c93fb5e33ef382fbc8b"
  },
  "kernelspec": {
   "display_name": "Python 3.9.10 64-bit (windows store)",
   "language": "python",
   "name": "python3"
  },
  "language_info": {
   "codemirror_mode": {
    "name": "ipython",
    "version": 3
   },
   "file_extension": ".py",
   "mimetype": "text/x-python",
   "name": "python",
   "nbconvert_exporter": "python",
   "pygments_lexer": "ipython3",
   "version": "3.9.10"
  },
  "orig_nbformat": 4
 },
 "nbformat": 4,
 "nbformat_minor": 2
}
