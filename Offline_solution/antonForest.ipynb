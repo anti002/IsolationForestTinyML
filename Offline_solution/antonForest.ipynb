{
 "cells": [
  {
   "cell_type": "code",
   "execution_count": 44,
   "metadata": {},
   "outputs": [],
   "source": [
    "import numpy as np"
   ]
  },
  {
   "cell_type": "code",
   "execution_count": 152,
   "metadata": {},
   "outputs": [],
   "source": [
    "class antonForest():\n",
    "\n",
    "    def __init__(self, t_trees, sample_size, random_state) -> None:\n",
    "        self.t_trees = t_trees\n",
    "        self.sample_size = sample_size\n",
    "        self.random_state = random_state\n",
    "\n",
    "    def fit(self, X):\n",
    "        \n",
    "        self.forest = []\n",
    "        height_limit = np.ceil(np.log2(self.sample_size))\n",
    "        n_rows = X.shape[0]\n",
    "        if n_rows < self.sample_size:\n",
    "            self.sample_size = n_rows\n",
    "        for i in range(self.t_trees):\n",
    "            \n",
    "            if n_rows < self.sample_size:\n",
    "                self.sample_size = n_rows\n",
    "            #index = self.random_state.choice(range(n_rows), size = self.sample_size, replace = False)\n",
    "            #This row makes the subsampling and split values random for each run\n",
    "            index = self.random_state.randint(0, n_rows, self.sample_size, replace=False)\n",
    "            #index = np.random.choice(range(n_rows), size=self.sample_size, replace=False)\n",
    "            #index = np.random.randint(0, n_rows, self.sample_size)\n",
    "            \n",
    "            sub_X = X[index]\n",
    "            \n",
    "            tree = iTree(0, height_limit)\n",
    "            tree.fit(sub_X)\n",
    "            self.forest.append(tree)\n",
    "            \n",
    "        return self\n",
    "\n",
    "    def path_length(self, data):\n",
    "\n",
    "        edges = []\n",
    "\n",
    "        for row in data:\n",
    "            path = []\n",
    "            for tree in self.forest:\n",
    "                node = tree.root\n",
    "                length = 0\n",
    "                while isinstance(node, DecisionNode):\n",
    "                    if row[node.q_value] < node.x_value:\n",
    "                        node = node.left\n",
    "                    else:\n",
    "                        node = node.right\n",
    "                    length += 1\n",
    "                leaf_size = node.size\n",
    "                path_length = length + c(leaf_size)\n",
    "                path.append(path_length)\n",
    "            \n",
    "            edges.append(path)\n",
    "        edges = np.array(edges)\n",
    "        return np.mean(edges, axis = -1)\n",
    "\n",
    "    def decision_function(self, data):\n",
    "\n",
    "        average_length = self.path_length(data)\n",
    "        scores = np.array([0.5 - np.power(2, -l/c(self.sample_size)) for l in average_length])\n",
    "        #scores = 0.5 - scores\n",
    "        return scores\n",
    "\n",
    "    def predict_from_score(self, scores, threshold):\n",
    "        return np.array([1 if s >= threshold else 0 for s in scores])\n",
    "\n",
    "    def predict(self, data, threshold):\n",
    "        scores = self.decision_function(data)\n",
    "        prediction = self.predict_from_score(scores, threshold)\n",
    "        return prediction"
   ]
  },
  {
   "cell_type": "code",
   "execution_count": 153,
   "metadata": {},
   "outputs": [],
   "source": [
    "class Leaf:\n",
    "\n",
    "    def __init__(self, size, data) -> None:\n",
    "        self.size = size\n",
    "        self.data = data"
   ]
  },
  {
   "cell_type": "code",
   "execution_count": 154,
   "metadata": {},
   "outputs": [],
   "source": [
    "class DecisionNode:\n",
    "\n",
    "    def __init__(self, left, right, q_value, x_value) -> None:\n",
    "        self.left = left\n",
    "        self.right = right\n",
    "        self.q_value = q_value\n",
    "        self.x_value = x_value"
   ]
  },
  {
   "cell_type": "code",
   "execution_count": 155,
   "metadata": {},
   "outputs": [],
   "source": [
    "class iTree():\n",
    "\n",
    "    def __init__(self, current_height, height_limit) -> None:\n",
    "        self.current_height = current_height\n",
    "        self.heigh_limit = height_limit\n",
    "\n",
    "    def fit(self, sub_sample):\n",
    "        \n",
    "        X = sub_sample\n",
    "        \n",
    "        if self.current_height >= self.heigh_limit or X.shape[0] <= 2:\n",
    "            self.root = Leaf(X.shape[0], X)\n",
    "            return self.root\n",
    "        else:\n",
    "            #Chosing random q value\n",
    "            n_attributes = X.shape[1]#WARNING changed from 1 to 0\n",
    "            q_value = np.random.randint(0, n_attributes)\n",
    "            #Chosing random x value\n",
    "            x_value = np.random.uniform(min(X[:, q_value]), max(X[:, q_value]))\n",
    "\n",
    "            X_left = X[X[:, q_value] < x_value]\n",
    "            X_right = X[X[:, q_value] >= x_value]\n",
    "\n",
    "            left_subtree = iTree(self.current_height + 1, self.heigh_limit)\n",
    "            right_subtree = iTree(self.current_height + 1, self.heigh_limit)\n",
    "\n",
    "            left_subtree.fit(X_left)\n",
    "            right_subtree.fit(X_right)\n",
    "\n",
    "            self.root = DecisionNode(left_subtree.root, right_subtree.root, q_value, x_value)\n",
    "            #self.n_nodes = self.count_nodes(self.root)\n",
    "\n",
    "            return self.root\n",
    "\n",
    "    def count_nodes(self, root):\n",
    "            \n",
    "        count = 0\n",
    "        stack = [root]\n",
    "           \n",
    "        while stack:\n",
    "            node = stack.pop()\n",
    "            count += 1\n",
    "\n",
    "        if isinstance(node, DecisionNode):\n",
    "            stack.append(node.right)\n",
    "            stack.append(node.left)\n",
    "\n",
    "        return count\n"
   ]
  },
  {
   "cell_type": "markdown",
   "metadata": {},
   "source": [
    "Code for testing and running the classes and functions:"
   ]
  },
  {
   "cell_type": "code",
   "execution_count": 156,
   "metadata": {},
   "outputs": [],
   "source": [
    "from __future__ import division\n",
    "from __future__ import print_function\n",
    "from sklearn.ensemble import IsolationForest\n",
    "\n",
    "import os\n",
    "import sys\n",
    "from time import time\n",
    "\n",
    "# temporary solution for relative imports in case pyod is not installed\n",
    "# if pyod is installed, no need to use the following line\n",
    "sys.path.append(\n",
    "    os.path.abspath(os.path.join(os.path.dirname(\"__file__\"), '..')))\n",
    "\n",
    "from numpy import percentile\n",
    "from sklearn.metrics import average_precision_score\n",
    "import scipy.io\n",
    "import matplotlib.pyplot as plt"
   ]
  },
  {
   "cell_type": "code",
   "execution_count": 157,
   "metadata": {},
   "outputs": [],
   "source": [
    "# Define the number of inliers and outliers\n",
    "n_samples = 200\n",
    "outliers_fraction = 0.25\n",
    "clusters_separation = [0]\n",
    "\n",
    "# Compare given detectors under given settings\n",
    "# Initialize the data\n",
    "xx, yy = np.meshgrid(np.linspace(-7, 7, 100), np.linspace(-7, 7, 100))\n",
    "n_inliers = int((1. - outliers_fraction) * n_samples)\n",
    "n_outliers = int(outliers_fraction * n_samples)\n",
    "ground_truth = np.zeros(n_samples, dtype=int)\n",
    "ground_truth[-n_outliers:] = 1"
   ]
  },
  {
   "cell_type": "code",
   "execution_count": 158,
   "metadata": {},
   "outputs": [],
   "source": [
    "random_state = np.random.RandomState(42)"
   ]
  },
  {
   "cell_type": "code",
   "execution_count": 159,
   "metadata": {},
   "outputs": [
    {
     "ename": "TypeError",
     "evalue": "randint() got an unexpected keyword argument 'replace'",
     "output_type": "error",
     "traceback": [
      "\u001b[1;31m---------------------------------------------------------------------------\u001b[0m",
      "\u001b[1;31mTypeError\u001b[0m                                 Traceback (most recent call last)",
      "\u001b[1;32mc:\\Users\\anton\\OneDrive\\Skrivbord\\Thesis_Code\\IsolationForestTinyML\\Offline_solution\\antonForest.ipynb Cell 10'\u001b[0m in \u001b[0;36m<module>\u001b[1;34m\u001b[0m\n\u001b[0;32m     <a href='vscode-notebook-cell:/c%3A/Users/anton/OneDrive/Skrivbord/Thesis_Code/IsolationForestTinyML/Offline_solution/antonForest.ipynb#ch0000009?line=46'>47</a>\u001b[0m outliers \u001b[39m=\u001b[39m \u001b[39m10\u001b[39m\n\u001b[0;32m     <a href='vscode-notebook-cell:/c%3A/Users/anton/OneDrive/Skrivbord/Thesis_Code/IsolationForestTinyML/Offline_solution/antonForest.ipynb#ch0000009?line=47'>48</a>\u001b[0m \u001b[39m#while p < 10:\u001b[39;00m\n\u001b[1;32m---> <a href='vscode-notebook-cell:/c%3A/Users/anton/OneDrive/Skrivbord/Thesis_Code/IsolationForestTinyML/Offline_solution/antonForest.ipynb#ch0000009?line=48'>49</a>\u001b[0m clf\u001b[39m.\u001b[39;49mfit(X)\n\u001b[0;32m     <a href='vscode-notebook-cell:/c%3A/Users/anton/OneDrive/Skrivbord/Thesis_Code/IsolationForestTinyML/Offline_solution/antonForest.ipynb#ch0000009?line=49'>50</a>\u001b[0m clf_lib\u001b[39m.\u001b[39mfit(X)\n\u001b[0;32m     <a href='vscode-notebook-cell:/c%3A/Users/anton/OneDrive/Skrivbord/Thesis_Code/IsolationForestTinyML/Offline_solution/antonForest.ipynb#ch0000009?line=50'>51</a>\u001b[0m \u001b[39m#WARNING put +1\u001b[39;00m\n",
      "\u001b[1;32mc:\\Users\\anton\\OneDrive\\Skrivbord\\Thesis_Code\\IsolationForestTinyML\\Offline_solution\\antonForest.ipynb Cell 2'\u001b[0m in \u001b[0;36mantonForest.fit\u001b[1;34m(self, X)\u001b[0m\n\u001b[0;32m     <a href='vscode-notebook-cell:/c%3A/Users/anton/OneDrive/Skrivbord/Thesis_Code/IsolationForestTinyML/Offline_solution/antonForest.ipynb#ch0000001?line=13'>14</a>\u001b[0m     \u001b[39mself\u001b[39m\u001b[39m.\u001b[39msample_size \u001b[39m=\u001b[39m n_rows\n\u001b[0;32m     <a href='vscode-notebook-cell:/c%3A/Users/anton/OneDrive/Skrivbord/Thesis_Code/IsolationForestTinyML/Offline_solution/antonForest.ipynb#ch0000001?line=14'>15</a>\u001b[0m \u001b[39mfor\u001b[39;00m i \u001b[39min\u001b[39;00m \u001b[39mrange\u001b[39m(\u001b[39mself\u001b[39m\u001b[39m.\u001b[39mt_trees):\n\u001b[0;32m     <a href='vscode-notebook-cell:/c%3A/Users/anton/OneDrive/Skrivbord/Thesis_Code/IsolationForestTinyML/Offline_solution/antonForest.ipynb#ch0000001?line=15'>16</a>\u001b[0m     \n\u001b[0;32m     <a href='vscode-notebook-cell:/c%3A/Users/anton/OneDrive/Skrivbord/Thesis_Code/IsolationForestTinyML/Offline_solution/antonForest.ipynb#ch0000001?line=16'>17</a>\u001b[0m     \u001b[39m#if n_rows < self.sample_size:\u001b[39;00m\n\u001b[0;32m     <a href='vscode-notebook-cell:/c%3A/Users/anton/OneDrive/Skrivbord/Thesis_Code/IsolationForestTinyML/Offline_solution/antonForest.ipynb#ch0000001?line=17'>18</a>\u001b[0m      \u001b[39m#   self.sample_size = n_rows\u001b[39;00m\n\u001b[0;32m     <a href='vscode-notebook-cell:/c%3A/Users/anton/OneDrive/Skrivbord/Thesis_Code/IsolationForestTinyML/Offline_solution/antonForest.ipynb#ch0000001?line=18'>19</a>\u001b[0m     \u001b[39m#index = self.random_state.choice(range(n_rows), size = self.sample_size, replace = False)\u001b[39;00m\n\u001b[0;32m     <a href='vscode-notebook-cell:/c%3A/Users/anton/OneDrive/Skrivbord/Thesis_Code/IsolationForestTinyML/Offline_solution/antonForest.ipynb#ch0000001?line=19'>20</a>\u001b[0m     \u001b[39m#This row makes the subsampling and split values random for each run\u001b[39;00m\n\u001b[1;32m---> <a href='vscode-notebook-cell:/c%3A/Users/anton/OneDrive/Skrivbord/Thesis_Code/IsolationForestTinyML/Offline_solution/antonForest.ipynb#ch0000001?line=20'>21</a>\u001b[0m     index \u001b[39m=\u001b[39m \u001b[39mself\u001b[39;49m\u001b[39m.\u001b[39;49mrandom_state\u001b[39m.\u001b[39;49mrandint(\u001b[39m0\u001b[39;49m, n_rows, \u001b[39mself\u001b[39;49m\u001b[39m.\u001b[39;49msample_size, replace\u001b[39m=\u001b[39;49m\u001b[39mFalse\u001b[39;49;00m)\n\u001b[0;32m     <a href='vscode-notebook-cell:/c%3A/Users/anton/OneDrive/Skrivbord/Thesis_Code/IsolationForestTinyML/Offline_solution/antonForest.ipynb#ch0000001?line=21'>22</a>\u001b[0m     \u001b[39m#index = np.random.choice(range(n_rows), size=self.sample_size, replace=False)\u001b[39;00m\n\u001b[0;32m     <a href='vscode-notebook-cell:/c%3A/Users/anton/OneDrive/Skrivbord/Thesis_Code/IsolationForestTinyML/Offline_solution/antonForest.ipynb#ch0000001?line=22'>23</a>\u001b[0m     \u001b[39m#index = np.random.randint(0, n_rows, self.sample_size)\u001b[39;00m\n\u001b[0;32m     <a href='vscode-notebook-cell:/c%3A/Users/anton/OneDrive/Skrivbord/Thesis_Code/IsolationForestTinyML/Offline_solution/antonForest.ipynb#ch0000001?line=24'>25</a>\u001b[0m     sub_X \u001b[39m=\u001b[39m X[index]\n",
      "File \u001b[1;32mmtrand.pyx:646\u001b[0m, in \u001b[0;36mnumpy.random.mtrand.RandomState.randint\u001b[1;34m()\u001b[0m\n",
      "\u001b[1;31mTypeError\u001b[0m: randint() got an unexpected keyword argument 'replace'"
     ]
    }
   ],
   "source": [
    "# Fit the models with the generated data and \n",
    "# compare model performances\n",
    "def c(size):\n",
    "    if size > 2:\n",
    "        return 2 * (np.log(size-1)+0.5772156649) - 2*(size-1)/size\n",
    "    if size == 2:\n",
    "        return 1\n",
    "    return 0\n",
    "\n",
    "n_trees = 100\n",
    "np.random.seed(42)\n",
    "clf = antonForest(n_trees, 256, random_state=random_state)\n",
    "clf_lib = IsolationForest(n_estimators = n_trees, random_state=random_state)\n",
    "# Data generation\n",
    "#X1 = 0.3 * np.random.randn(n_inliers // 2, 2) #Removed offest\n",
    "#X2 = 0.3 * np.random.randn(n_inliers // 2, 2) #Removed offset\n",
    "#X = np.r_[X1, X2]\n",
    "# Add outliers\n",
    "#X = np.r_[X, np.random.uniform(low=-6, high=6, size=(n_outliers, 2))]\n",
    "\n",
    "data = scipy.io.loadmat('C:\\\\Users\\\\anton\\\\OneDrive\\\\Skrivbord\\\\Thesis_Code\\\\IsolationForestTinyML\\\\DatSets\\\\wine.mat',\n",
    "                        squeeze_me=False)\n",
    "\n",
    "enlist = list(data.items())\n",
    "X = np.array(enlist, dtype=object)\n",
    "X = np.delete(X, 0, 0)\n",
    "X = np.delete(X, 0, 0)\n",
    "X = np.delete(X, 0, 0)\n",
    "X = np.delete(X, 0, 1)\n",
    "\n",
    "y_true = np.empty([1,0], dtype=int)\n",
    "\n",
    "#print(X[1][0][0])\n",
    "k = 0\n",
    "#while k < len(X[1][0]):\n",
    "#    y_true = np.append(y_true, int(X[1][0][k]))\n",
    "#    k += 1\n",
    "\n",
    "X = X[0][0]\n",
    "#print(X[0][0])\n",
    "# Fit the model\n",
    "#plt.figure(figsize=(15, 12))\n",
    "# fit the data and tag outliers\n",
    "p = 0\n",
    "aps = []\n",
    "aps_lib = []\n",
    "outliers = 10\n",
    "#while p < 10:\n",
    "clf.fit(X)\n",
    "clf_lib.fit(X)\n",
    "#WARNING put +1\n",
    "scores_pred = clf.decision_function(X) * 1\n",
    "scores_pred_lib = clf_lib.decision_function(X) * 1 \n",
    "\n",
    "threshold = percentile(scores_pred, 100 * outliers_fraction)\n",
    "threshold_lib = percentile(scores_pred_lib, 100 * outliers_fraction)\n",
    "\n",
    "\n",
    "#aps.append(average_precision_score(y_true, scores_pred))\n",
    "#aps_lib.append(average_precision_score(y_true, scores_pred_lib))\n",
    "#p += 1\n",
    "#n_errors = (y_pred != ground_truth).sum()\n",
    "# plot the levels lines and the points\n",
    "\n",
    "#WARNING +1\n",
    "#Z = clf.decision_function(np.c_[xx.ravel(), yy.ravel()]) * 1\n",
    "#Z = Z.reshape(xx.shape)\n",
    "#plt.figure(figsize=[10,10])\n",
    "#subplot = plt.subplot(2, 2, 1)\n",
    "#subplot.contourf(xx, yy, Z, levels=np.linspace(Z.min(), threshold, 7),\n",
    "#                    cmap=plt.cm.Blues_r)\n",
    "#a = subplot.contour(xx, yy, Z, levels=[threshold], #Removed - in front of threshold, since -score\n",
    "#                    linewidths=2, colors='red')\n",
    "#subplot.contourf(xx, yy, Z, levels=[threshold, Z.max()],\n",
    "#                    colors='orange')\n",
    "#b = subplot.scatter(X[:-n_outliers, 0], X[:-n_outliers, 1], c='white',\n",
    "#                    s=20, edgecolor='k')\n",
    "#c = subplot.scatter(X[-n_outliers:, 0], X[-n_outliers:, 1], c='black',\n",
    "#                    s=20, edgecolor='k')\n",
    "#subplot.axis('tight')\n",
    "#subplot.set_xlabel(\"%d. %s (errors: %d)\" % (1, \"Isolation Forest\", n_errors))\n",
    "#subplot.set_xlim((-7, 7))\n",
    "#subplot.set_ylim((-7, 7))\n",
    "#plt.subplots_adjust(0.04, 0.1, 0.96, 0.94, 0.1, 0.26)\n",
    "#plt.suptitle(\"Outlier detection\")\n",
    "#plt.show()\n",
    "#all_data = [aps, aps_lib]\n",
    "#plt.boxplot(all_data)\n",
    "#print(scores_pred)\n",
    "#print(scores_pred_lib)"
   ]
  },
  {
   "cell_type": "code",
   "execution_count": null,
   "metadata": {},
   "outputs": [],
   "source": [
    "file = open(\"save_data.ino\", \"w\")\n",
    "\n",
    "q = 0\n",
    "while q < len(X):\n",
    "    file.write('parsedCsv.push_back({')\n",
    "    p = 0\n",
    "    while p < len(X[q]):\n",
    "        if p == len(X[q]) - 1:\n",
    "            file.write(str(X[q][p]))\n",
    "        else:\n",
    "            file.write(str(X[q][p]) + ', ')\n",
    "        p += 1\n",
    "    file.write('});\\n')\n",
    "    q += 1\n"
   ]
  },
  {
   "cell_type": "code",
   "execution_count": 161,
   "metadata": {},
   "outputs": [
    {
     "name": "stdout",
     "output_type": "stream",
     "text": [
      "[ 0.17078943  0.14758296  0.16918179  0.13990813  0.16884604  0.16594943\n",
      "  0.12293424  0.14207302  0.16429797  0.14234526  0.14903314  0.14620397\n",
      "  0.16917234  0.16549572  0.16712214  0.12736523  0.15683145  0.14836997\n",
      "  0.12421664  0.15525233  0.16636009  0.17163504  0.14302178  0.15568875\n",
      "  0.13084677  0.16912805  0.16598495  0.14976112  0.16430964  0.15889421\n",
      "  0.16755329  0.14946759  0.14438317  0.15834081  0.16508238  0.14941983\n",
      "  0.14784002  0.10079858  0.17093934  0.1236115   0.17018653  0.14472571\n",
      "  0.16309353  0.16485903  0.1678041   0.16017085  0.16592372  0.14066464\n",
      "  0.16951713  0.17095639  0.15053875  0.16114044  0.17124234  0.13118417\n",
      "  0.16964212  0.13584532  0.1061232   0.16910616  0.15398583  0.15346414\n",
      "  0.15327282  0.12939519  0.11931114  0.1616547   0.16893039  0.14795585\n",
      "  0.16471346  0.14143007  0.16446258  0.14868874  0.15341817  0.147633\n",
      "  0.16620187  0.13973663  0.16861995  0.17259285  0.16466242  0.16471711\n",
      "  0.13307985  0.16156418  0.16080337  0.14565658  0.16403718  0.12642576\n",
      "  0.16129653  0.15901519  0.17298074  0.16443677  0.15056901  0.09683698\n",
      "  0.15569486  0.16451042  0.16448236  0.16928033  0.13686871  0.16325637\n",
      "  0.15256687  0.17261187  0.16709779  0.15713108  0.16978466  0.14563307\n",
      "  0.14136282  0.16942677  0.04717608  0.15608187  0.16099387  0.16525779\n",
      "  0.16541448  0.16830699  0.07294343  0.13293902  0.154457    0.15696965\n",
      "  0.16559944  0.16758458  0.16595907  0.11603692  0.13591767  0.15868372\n",
      "  0.16585304  0.16310459  0.16112639  0.16368153  0.14008204  0.14737645\n",
      "  0.11055232  0.14961979  0.14416113  0.16790889  0.16578086  0.07029582\n",
      "  0.14979693  0.12453783  0.16926777  0.12965824  0.15117545  0.16566018\n",
      "  0.1666594   0.17039232  0.17099038  0.13076764  0.08179638  0.16866466\n",
      "  0.16697763  0.16601759  0.16199973  0.16491686  0.165672    0.16540647\n",
      " -0.13724003 -0.07044605 -0.15033484 -0.05758087 -0.06038663 -0.11208216\n",
      " -0.05420675 -0.08421131 -0.02837019 -0.03812662 -0.19491679 -0.2109581\n",
      " -0.05853409 -0.11731704 -0.02277552 -0.10231243 -0.07003558 -0.07542735\n",
      " -0.05229921 -0.0805244  -0.05033463 -0.10100676 -0.10123439 -0.14677827\n",
      " -0.08688929 -0.09081542 -0.16832197 -0.12128818 -0.06244136 -0.15925685\n",
      " -0.15701172 -0.10089294 -0.05012635 -0.04606668 -0.06164411 -0.12613218\n",
      " -0.18345358 -0.09393798 -0.05947618 -0.14013373 -0.07354127 -0.11471159\n",
      " -0.16185317 -0.11390478 -0.11484539 -0.0693816  -0.09477885 -0.08009432\n",
      "  0.00170034 -0.08001424]\n"
     ]
    }
   ],
   "source": [
    "print(scores_pred_lib)"
   ]
  },
  {
   "cell_type": "code",
   "execution_count": 162,
   "metadata": {},
   "outputs": [
    {
     "name": "stdout",
     "output_type": "stream",
     "text": [
      "[ 0.16122775  0.12108867  0.16792705  0.12041067  0.16564162  0.16236485\n",
      "  0.12047071  0.12673249  0.15578749  0.12733625  0.11798037  0.14209253\n",
      "  0.16572497  0.15454318  0.1664226   0.10296281  0.15494785  0.13826716\n",
      "  0.11777483  0.14751256  0.15373837  0.16796207  0.13293307  0.14551304\n",
      "  0.12420422  0.16625196  0.1622477   0.13196766  0.16046121  0.14915045\n",
      "  0.1652363   0.12948802  0.12950945  0.14834395  0.16313142  0.12584988\n",
      "  0.12553787  0.08652858  0.16817899  0.11681234  0.16952635  0.11553299\n",
      "  0.15731926  0.1541436   0.16560655  0.15119208  0.16535009  0.13719979\n",
      "  0.16837805  0.16618716  0.14246385  0.16225284  0.16905407  0.11000562\n",
      "  0.16768938  0.12228023  0.08292324  0.17004641  0.14852904  0.14193002\n",
      "  0.14635129  0.09647828  0.08624472  0.15269751  0.16361898  0.13956608\n",
      "  0.15560324  0.11182187  0.16249974  0.13939739  0.14127487  0.13580064\n",
      "  0.16383415  0.12066113  0.16406435  0.16742456  0.16531851  0.16238644\n",
      "  0.1134099   0.14869681  0.15266437  0.12624089  0.15203836  0.101967\n",
      "  0.16234917  0.15131739  0.16883215  0.15994397  0.12996289  0.0665014\n",
      "  0.15165227  0.15560324  0.16575598  0.16174508  0.12627124  0.15552104\n",
      "  0.14875891  0.16668797  0.15986713  0.15426203  0.16553439  0.12459661\n",
      "  0.13072716  0.16307286  0.03078565  0.14070305  0.15094568  0.16410867\n",
      "  0.16061283  0.16738324  0.05732455  0.12689849  0.138715    0.15544746\n",
      "  0.15990355  0.16458902  0.16540019  0.09959574  0.11779204  0.15390015\n",
      "  0.16424171  0.15531393  0.15066231  0.1620224   0.11815013  0.13216922\n",
      "  0.08629243  0.13645397  0.1177475   0.15957424  0.1580191   0.05976603\n",
      "  0.146946    0.09038043  0.16670345  0.09452593  0.1398202   0.15759373\n",
      "  0.16338949  0.16854011  0.16473944  0.09982206  0.05933514  0.16786373\n",
      "  0.16472075  0.16626651  0.1552295   0.16065319  0.1541436   0.15431079\n",
      " -0.15527733 -0.10078132 -0.1518497  -0.06826403 -0.07584747 -0.12036529\n",
      " -0.09022587 -0.10417429 -0.05343361 -0.05679572 -0.17429469 -0.18748899\n",
      " -0.09859776 -0.13587472 -0.03376372 -0.10549615 -0.08945033 -0.1110859\n",
      " -0.09403517 -0.10669598 -0.06103446 -0.13954401 -0.11048131 -0.16448977\n",
      " -0.1087044  -0.12530113 -0.18694854 -0.13673494 -0.05511968 -0.15019547\n",
      " -0.14777959 -0.14520056 -0.09753385 -0.06498608 -0.08515036 -0.14790173\n",
      " -0.19568959 -0.10961786 -0.09624182 -0.15495445 -0.07362898 -0.12108607\n",
      " -0.17428355 -0.13083099 -0.13534362 -0.09273814 -0.11171779 -0.07267157\n",
      " -0.01866127 -0.08727448]\n"
     ]
    }
   ],
   "source": [
    "print(scores_pred)"
   ]
  },
  {
   "cell_type": "code",
   "execution_count": 163,
   "metadata": {},
   "outputs": [
    {
     "data": {
      "text/plain": [
       "(array([  6.,  13.,  19.,  10.,   2.,   0.,   4.,   8.,  35., 103.]),\n",
       " array([-0.19568959, -0.15911599, -0.12254239, -0.08596879, -0.04939519,\n",
       "        -0.01282159,  0.02375201,  0.06032561,  0.09689921,  0.13347281,\n",
       "         0.17004641]),\n",
       " <BarContainer object of 10 artists>)"
      ]
     },
     "execution_count": 163,
     "metadata": {},
     "output_type": "execute_result"
    },
    {
     "data": {
      "image/png": "[encoded data removed]",
      "text/plain": [
       "<Figure size 432x288 with 1 Axes>"
      ]
     },
     "metadata": {
      "needs_background": "light"
     },
     "output_type": "display_data"
    }
   ],
   "source": [
    "plt.hist(scores_pred)"
   ]
  },
  {
   "cell_type": "code",
   "execution_count": 164,
   "metadata": {},
   "outputs": [
    {
     "data": {
      "text/plain": [
       "(array([  3.,   8.,  11.,  19.,   8.,   1.,   1.,   3.,  19., 127.]),\n",
       " array([-0.2109581 , -0.17256422, -0.13417033, -0.09577645, -0.05738256,\n",
       "        -0.01898868,  0.0194052 ,  0.05779909,  0.09619297,  0.13458685,\n",
       "         0.17298074]),\n",
       " <BarContainer object of 10 artists>)"
      ]
     },
     "execution_count": 164,
     "metadata": {},
     "output_type": "execute_result"
    },
    {
     "data": {
      "image/png": "[encoded data removed]",
      "text/plain": [
       "<Figure size 432x288 with 1 Axes>"
      ]
     },
     "metadata": {
      "needs_background": "light"
     },
     "output_type": "display_data"
    }
   ],
   "source": [
    "plt.hist(scores_pred_lib)"
   ]
  },
  {
   "cell_type": "code",
   "execution_count": 148,
   "metadata": {},
   "outputs": [
    {
     "data": {
      "text/plain": [
       "2"
      ]
     },
     "execution_count": 148,
     "metadata": {},
     "output_type": "execute_result"
    }
   ],
   "source": [
    "file = open(\"save_forest.ino\", \"w\")\n",
    "\n",
    "file.write(\"#include <vector>\\n\")\n",
    "file.write(\"using namespace std;\\n\\n\")\n",
    "file.write(\"struct Tree{\\n\")\n",
    "file.write(\"    int child_id_left, child_id_right, feature, n_samples;\\n\")\n",
    "file.write(\"    float threshold;\\n\")\n",
    "file.write(\"};\\n\\n\")\n",
    "\n",
    "file.write(\"vector<vector<Tree>> iForest;\\n\")\n",
    "m = 0\n",
    "while m < clf_lib.n_estimators:\n",
    "    file.write(\"std::vector<Tree> iTree\" + str(m + 1) + \";\\n\")\n",
    "    m += 1\n",
    "file.write(\"\\n\")\n",
    "\n",
    "f = 0\n",
    "file.write(\"void setup() {\\n\")\n",
    "file.write(\"    Serial.begin(9600);\\n\")\n",
    "while f < clf_lib.n_estimators:\n",
    "    j = 0\n",
    "    while j < len(clf_lib.estimators_[f].tree_.feature):\n",
    "        temp_child_l = clf_lib.estimators_[f].tree_.children_left[j]\n",
    "        if clf_lib.estimators_[f].tree_.children_left[j] == -1:\n",
    "            temp_child_l = 0\n",
    "\n",
    "        temp_child_r = clf_lib.estimators_[f].tree_.children_right[j]\n",
    "        if temp_child_r == clf_lib.estimators_[f].tree_.children_right[j] == -1:\n",
    "            temp_child_r = 0\n",
    "\n",
    "        temp_feature = clf_lib.estimators_[f].tree_.feature[j]\n",
    "        temp_threshold = clf_lib.estimators_[f].tree_.threshold[j]\n",
    "        temps_values = clf_lib.estimators_[f].tree_.n_node_samples[j]\n",
    "\n",
    "        file.write(\"    iTree\" + str(f + 1) + \".push_back({\"  \n",
    "                                                            + str(temp_child_l) + \", \"\n",
    "                                                            + str(temp_child_r) + \", \"\n",
    "                                                            + str(temp_feature) + \", \"\n",
    "                                                            + str(temps_values) + \", \"\n",
    "                                                            + str(temp_threshold) + \n",
    "                                                        \"});\\n\")\n",
    "\n",
    "        j += 1\n",
    "\n",
    "    file.write(\"    iForest.push_back(iTree\" + str(f + 1) + \");\\n\\n\")\n",
    "    f += 1\n",
    "\n",
    "rows = f*j\n",
    "memory_per_vector = 8\n",
    "allocated_memory = rows * memory_per_vector\n",
    "file.write(\"}\\n\")\n",
    "file.write(\"void loop() {\\n\")\n",
    "file.write(\"\\n}\")\n",
    "\n",
    "\n"
   ]
  },
  {
   "cell_type": "code",
   "execution_count": 149,
   "metadata": {},
   "outputs": [
    {
     "data": {
      "text/plain": [
       "<Figure size 1080x864 with 0 Axes>"
      ]
     },
     "metadata": {},
     "output_type": "display_data"
    },
    {
     "data": {
      "image/png": "[encoded data removed]",
      "text/plain": [
       "<Figure size 720x720 with 1 Axes>"
      ]
     },
     "metadata": {
      "needs_background": "light"
     },
     "output_type": "display_data"
    }
   ],
   "source": [
    "# Fit the models with the generated data and \n",
    "# compare model performances\n",
    "def c(size):\n",
    "    if size > 2:\n",
    "        return 2 * (np.log(size-1)+0.5772156649) - 2*(size-1)/size\n",
    "    if size == 2:\n",
    "        return 1\n",
    "    return 0\n",
    "\n",
    "np.random.seed(42)\n",
    "clf = antonForest(100, 256, random_state=random_state)\n",
    "clf_lib = IsolationForest(random_state=random_state)\n",
    "# Data generation\n",
    "X1 = 0.3 * np.random.randn(n_inliers // 2, 2) #Removed offest\n",
    "X2 = 0.3 * np.random.randn(n_inliers // 2, 2) #Removed offset\n",
    "X = np.r_[X1, X2]\n",
    "# Add outliers\n",
    "X = np.r_[X, np.random.uniform(low=-6, high=6, size=(n_outliers, 2))]\n",
    "\n",
    "\n",
    "# Fit the model\n",
    "plt.figure(figsize=(15, 12))\n",
    "# fit the data and tag outliers\n",
    "clf.fit(X)\n",
    "clf_lib.fit(X)\n",
    "#WARNING put +1\n",
    "scores_pred = clf.decision_function(X) * 1\n",
    "scores_pred_lib = clf_lib.decision_function(X) * 1 \n",
    "\n",
    "threshold = percentile(scores_pred, 100 * outliers_fraction)\n",
    "threshold_lib = percentile(scores_pred_lib, 100 * outliers_fraction)\n",
    "\n",
    "y_pred = clf.predict(X, threshold) * -1\n",
    "y_pred = (y_pred + 1) #/ 2\n",
    "\n",
    "y_pred_lib = clf_lib.predict(X) * -1\n",
    "y_pred_lib = (y_pred_lib + 1) / 2\n",
    "\n",
    "n_errors = (y_pred != ground_truth).sum()\n",
    "# plot the levels lines and the points\n",
    "\n",
    "#WARNING +1\n",
    "Z = clf.decision_function(np.c_[xx.ravel(), yy.ravel()]) * 1\n",
    "Z = Z.reshape(xx.shape)\n",
    "plt.figure(figsize=[10,10])\n",
    "subplot = plt.subplot(2, 2, 1)\n",
    "subplot.contourf(xx, yy, Z, levels=np.linspace(Z.min(), threshold, 7),\n",
    "                    cmap=plt.cm.Blues_r)\n",
    "a = subplot.contour(xx, yy, Z, levels=[threshold], #Removed - in front of threshold, since -score\n",
    "                    linewidths=2, colors='red')\n",
    "subplot.contourf(xx, yy, Z, levels=[threshold, Z.max()],\n",
    "                    colors='orange')\n",
    "b = subplot.scatter(X[:-n_outliers, 0], X[:-n_outliers, 1], c='white',\n",
    "                    s=20, edgecolor='k')\n",
    "c = subplot.scatter(X[-n_outliers:, 0], X[-n_outliers:, 1], c='black',\n",
    "                    s=20, edgecolor='k')\n",
    "subplot.axis('tight')\n",
    "subplot.set_xlabel(\"%d. %s (errors: %d)\" % (1, \"Isolation Forest\", n_errors))\n",
    "subplot.set_xlim((-7, 7))\n",
    "subplot.set_ylim((-7, 7))\n",
    "plt.subplots_adjust(0.04, 0.1, 0.96, 0.94, 0.1, 0.26)\n",
    "plt.suptitle(\"Outlier detection\")\n",
    "plt.show()"
   ]
  },
  {
   "cell_type": "code",
   "execution_count": 150,
   "metadata": {},
   "outputs": [
    {
     "name": "stdout",
     "output_type": "stream",
     "text": [
      "[ 0.16122775  0.12108867  0.16792705  0.12041067  0.16564162  0.16236485\n",
      "  0.12047071  0.12673249  0.15578749  0.12733625  0.11798037  0.14209253\n",
      "  0.16572497  0.15454318  0.1664226   0.10296281  0.15494785  0.13826716\n",
      "  0.11777483  0.14751256  0.15373837  0.16796207  0.13293307  0.14551304\n",
      "  0.12420422  0.16625196  0.1622477   0.13196766  0.16046121  0.14915045\n",
      "  0.1652363   0.12948802  0.12950945  0.14834395  0.16313142  0.12584988\n",
      "  0.12553787  0.08652858  0.16817899  0.11681234  0.16952635  0.11553299\n",
      "  0.15731926  0.1541436   0.16560655  0.15119208  0.16535009  0.13719979\n",
      "  0.16837805  0.16618716  0.14246385  0.16225284  0.16905407  0.11000562\n",
      "  0.16768938  0.12228023  0.08292324  0.17004641  0.14852904  0.14193002\n",
      "  0.14635129  0.09647828  0.08624472  0.15269751  0.16361898  0.13956608\n",
      "  0.15560324  0.11182187  0.16249974  0.13939739  0.14127487  0.13580064\n",
      "  0.16383415  0.12066113  0.16406435  0.16742456  0.16531851  0.16238644\n",
      "  0.1134099   0.14869681  0.15266437  0.12624089  0.15203836  0.101967\n",
      "  0.16234917  0.15131739  0.16883215  0.15994397  0.12996289  0.0665014\n",
      "  0.15165227  0.15560324  0.16575598  0.16174508  0.12627124  0.15552104\n",
      "  0.14875891  0.16668797  0.15986713  0.15426203  0.16553439  0.12459661\n",
      "  0.13072716  0.16307286  0.03078565  0.14070305  0.15094568  0.16410867\n",
      "  0.16061283  0.16738324  0.05732455  0.12689849  0.138715    0.15544746\n",
      "  0.15990355  0.16458902  0.16540019  0.09959574  0.11779204  0.15390015\n",
      "  0.16424171  0.15531393  0.15066231  0.1620224   0.11815013  0.13216922\n",
      "  0.08629243  0.13645397  0.1177475   0.15957424  0.1580191   0.05976603\n",
      "  0.146946    0.09038043  0.16670345  0.09452593  0.1398202   0.15759373\n",
      "  0.16338949  0.16854011  0.16473944  0.09982206  0.05933514  0.16786373\n",
      "  0.16472075  0.16626651  0.1552295   0.16065319  0.1541436   0.15431079\n",
      " -0.15527733 -0.10078132 -0.1518497  -0.06826403 -0.07584747 -0.12036529\n",
      " -0.09022587 -0.10417429 -0.05343361 -0.05679572 -0.17429469 -0.18748899\n",
      " -0.09859776 -0.13587472 -0.03376372 -0.10549615 -0.08945033 -0.1110859\n",
      " -0.09403517 -0.10669598 -0.06103446 -0.13954401 -0.11048131 -0.16448977\n",
      " -0.1087044  -0.12530113 -0.18694854 -0.13673494 -0.05511968 -0.15019547\n",
      " -0.14777959 -0.14520056 -0.09753385 -0.06498608 -0.08515036 -0.14790173\n",
      " -0.19568959 -0.10961786 -0.09624182 -0.15495445 -0.07362898 -0.12108607\n",
      " -0.17428355 -0.13083099 -0.13534362 -0.09273814 -0.11171779 -0.07267157\n",
      " -0.01866127 -0.08727448]\n"
     ]
    }
   ],
   "source": [
    "print(scores_pred)"
   ]
  },
  {
   "cell_type": "code",
   "execution_count": 151,
   "metadata": {},
   "outputs": [
    {
     "data": {
      "text/plain": [
       "(array([  6.,  13.,  19.,  10.,   2.,   0.,   4.,   8.,  35., 103.]),\n",
       " array([-0.19568959, -0.15911599, -0.12254239, -0.08596879, -0.04939519,\n",
       "        -0.01282159,  0.02375201,  0.06032561,  0.09689921,  0.13347281,\n",
       "         0.17004641]),\n",
       " <BarContainer object of 10 artists>)"
      ]
     },
     "execution_count": 151,
     "metadata": {},
     "output_type": "execute_result"
    },
    {
     "data": {
      "image/png": "[encoded data removed]",
      "text/plain": [
       "<Figure size 432x288 with 1 Axes>"
      ]
     },
     "metadata": {
      "needs_background": "light"
     },
     "output_type": "display_data"
    }
   ],
   "source": [
    "plt.hist(scores_pred)"
   ]
  },
  {
   "cell_type": "code",
   "execution_count": null,
   "metadata": {},
   "outputs": [],
   "source": []
  },
  {
   "cell_type": "code",
   "execution_count": null,
   "metadata": {},
   "outputs": [],
   "source": []
  }
 ],
 "metadata": {
  "interpreter": {
   "hash": "c4a31993002339e453ebb2c66c294fd01e84ed8cca375c93fb5e33ef382fbc8b"
  },
  "kernelspec": {
   "display_name": "Python 3.9.10 64-bit (windows store)",
   "language": "python",
   "name": "python3"
  },
  "language_info": {
   "codemirror_mode": {
    "name": "ipython",
    "version": 3
   },
   "file_extension": ".py",
   "mimetype": "text/x-python",
   "name": "python",
   "nbconvert_exporter": "python",
   "pygments_lexer": "ipython3",
   "version": "3.9.10"
  },
  "orig_nbformat": 4
 },
 "nbformat": 4,
 "nbformat_minor": 2
}
