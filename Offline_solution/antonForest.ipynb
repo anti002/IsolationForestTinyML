{
 "cells": [
  {
   "cell_type": "code",
   "execution_count": 198,
   "metadata": {},
   "outputs": [],
   "source": [
    "import numpy as np"
   ]
  },
  {
   "cell_type": "code",
   "execution_count": 199,
   "metadata": {},
   "outputs": [],
   "source": [
    "class antonForest():\n",
    "\n",
    "    def __init__(self, t_trees, sample_size, random_state) -> None:\n",
    "        self.t_trees = t_trees\n",
    "        self.sample_size = sample_size\n",
    "        self.random_state = random_state\n",
    "\n",
    "    def fit(self, X):\n",
    "        \n",
    "        self.forest = []\n",
    "        height_limit = np.ceil(np.log2(self.sample_size))\n",
    "        n_rows = X.shape[0]\n",
    "        if n_rows < self.sample_size:\n",
    "            self.sample_size = n_rows\n",
    "        for i in range(self.t_trees):\n",
    "            \n",
    "            #if n_rows < self.sample_size:\n",
    "             #   self.sample_size = n_rows\n",
    "            #index = self.random_state.choice(range(n_rows), size = self.sample_size, replace = False)\n",
    "            #This row makes the subsampling and split values random for each run\n",
    "            index = self.random_state.randint(0, n_rows, self.sample_size)\n",
    "            #index = np.random.choice(range(n_rows), size=self.sample_size, replace=False)\n",
    "            #index = np.random.randint(0, n_rows, self.sample_size)\n",
    "            \n",
    "            sub_X = X[index]\n",
    "            \n",
    "            tree = iTree(0, height_limit)\n",
    "            tree.fit(sub_X)\n",
    "            self.forest.append(tree)\n",
    "            \n",
    "        return self\n",
    "\n",
    "    def path_length(self, data):\n",
    "\n",
    "        edges = []\n",
    "\n",
    "        for row in data:\n",
    "            path = []\n",
    "            for tree in self.forest:\n",
    "                node = tree.root\n",
    "                length = 0\n",
    "                while isinstance(node, DecisionNode):\n",
    "                    if row[node.q_value] < node.x_value:\n",
    "                        node = node.left\n",
    "                    else:\n",
    "                        node = node.right\n",
    "                    length += 1\n",
    "                leaf_size = node.size\n",
    "                path_length = length + c(leaf_size)\n",
    "                path.append(path_length)\n",
    "            \n",
    "            edges.append(path)\n",
    "        edges = np.array(edges)\n",
    "        return np.mean(edges, axis = -1)\n",
    "\n",
    "    def decision_function(self, data):\n",
    "\n",
    "        average_length = self.path_length(data)\n",
    "        scores = np.array([np.power(2, -l/c(self.sample_size)) for l in average_length])\n",
    "        #WARNING fix - and +0.5\n",
    "        scores = -scores + 0.4775#+0.5250543855355995 #-0.4209613673797462  \n",
    "        return scores\n",
    "\n",
    "    def predict_from_score(self, scores, threshold):\n",
    "        return np.array([1 if s >= threshold else 0 for s in scores])\n",
    "\n",
    "    def predict(self, data, threshold):\n",
    "        scores = self.decision_function(data)\n",
    "        prediction = self.predict_from_score(scores, threshold)\n",
    "        return prediction"
   ]
  },
  {
   "cell_type": "code",
   "execution_count": 200,
   "metadata": {},
   "outputs": [],
   "source": [
    "class Leaf:\n",
    "\n",
    "    def __init__(self, size, data) -> None:\n",
    "        self.size = size\n",
    "        self.data = data"
   ]
  },
  {
   "cell_type": "code",
   "execution_count": 201,
   "metadata": {},
   "outputs": [],
   "source": [
    "class DecisionNode:\n",
    "\n",
    "    def __init__(self, left, right, q_value, x_value) -> None:\n",
    "        self.left = left\n",
    "        self.right = right\n",
    "        self.q_value = q_value\n",
    "        self.x_value = x_value"
   ]
  },
  {
   "cell_type": "code",
   "execution_count": 202,
   "metadata": {},
   "outputs": [],
   "source": [
    "class iTree():\n",
    "\n",
    "    def __init__(self, current_height, height_limit) -> None:\n",
    "        self.current_height = current_height\n",
    "        self.heigh_limit = height_limit\n",
    "\n",
    "    def fit(self, sub_sample):\n",
    "        \n",
    "        X = sub_sample\n",
    "        \n",
    "        if self.current_height >= self.heigh_limit or X.shape[0] <= 2:\n",
    "            self.root = Leaf(X.shape[0], X)\n",
    "            return self.root\n",
    "        else:\n",
    "            #Chosing random q value\n",
    "            n_attributes = X.shape[1]#WARNING changed from 1 to 0\n",
    "            q_value = np.random.randint(0, n_attributes)\n",
    "            #Chosing random x value\n",
    "            x_value = np.random.uniform(min(X[:, q_value]), max(X[:, q_value]))\n",
    "\n",
    "            X_left = X[X[:, q_value] < x_value]\n",
    "            X_right = X[X[:, q_value] >= x_value]\n",
    "\n",
    "            left_subtree = iTree(self.current_height + 1, self.heigh_limit)\n",
    "            right_subtree = iTree(self.current_height + 1, self.heigh_limit)\n",
    "\n",
    "            left_subtree.fit(X_left)\n",
    "            right_subtree.fit(X_right)\n",
    "\n",
    "            self.root = DecisionNode(left_subtree.root, right_subtree.root, q_value, x_value)\n",
    "            self.n_nodes = self.count_nodes(self.root)\n",
    "\n",
    "            return self.root\n",
    "\n",
    "    def count_nodes(self, root):\n",
    "            \n",
    "        count = 0\n",
    "        stack = [root]\n",
    "           \n",
    "        while stack:\n",
    "            node = stack.pop()\n",
    "            count += 1\n",
    "\n",
    "        if isinstance(node, DecisionNode):\n",
    "            stack.append(node.right)\n",
    "            stack.append(node.left)\n",
    "\n",
    "        return count\n"
   ]
  },
  {
   "cell_type": "markdown",
   "metadata": {},
   "source": [
    "Code for testing and running the classes and functions:"
   ]
  },
  {
   "cell_type": "code",
   "execution_count": 203,
   "metadata": {},
   "outputs": [],
   "source": [
    "from __future__ import division\n",
    "from __future__ import print_function\n",
    "from sklearn.ensemble import IsolationForest\n",
    "\n",
    "import os\n",
    "import sys\n",
    "from time import time\n",
    "\n",
    "# temporary solution for relative imports in case pyod is not installed\n",
    "# if pyod is installed, no need to use the following line\n",
    "sys.path.append(\n",
    "    os.path.abspath(os.path.join(os.path.dirname(\"__file__\"), '..')))\n",
    "\n",
    "from numpy import percentile\n",
    "from sklearn.metrics import average_precision_score\n",
    "import scipy.io\n",
    "import matplotlib.pyplot as plt"
   ]
  },
  {
   "cell_type": "code",
   "execution_count": 204,
   "metadata": {},
   "outputs": [],
   "source": [
    "# Define the number of inliers and outliers\n",
    "n_samples = 200\n",
    "outliers_fraction = 0.25\n",
    "clusters_separation = [0]\n",
    "\n",
    "# Compare given detectors under given settings\n",
    "# Initialize the data\n",
    "xx, yy = np.meshgrid(np.linspace(-7, 7, 100), np.linspace(-7, 7, 100))\n",
    "n_inliers = int((1. - outliers_fraction) * n_samples)\n",
    "n_outliers = int(outliers_fraction * n_samples)\n",
    "ground_truth = np.zeros(n_samples, dtype=int)\n",
    "ground_truth[-n_outliers:] = 1"
   ]
  },
  {
   "cell_type": "code",
   "execution_count": 205,
   "metadata": {},
   "outputs": [],
   "source": [
    "random_state = np.random.RandomState(42)"
   ]
  },
  {
   "cell_type": "code",
   "execution_count": 206,
   "metadata": {},
   "outputs": [],
   "source": [
    "# Fit the models with the generated data and \n",
    "# compare model performances\n",
    "def c(size):\n",
    "    if size > 2:\n",
    "        return 2 * (np.log(size-1)+0.5772156649) - 2*(size-1)/size\n",
    "    if size == 2:\n",
    "        return 1\n",
    "    return 0\n",
    "\n",
    "n_trees = 1\n",
    "np.random.seed(42)\n",
    "clf = antonForest(n_trees, 256, random_state=random_state)\n",
    "clf_lib = IsolationForest(n_estimators = n_trees, random_state=random_state)\n",
    "# Data generation\n",
    "#X1 = 0.3 * np.random.randn(n_inliers // 2, 2) #Removed offest\n",
    "#X2 = 0.3 * np.random.randn(n_inliers // 2, 2) #Removed offset\n",
    "#X = np.r_[X1, X2]\n",
    "# Add outliers\n",
    "#X = np.r_[X, np.random.uniform(low=-6, high=6, size=(n_outliers, 2))]\n",
    "\n",
    "data = scipy.io.loadmat('C:\\\\Users\\\\anton\\\\OneDrive\\\\Skrivbord\\\\Thesis_Code\\\\IsolationForestTinyML\\\\DatSets\\\\wine.mat',\n",
    "                        squeeze_me=False)\n",
    "\n",
    "enlist = list(data.items())\n",
    "X = np.array(enlist, dtype=object)\n",
    "X = np.delete(X, 0, 0)\n",
    "X = np.delete(X, 0, 0)\n",
    "X = np.delete(X, 0, 0)\n",
    "X = np.delete(X, 0, 1)\n",
    "\n",
    "y_true = np.empty([1,0], dtype=int)\n",
    "\n",
    "#print(X[1][0][0])\n",
    "k = 0\n",
    "#while k < len(X[1][0]):\n",
    "#    y_true = np.append(y_true, int(X[1][0][k]))\n",
    "#    k += 1\n",
    "\n",
    "X = X[0][0]\n",
    "#print(X[0][0])\n",
    "# Fit the model\n",
    "#plt.figure(figsize=(15, 12))\n",
    "# fit the data and tag outliers\n",
    "p = 0\n",
    "aps = []\n",
    "aps_lib = []\n",
    "outliers = 10\n",
    "#while p < 10:\n",
    "clf.fit(X)\n",
    "clf_lib.fit(X)\n",
    "#WARNING put +1\n",
    "scores_pred = clf.decision_function(X) * 1\n",
    "\n",
    "scores_pred_lib = clf_lib.decision_function(X) * 1 \n",
    "\n",
    "threshold = percentile(scores_pred, 100 * outliers_fraction)\n",
    "threshold_lib = percentile(scores_pred_lib, 100 * outliers_fraction)\n",
    "\n",
    "\n",
    "#aps.append(average_precision_score(y_true, scores_pred))\n",
    "#aps_lib.append(average_precision_score(y_true, scores_pred_lib))\n",
    "#p += 1\n",
    "#n_errors = (y_pred != ground_truth).sum()\n",
    "# plot the levels lines and the points\n",
    "\n",
    "#WARNING +1\n",
    "#Z = clf.decision_function(np.c_[xx.ravel(), yy.ravel()]) * 1\n",
    "#Z = Z.reshape(xx.shape)\n",
    "#plt.figure(figsize=[10,10])\n",
    "#subplot = plt.subplot(2, 2, 1)\n",
    "#subplot.contourf(xx, yy, Z, levels=np.linspace(Z.min(), threshold, 7),\n",
    "#                    cmap=plt.cm.Blues_r)\n",
    "#a = subplot.contour(xx, yy, Z, levels=[threshold], #Removed - in front of threshold, since -score\n",
    "#                    linewidths=2, colors='red')\n",
    "#subplot.contourf(xx, yy, Z, levels=[threshold, Z.max()],\n",
    "#                    colors='orange')\n",
    "#b = subplot.scatter(X[:-n_outliers, 0], X[:-n_outliers, 1], c='white',\n",
    "#                    s=20, edgecolor='k')\n",
    "#c = subplot.scatter(X[-n_outliers:, 0], X[-n_outliers:, 1], c='black',\n",
    "#                    s=20, edgecolor='k')\n",
    "#subplot.axis('tight')\n",
    "#subplot.set_xlabel(\"%d. %s (errors: %d)\" % (1, \"Isolation Forest\", n_errors))\n",
    "#subplot.set_xlim((-7, 7))\n",
    "#subplot.set_ylim((-7, 7))\n",
    "#plt.subplots_adjust(0.04, 0.1, 0.96, 0.94, 0.1, 0.26)\n",
    "#plt.suptitle(\"Outlier detection\")\n",
    "#plt.show()\n",
    "#all_data = [aps, aps_lib]\n",
    "#plt.boxplot(all_data)\n",
    "#print(scores_pred)\n",
    "#print(scores_pred_lib)"
   ]
  },
  {
   "cell_type": "code",
   "execution_count": 207,
   "metadata": {},
   "outputs": [
    {
     "name": "stdout",
     "output_type": "stream",
     "text": [
      "129\n"
     ]
    }
   ],
   "source": [
    "print(X.shape[0])"
   ]
  },
  {
   "cell_type": "code",
   "execution_count": 208,
   "metadata": {},
   "outputs": [
    {
     "name": "stdout",
     "output_type": "stream",
     "text": [
      "[ 0.15609675  0.15609675 -0.25415973  0.15609675  0.15609675  0.15609675\n",
      "  0.15609675  0.15609675  0.15609675  0.15609675  0.11639543 -0.31360088\n",
      "  0.03114595  0.06369044  0.06369044 -0.01760305  0.11639543 -0.25415973\n",
      " -0.1483406   0.11639543 -0.00964729 -0.19918483 -0.01760305  0.15609675\n",
      " -0.25415973  0.15609675 -0.01760305  0.15609675  0.15609675  0.11639543\n",
      "  0.15609675  0.06369044  0.15609675  0.06369044  0.11639543  0.15609675\n",
      "  0.06369044 -0.01760305 -0.01760305  0.15609675 -0.1483406   0.11639543\n",
      "  0.15609675 -0.05782597  0.15609675  0.15609675  0.15609675  0.11639543\n",
      " -0.05782597  0.15609675 -0.00964729 -0.01760305  0.15609675  0.15609675\n",
      "  0.15609675  0.15609675  0.15609675 -0.1483406   0.15609675  0.15609675\n",
      "  0.15609675  0.15609675  0.15609675 -0.19918483  0.11639543  0.15609675\n",
      " -0.01760305  0.15609675  0.15609675 -0.1483406  -0.05782597  0.15609675\n",
      " -0.44736275 -0.05782597 -0.05782597  0.15609675  0.15609675  0.15609675\n",
      "  0.15609675  0.15609675 -0.05782597  0.03114595  0.03114595  0.03114595\n",
      "  0.03114595  0.03114595  0.03114595 -0.00964729 -0.00964729  0.11639543\n",
      "  0.11639543  0.11639543  0.15609675  0.11639543 -0.1483406   0.11639543\n",
      "  0.03114595 -0.05782597 -0.05782597  0.03114595  0.03114595  0.05478524\n",
      "  0.05478524  0.05478524  0.03114595  0.03114595 -0.10131666  0.04418699\n",
      "  0.11639543  0.11639543  0.11639543  0.03114595  0.11639543  0.11639543\n",
      "  0.11639543  0.04418699  0.11639543  0.04418699  0.11639543  0.11639543\n",
      " -0.01760305  0.11639543  0.03114595  0.11639543 -0.05782597  0.04418699\n",
      "  0.03114595  0.03114595  0.04418699]\n"
     ]
    }
   ],
   "source": [
    "#print(scores_pred)\n",
    "print(scores_pred)\n"
   ]
  },
  {
   "cell_type": "code",
   "execution_count": 209,
   "metadata": {},
   "outputs": [
    {
     "name": "stdout",
     "output_type": "stream",
     "text": [
      "[ 0.05364595  0.05364595  0.14953923  0.14451209  0.00489695  0.05364595\n",
      " -0.23165973  0.14953923  0.05364595  0.05364595  0.08619044  0.14451209\n",
      "  0.00489695 -0.03532597  0.08619044  0.14451209  0.14953923  0.08619044\n",
      "  0.08619044  0.14451209  0.00489695  0.14953923  0.00489695  0.00489695\n",
      " -0.07881666  0.01285271  0.00489695  0.08619044  0.14451209 -0.07881666\n",
      "  0.01285271 -0.03532597  0.01285271  0.14953923  0.09385293  0.08619044\n",
      "  0.14953923  0.14953923  0.14953923  0.14953923  0.14953923  0.14953923\n",
      "  0.14953923  0.14953923  0.09385293 -0.1258406   0.14953923  0.09385293\n",
      "  0.100565    0.08619044  0.03676099  0.01285271  0.100565    0.14953923\n",
      "  0.100565   -0.03532597  0.14953923  0.100565    0.14953923  0.100565\n",
      "  0.03676099 -0.1258406   0.09385293  0.14451209  0.14953923  0.14451209\n",
      "  0.14953923  0.100565   -0.03532597  0.100565    0.100565    0.03676099\n",
      " -0.42486275 -0.07881666  0.100565    0.09385293  0.100565    0.03676099\n",
      "  0.14953923  0.14953923  0.09385293  0.08619044  0.09385293  0.09385293\n",
      "  0.09385293  0.14451209  0.14451209  0.00489695  0.09385293 -0.1258406\n",
      "  0.14451209  0.14451209  0.14451209  0.14451209  0.09385293  0.00489695\n",
      " -0.07881666 -0.35537111  0.00489695  0.14451209  0.00489695  0.00489695\n",
      "  0.09385293  0.09385293  0.00489695 -0.07881666  0.09385293  0.09385293\n",
      "  0.14451209 -0.03532597 -0.03532597  0.09385293  0.14451209  0.14451209\n",
      "  0.14451209  0.14451209  0.09385293  0.00489695  0.00489695  0.14953923\n",
      "  0.00489695  0.14451209  0.00489695  0.14451209  0.09385293  0.01285271\n",
      "  0.01285271  0.14953923 -0.07881666]\n"
     ]
    }
   ],
   "source": [
    "#print(scores_pred_lib)\n",
    "print(scores_pred_lib)"
   ]
  },
  {
   "cell_type": "code",
   "execution_count": 210,
   "metadata": {},
   "outputs": [
    {
     "name": "stdout",
     "output_type": "stream",
     "text": [
      "-0.009831009806138616\n"
     ]
    }
   ],
   "source": [
    "diff = scores_pred - scores_pred_lib\n",
    "print(np.mean(diff))"
   ]
  },
  {
   "cell_type": "code",
   "execution_count": 211,
   "metadata": {},
   "outputs": [
    {
     "data": {
      "text/plain": [
       "(array([ 1.,  0.,  1.,  3.,  2.,  5.,  1., 21., 21.,  8., 66.]),\n",
       " array([-0.44736275, -0.3925028 , -0.33764284, -0.28278289, -0.22792293,\n",
       "        -0.17306298, -0.11820302, -0.06334307, -0.00848312,  0.04637684,\n",
       "         0.10123679,  0.15609675]),\n",
       " <BarContainer object of 11 artists>)"
      ]
     },
     "execution_count": 211,
     "metadata": {},
     "output_type": "execute_result"
    },
    {
     "data": {
      "image/png": "[encoded data removed]",
      "text/plain": [
       "<Figure size 432x288 with 1 Axes>"
      ]
     },
     "metadata": {
      "needs_background": "light"
     },
     "output_type": "display_data"
    }
   ],
   "source": [
    "plt.hist(scores_pred, bins=11)"
   ]
  },
  {
   "cell_type": "code",
   "execution_count": 212,
   "metadata": {},
   "outputs": [
    {
     "data": {
      "text/plain": [
       "(array([ 1.,  1.,  0.,  1.,  0.,  3.,  6.,  6., 26., 31., 54.]),\n",
       " array([-0.42486275, -0.37264439, -0.32042603, -0.26820766, -0.2159893 ,\n",
       "        -0.16377094, -0.11155258, -0.05933422, -0.00711585,  0.04510251,\n",
       "         0.09732087,  0.14953923]),\n",
       " <BarContainer object of 11 artists>)"
      ]
     },
     "execution_count": 212,
     "metadata": {},
     "output_type": "execute_result"
    },
    {
     "data": {
      "image/png": "[encoded data removed]",
      "text/plain": [
       "<Figure size 432x288 with 1 Axes>"
      ]
     },
     "metadata": {
      "needs_background": "light"
     },
     "output_type": "display_data"
    }
   ],
   "source": [
    "plt.hist(scores_pred_lib, bins=11)"
   ]
  },
  {
   "cell_type": "code",
   "execution_count": 215,
   "metadata": {},
   "outputs": [
    {
     "data": {
      "text/plain": [
       "2"
      ]
     },
     "execution_count": 215,
     "metadata": {},
     "output_type": "execute_result"
    }
   ],
   "source": [
    "file = open(\"save_vectors.ino\", \"w\")\n",
    "\n",
    "file.write(\"#include <vector>\\n\")\n",
    "file.write(\"using namespace std;\\n\\n\")\n",
    "file.write(\"struct Tree{\\n\")\n",
    "file.write(\"    int child_id_left, child_id_right, feature, n_samples;\\n\")\n",
    "file.write(\"    float threshold;\\n\")\n",
    "file.write(\"};\\n\\n\")\n",
    "\n",
    "file.write(\"vector<vector<Tree>> iForest;\\n\")\n",
    "m = 0\n",
    "while m < clf_lib.n_estimators:\n",
    "    file.write(\"std::vector<Tree> iTree\" + str(m + 1) + \";\\n\")\n",
    "    m += 1\n",
    "file.write(\"\\n\")\n",
    "\n",
    "f = 0\n",
    "file.write(\"void setup() {\\n\")\n",
    "file.write(\"    Serial.begin(9600);\\n\")\n",
    "while f < clf_lib.n_estimators:\n",
    "    j = 0\n",
    "    while j < len(clf_lib.estimators_[f].tree_.feature):\n",
    "        temp_child_l = clf_lib.estimators_[f].tree_.children_left[j]\n",
    "        if clf_lib.estimators_[f].tree_.children_left[j] == -1:\n",
    "            temp_child_l = 0\n",
    "\n",
    "        temp_child_r = clf_lib.estimators_[f].tree_.children_right[j]\n",
    "        if temp_child_r == clf_lib.estimators_[f].tree_.children_right[j] == -1:\n",
    "            temp_child_r = 0\n",
    "\n",
    "        temp_feature = clf_lib.estimators_[f].tree_.feature[j]\n",
    "        temp_threshold = clf_lib.estimators_[f].tree_.threshold[j]\n",
    "        temps_values = clf_lib.estimators_[f].tree_.n_node_samples[j]\n",
    "\n",
    "        file.write(\"    iTree\" + str(f + 1) + \".push_back({\"  \n",
    "                                                            + str(temp_child_l) + \", \"\n",
    "                                                            + str(temp_child_r) + \", \"\n",
    "                                                            + str(temp_feature) + \", \"\n",
    "                                                            + str(temps_values) + \", \"\n",
    "                                                            + str(temp_threshold) + \n",
    "                                                        \"});\\n\")\n",
    "\n",
    "        j += 1\n",
    "\n",
    "    file.write(\"    iForest.push_back(iTree\" + str(f + 1) + \");\\n\\n\")\n",
    "    f += 1\n",
    "\n",
    "rows = f*j\n",
    "memory_per_vector = 8\n",
    "allocated_memory = rows * memory_per_vector\n",
    "file.write(\"}\\n\")\n",
    "file.write(\"void loop() {\\n\")\n",
    "file.write(\"\\n}\")\n",
    "\n",
    "\n"
   ]
  },
  {
   "cell_type": "code",
   "execution_count": 275,
   "metadata": {},
   "outputs": [
    {
     "data": {
      "text/plain": [
       "<Figure size 1080x864 with 0 Axes>"
      ]
     },
     "metadata": {},
     "output_type": "display_data"
    },
    {
     "data": {
      "image/png": "[encoded data removed]",
      "text/plain": [
       "<Figure size 720x720 with 1 Axes>"
      ]
     },
     "metadata": {
      "needs_background": "light"
     },
     "output_type": "display_data"
    }
   ],
   "source": [
    "# Fit the models with the generated data and \n",
    "# compare model performances\n",
    "def c(size):\n",
    "    if size > 2:\n",
    "        return 2 * (np.log(size-1)+0.5772156649) - 2*(size-1)/size\n",
    "    if size == 2:\n",
    "        return 1\n",
    "    return 0\n",
    "\n",
    "np.random.seed(42)\n",
    "clf = antonForest(100, 256, random_state=random_state)\n",
    "clf_lib = IsolationForest(random_state=random_state)\n",
    "# Data generation\n",
    "X1 = 0.3 * np.random.randn(n_inliers // 2, 2) #Removed offest\n",
    "X2 = 0.3 * np.random.randn(n_inliers // 2, 2) #Removed offset\n",
    "X = np.r_[X1, X2]\n",
    "# Add outliers\n",
    "X = np.r_[X, np.random.uniform(low=-6, high=6, size=(n_outliers, 2))]\n",
    "\n",
    "\n",
    "# Fit the model\n",
    "plt.figure(figsize=(15, 12))\n",
    "# fit the data and tag outliers\n",
    "clf.fit(X)\n",
    "clf_lib.fit(X)\n",
    "#WARNING put +1\n",
    "scores_pred = clf.decision_function(X) * 1\n",
    "scores_pred_lib = clf_lib.decision_function(X) * 1 \n",
    "\n",
    "threshold = percentile(scores_pred, 100 * outliers_fraction)\n",
    "threshold_lib = percentile(scores_pred_lib, 100 * outliers_fraction)\n",
    "\n",
    "y_pred = clf.predict(X, threshold) * -1\n",
    "y_pred = (y_pred + 1) #/ 2\n",
    "\n",
    "y_pred_lib = clf_lib.predict(X) * -1\n",
    "y_pred_lib = (y_pred_lib + 1) / 2\n",
    "\n",
    "n_errors = (y_pred != ground_truth).sum()\n",
    "# plot the levels lines and the points\n",
    "\n",
    "#WARNING +1\n",
    "Z = clf.decision_function(np.c_[xx.ravel(), yy.ravel()]) * 1\n",
    "Z = Z.reshape(xx.shape)\n",
    "plt.figure(figsize=[10,10])\n",
    "subplot = plt.subplot(2, 2, 1)\n",
    "subplot.contourf(xx, yy, Z, levels=np.linspace(Z.min(), threshold, 7),\n",
    "                    cmap=plt.cm.Blues_r)\n",
    "a = subplot.contour(xx, yy, Z, levels=[threshold], #Removed - in front of threshold, since -score\n",
    "                    linewidths=2, colors='red')\n",
    "subplot.contourf(xx, yy, Z, levels=[threshold, Z.max()],\n",
    "                    colors='orange')\n",
    "b = subplot.scatter(X[:-n_outliers, 0], X[:-n_outliers, 1], c='white',\n",
    "                    s=20, edgecolor='k')\n",
    "c = subplot.scatter(X[-n_outliers:, 0], X[-n_outliers:, 1], c='black',\n",
    "                    s=20, edgecolor='k')\n",
    "subplot.axis('tight')\n",
    "subplot.set_xlabel(\"%d. %s (errors: %d)\" % (1, \"Isolation Forest\", n_errors))\n",
    "subplot.set_xlim((-7, 7))\n",
    "subplot.set_ylim((-7, 7))\n",
    "plt.subplots_adjust(0.04, 0.1, 0.96, 0.94, 0.1, 0.26)\n",
    "plt.suptitle(\"Outlier detection\")\n",
    "plt.show()"
   ]
  },
  {
   "cell_type": "code",
   "execution_count": null,
   "metadata": {},
   "outputs": [],
   "source": []
  }
 ],
 "metadata": {
  "interpreter": {
   "hash": "c4a31993002339e453ebb2c66c294fd01e84ed8cca375c93fb5e33ef382fbc8b"
  },
  "kernelspec": {
   "display_name": "Python 3.9.10 64-bit (windows store)",
   "language": "python",
   "name": "python3"
  },
  "language_info": {
   "codemirror_mode": {
    "name": "ipython",
    "version": 3
   },
   "file_extension": ".py",
   "mimetype": "text/x-python",
   "name": "python",
   "nbconvert_exporter": "python",
   "pygments_lexer": "ipython3",
   "version": "3.9.10"
  },
  "orig_nbformat": 4
 },
 "nbformat": 4,
 "nbformat_minor": 2
}
