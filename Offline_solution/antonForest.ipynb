{
 "cells": [
  {
   "cell_type": "code",
   "execution_count": 1,
   "metadata": {},
   "outputs": [],
   "source": [
    "import numpy as np"
   ]
  },
  {
   "cell_type": "code",
   "execution_count": 205,
   "metadata": {},
   "outputs": [],
   "source": [
    "class antonForest():\n",
    "\n",
    "    def __init__(self, t_trees, sample_size, random_state) -> None:\n",
    "        self.t_trees = t_trees\n",
    "        self.sample_size = sample_size\n",
    "        self.random_state = random_state\n",
    "\n",
    "    def fit(self, X):\n",
    "        \n",
    "        self.forest = []\n",
    "        height_limit = np.ceil(np.log2(self.sample_size))\n",
    "        n_rows = X.shape[0]\n",
    "        if n_rows < self.sample_size:\n",
    "            self.sample_size = n_rows\n",
    "        for i in range(self.t_trees):\n",
    "            \n",
    "            #if n_rows < self.sample_size:\n",
    "             #   self.sample_size = n_rows\n",
    "            #index = self.random_state.choice(range(n_rows), size = self.sample_size, replace = False)\n",
    "            #This row makes the subsampling and split values random for each run\n",
    "            index = self.random_state.randint(0, n_rows, self.sample_size)\n",
    "            #index = np.random.choice(range(n_rows), size=self.sample_size, replace=False)\n",
    "            #index = np.random.randint(0, n_rows, self.sample_size)\n",
    "            \n",
    "            sub_X = X[index]\n",
    "            \n",
    "            tree = iTree(0, height_limit)\n",
    "            tree.fit(sub_X)\n",
    "            self.forest.append(tree)\n",
    "            \n",
    "        return self\n",
    "\n",
    "    def path_length(self, data):\n",
    "\n",
    "        edges = []\n",
    "\n",
    "        for row in data:\n",
    "            path = []\n",
    "            for tree in self.forest:\n",
    "                node = tree.root\n",
    "                length = 0\n",
    "                while isinstance(node, DecisionNode):\n",
    "                    if row[node.q_value] < node.x_value:\n",
    "                        node = node.left\n",
    "                    else:\n",
    "                        node = node.right\n",
    "                    length += 1\n",
    "                leaf_size = node.size\n",
    "                path_length = length + c(leaf_size)\n",
    "                path.append(path_length)\n",
    "            \n",
    "            edges.append(path)\n",
    "        edges = np.array(edges)\n",
    "        return np.mean(edges, axis = -1)\n",
    "\n",
    "    def decision_function(self, data):\n",
    "\n",
    "        average_length = self.path_length(data)\n",
    "        scores = np.array([np.power(2, -l/c(self.sample_size)) for l in average_length])\n",
    "        #WARNING fix - and +0.5\n",
    "        scores = -scores +0.5250543855355995 #-0.4209613673797462  \n",
    "        return scores\n",
    "\n",
    "    def predict_from_score(self, scores, threshold):\n",
    "        return np.array([1 if s >= threshold else 0 for s in scores])\n",
    "\n",
    "    def predict(self, data, threshold):\n",
    "        scores = self.decision_function(data)\n",
    "        prediction = self.predict_from_score(scores, threshold)\n",
    "        return prediction"
   ]
  },
  {
   "cell_type": "code",
   "execution_count": 206,
   "metadata": {},
   "outputs": [],
   "source": [
    "class Leaf:\n",
    "\n",
    "    def __init__(self, size, data) -> None:\n",
    "        self.size = size\n",
    "        self.data = data"
   ]
  },
  {
   "cell_type": "code",
   "execution_count": 207,
   "metadata": {},
   "outputs": [],
   "source": [
    "class DecisionNode:\n",
    "\n",
    "    def __init__(self, left, right, q_value, x_value) -> None:\n",
    "        self.left = left\n",
    "        self.right = right\n",
    "        self.q_value = q_value\n",
    "        self.x_value = x_value"
   ]
  },
  {
   "cell_type": "code",
   "execution_count": 208,
   "metadata": {},
   "outputs": [],
   "source": [
    "class iTree():\n",
    "\n",
    "    def __init__(self, current_height, height_limit) -> None:\n",
    "        self.current_height = current_height\n",
    "        self.heigh_limit = height_limit\n",
    "\n",
    "    def fit(self, sub_sample):\n",
    "        \n",
    "        X = sub_sample\n",
    "        \n",
    "        if self.current_height >= self.heigh_limit or X.shape[0] <= 2:\n",
    "            self.root = Leaf(X.shape[0], X)\n",
    "            return self.root\n",
    "        else:\n",
    "            #Chosing random q value\n",
    "            n_attributes = X.shape[1]#WARNING changed from 1 to 0\n",
    "            q_value = np.random.randint(0, n_attributes)\n",
    "            #Chosing random x value\n",
    "            x_value = np.random.uniform(min(X[:, q_value]), max(X[:, q_value]))\n",
    "\n",
    "            X_left = X[X[:, q_value] < x_value]\n",
    "            X_right = X[X[:, q_value] >= x_value]\n",
    "\n",
    "            left_subtree = iTree(self.current_height + 1, self.heigh_limit)\n",
    "            right_subtree = iTree(self.current_height + 1, self.heigh_limit)\n",
    "\n",
    "            left_subtree.fit(X_left)\n",
    "            right_subtree.fit(X_right)\n",
    "\n",
    "            self.root = DecisionNode(left_subtree.root, right_subtree.root, q_value, x_value)\n",
    "            self.n_nodes = self.count_nodes(self.root)\n",
    "\n",
    "            return self.root\n",
    "\n",
    "    def count_nodes(self, root):\n",
    "            \n",
    "        count = 0\n",
    "        stack = [root]\n",
    "           \n",
    "        while stack:\n",
    "            node = stack.pop()\n",
    "            count += 1\n",
    "\n",
    "        if isinstance(node, DecisionNode):\n",
    "            stack.append(node.right)\n",
    "            stack.append(node.left)\n",
    "\n",
    "        return count\n"
   ]
  },
  {
   "cell_type": "markdown",
   "metadata": {},
   "source": [
    "Code for testing and running the classes and functions:"
   ]
  },
  {
   "cell_type": "code",
   "execution_count": 209,
   "metadata": {},
   "outputs": [],
   "source": [
    "from __future__ import division\n",
    "from __future__ import print_function\n",
    "from sklearn.ensemble import IsolationForest\n",
    "\n",
    "import os\n",
    "import sys\n",
    "from time import time\n",
    "\n",
    "# temporary solution for relative imports in case pyod is not installed\n",
    "# if pyod is installed, no need to use the following line\n",
    "sys.path.append(\n",
    "    os.path.abspath(os.path.join(os.path.dirname(\"__file__\"), '..')))\n",
    "\n",
    "from numpy import percentile\n",
    "from sklearn.metrics import average_precision_score\n",
    "import scipy.io\n",
    "import matplotlib.pyplot as plt"
   ]
  },
  {
   "cell_type": "code",
   "execution_count": 210,
   "metadata": {},
   "outputs": [],
   "source": [
    "# Define the number of inliers and outliers\n",
    "n_samples = 200\n",
    "outliers_fraction = 0.25\n",
    "clusters_separation = [0]\n",
    "\n",
    "# Compare given detectors under given settings\n",
    "# Initialize the data\n",
    "xx, yy = np.meshgrid(np.linspace(-7, 7, 100), np.linspace(-7, 7, 100))\n",
    "n_inliers = int((1. - outliers_fraction) * n_samples)\n",
    "n_outliers = int(outliers_fraction * n_samples)\n",
    "ground_truth = np.zeros(n_samples, dtype=int)\n",
    "ground_truth[-n_outliers:] = 1"
   ]
  },
  {
   "cell_type": "code",
   "execution_count": 211,
   "metadata": {},
   "outputs": [],
   "source": [
    "random_state = np.random.RandomState(42)"
   ]
  },
  {
   "cell_type": "code",
   "execution_count": 212,
   "metadata": {},
   "outputs": [],
   "source": [
    "# Fit the models with the generated data and \n",
    "# compare model performances\n",
    "def c(size):\n",
    "    if size > 2:\n",
    "        return 2 * (np.log(size-1)+0.5772156649) - 2*(size-1)/size\n",
    "    if size == 2:\n",
    "        return 1\n",
    "    return 0\n",
    "\n",
    "np.random.seed(42)\n",
    "clf = antonForest(100, 256, random_state=random_state)\n",
    "clf_lib = IsolationForest(n_estimators = 100, random_state=random_state)\n",
    "# Data generation\n",
    "#X1 = 0.3 * np.random.randn(n_inliers // 2, 2) #Removed offest\n",
    "#X2 = 0.3 * np.random.randn(n_inliers // 2, 2) #Removed offset\n",
    "#X = np.r_[X1, X2]\n",
    "# Add outliers\n",
    "#X = np.r_[X, np.random.uniform(low=-6, high=6, size=(n_outliers, 2))]\n",
    "\n",
    "data = scipy.io.loadmat('C:\\\\Users\\\\anton\\\\OneDrive\\\\Skrivbord\\\\Thesis_Code\\\\IsolationForestTinyML\\\\DatSets\\\\ionosphere.mat',\n",
    "                        squeeze_me=False)\n",
    "\n",
    "enlist = list(data.items())\n",
    "X = np.array(enlist, dtype=object)\n",
    "X = np.delete(X, 0, 0)\n",
    "X = np.delete(X, 0, 0)\n",
    "X = np.delete(X, 0, 0)\n",
    "X = np.delete(X, 0, 1)\n",
    "\n",
    "y_true = np.empty([1,0], dtype=int)\n",
    "\n",
    "#print(X[1][0][0])\n",
    "k = 0\n",
    "#while k < len(X[1][0]):\n",
    "#    y_true = np.append(y_true, int(X[1][0][k]))\n",
    "#    k += 1\n",
    "\n",
    "X = X[0][0]\n",
    "#print(X[0][0])\n",
    "# Fit the model\n",
    "#plt.figure(figsize=(15, 12))\n",
    "# fit the data and tag outliers\n",
    "p = 0\n",
    "aps = []\n",
    "aps_lib = []\n",
    "outliers = 10\n",
    "#while p < 10:\n",
    "clf.fit(X)\n",
    "clf_lib.fit(X)\n",
    "#WARNING put +1\n",
    "scores_pred = clf.decision_function(X) * 1\n",
    "\n",
    "scores_pred_lib = clf_lib.decision_function(X) * 1 \n",
    "\n",
    "threshold = percentile(scores_pred, 100 * outliers_fraction)\n",
    "threshold_lib = percentile(scores_pred_lib, 100 * outliers_fraction)\n",
    "\n",
    "\n",
    "#aps.append(average_precision_score(y_true, scores_pred))\n",
    "#aps_lib.append(average_precision_score(y_true, scores_pred_lib))\n",
    "#p += 1\n",
    "#n_errors = (y_pred != ground_truth).sum()\n",
    "# plot the levels lines and the points\n",
    "\n",
    "#WARNING +1\n",
    "#Z = clf.decision_function(np.c_[xx.ravel(), yy.ravel()]) * 1\n",
    "#Z = Z.reshape(xx.shape)\n",
    "#plt.figure(figsize=[10,10])\n",
    "#subplot = plt.subplot(2, 2, 1)\n",
    "#subplot.contourf(xx, yy, Z, levels=np.linspace(Z.min(), threshold, 7),\n",
    "#                    cmap=plt.cm.Blues_r)\n",
    "#a = subplot.contour(xx, yy, Z, levels=[threshold], #Removed - in front of threshold, since -score\n",
    "#                    linewidths=2, colors='red')\n",
    "#subplot.contourf(xx, yy, Z, levels=[threshold, Z.max()],\n",
    "#                    colors='orange')\n",
    "#b = subplot.scatter(X[:-n_outliers, 0], X[:-n_outliers, 1], c='white',\n",
    "#                    s=20, edgecolor='k')\n",
    "#c = subplot.scatter(X[-n_outliers:, 0], X[-n_outliers:, 1], c='black',\n",
    "#                    s=20, edgecolor='k')\n",
    "#subplot.axis('tight')\n",
    "#subplot.set_xlabel(\"%d. %s (errors: %d)\" % (1, \"Isolation Forest\", n_errors))\n",
    "#subplot.set_xlim((-7, 7))\n",
    "#subplot.set_ylim((-7, 7))\n",
    "#plt.subplots_adjust(0.04, 0.1, 0.96, 0.94, 0.1, 0.26)\n",
    "#plt.suptitle(\"Outlier detection\")\n",
    "#plt.show()\n",
    "#all_data = [aps, aps_lib]\n",
    "#plt.boxplot(all_data)\n",
    "#print(scores_pred)\n",
    "#print(scores_pred_lib)"
   ]
  },
  {
   "cell_type": "code",
   "execution_count": 213,
   "metadata": {},
   "outputs": [
    {
     "name": "stdout",
     "output_type": "stream",
     "text": [
      "129\n"
     ]
    }
   ],
   "source": [
    "print(X.shape[0])"
   ]
  },
  {
   "cell_type": "code",
   "execution_count": 214,
   "metadata": {},
   "outputs": [
    {
     "name": "stdout",
     "output_type": "stream",
     "text": [
      "[ 0.02075153  0.00284255  0.04231563 -0.00718582  0.00053502  0.02556823\n",
      " -0.0181624   0.06419649 -0.02390923  0.0104382  -0.01732614  0.01794773\n",
      "  0.04686444  0.07210969  0.03495047  0.06537445  0.08315043 -0.00453954\n",
      "  0.07053864  0.02777402 -0.03458843  0.05816111 -0.00360821  0.08444923\n",
      " -0.0659752   0.03136581  0.04898021  0.03399813  0.07945705 -0.02563332\n",
      "  0.04175103  0.05087406  0.07932245  0.04884129  0.07111325  0.06789617\n",
      "  0.09821856  0.0873528   0.0420963   0.09351104  0.05231229  0.09849703\n",
      "  0.08915145  0.07895342  0.06380698  0.03938898 -0.01391923  0.01197329\n",
      "  0.06211439  0.03312929  0.00828234  0.05144751  0.08486793  0.08942498\n",
      "  0.08796208  0.08123925  0.0716394   0.09009615  0.10960586  0.07081779\n",
      "  0.03630415 -0.01115661  0.07914238  0.02982442  0.08529903  0.0888416\n",
      "  0.00175004  0.08571747  0.09307087  0.03199268  0.06636945  0.06111437\n",
      " -0.07169677  0.01205423  0.00781205 -0.0153832   0.09024108  0.0568527\n",
      "  0.04111154  0.0734671   0.06565764  0.03943286  0.05764618  0.05996212\n",
      "  0.04622685  0.04796528  0.06212836  0.03310304  0.01728817  0.07036121\n",
      "  0.07244843  0.06308939  0.04143723  0.06404784  0.06641433  0.02172747\n",
      "  0.04991722 -0.02750213  0.06080949  0.07310836  0.04460536  0.02431315\n",
      "  0.03684526  0.02971071  0.03980437  0.05099918  0.03573199  0.04975391\n",
      "  0.00029431 -0.04351318  0.0129228   0.06033302  0.07383825  0.07733065\n",
      "  0.08792743  0.07204664  0.04618006  0.04238699  0.07805172  0.0373865\n",
      "  0.01395125  0.06212771  0.04536979  0.05599343  0.04007232  0.06980463\n",
      "  0.03493766  0.03948214  0.01561321]\n"
     ]
    }
   ],
   "source": [
    "#print(scores_pred)\n",
    "print(scores_pred)\n"
   ]
  },
  {
   "cell_type": "code",
   "execution_count": 215,
   "metadata": {},
   "outputs": [
    {
     "name": "stdout",
     "output_type": "stream",
     "text": [
      "[ 0.01669184  0.00515473  0.05146643 -0.00547119 -0.00059348  0.03095742\n",
      " -0.00998812  0.05942021 -0.0349231  -0.00316742 -0.06395142  0.00918045\n",
      "  0.05393689  0.0488285   0.04397609  0.04639708  0.07040348  0.00169034\n",
      "  0.05296525  0.02083627 -0.0419589   0.03803893 -0.00221261  0.07508383\n",
      " -0.08267784  0.01710875  0.04180126  0.02780292  0.08832095  0.00675496\n",
      "  0.04010822  0.03191191  0.09342941  0.05323876  0.08005986  0.05904484\n",
      "  0.09137652  0.08382863  0.03752688  0.09494368  0.06112219  0.08445183\n",
      "  0.07995298  0.08538066  0.05444135  0.05153005 -0.03015201  0.03459267\n",
      "  0.08058774  0.02515008 -0.00078449  0.06544617  0.08105317  0.08829696\n",
      "  0.08673784  0.08947275  0.02256765  0.0871629   0.0933216   0.06147927\n",
      "  0.0580874  -0.03798971  0.07936059  0.03764077  0.06209469  0.07232379\n",
      "  0.00376812  0.08115689  0.07910372  0.03761152  0.06531724  0.05629769\n",
      " -0.1236495   0.00887783 -0.0017858  -0.02653565  0.09099972  0.06039556\n",
      "  0.02672626  0.06625448  0.0724465   0.05260476  0.09045962  0.05186836\n",
      "  0.08445878  0.07221668  0.07556005  0.0246446   0.02843474  0.08386108\n",
      "  0.0803838   0.09216569  0.06880237  0.06600471  0.0635979   0.02242373\n",
      "  0.0557495  -0.02788599  0.06811368  0.0898664   0.04909728  0.0126889\n",
      "  0.01246888  0.00671149  0.03680619  0.05529113  0.05461453  0.0662606\n",
      "  0.00791732 -0.06123484  0.01768115  0.07026035  0.07643771  0.09213222\n",
      "  0.09103938  0.07496858  0.04955928  0.05258224  0.08460627  0.06231536\n",
      "  0.0200047   0.06308978  0.06210432  0.07752839  0.04729415  0.0836011\n",
      "  0.03496268  0.05441259  0.02872123]\n"
     ]
    }
   ],
   "source": [
    "#print(scores_pred_lib)\n",
    "print(scores_pred_lib)"
   ]
  },
  {
   "cell_type": "code",
   "execution_count": 216,
   "metadata": {},
   "outputs": [
    {
     "name": "stdout",
     "output_type": "stream",
     "text": [
      "-4.3031900179269636e-17\n"
     ]
    }
   ],
   "source": [
    "diff = scores_pred - scores_pred_lib\n",
    "print(np.mean(diff))"
   ]
  },
  {
   "cell_type": "code",
   "execution_count": 217,
   "metadata": {},
   "outputs": [
    {
     "data": {
      "text/plain": [
       "(array([ 2.,  1.,  6.,  8., 12., 17., 26., 30., 22.,  5.]),\n",
       " array([-0.07169677, -0.05356651, -0.03543625, -0.01730598,  0.00082428,\n",
       "         0.01895454,  0.0370848 ,  0.05521507,  0.07334533,  0.09147559,\n",
       "         0.10960586]),\n",
       " <BarContainer object of 10 artists>)"
      ]
     },
     "execution_count": 217,
     "metadata": {},
     "output_type": "execute_result"
    },
    {
     "data": {
      "image/png": "[encoded data removed]",
      "text/plain": [
       "<Figure size 432x288 with 1 Axes>"
      ]
     },
     "metadata": {
      "needs_background": "light"
     },
     "output_type": "display_data"
    }
   ],
   "source": [
    "plt.hist(scores_pred)"
   ]
  },
  {
   "cell_type": "code",
   "execution_count": 218,
   "metadata": {},
   "outputs": [
    {
     "data": {
      "text/plain": [
       "(array([ 1.,  1.,  2.,  2.,  4., 12., 18., 17., 37., 35.]),\n",
       " array([-0.1236495 , -0.10179019, -0.07993087, -0.05807155, -0.03621223,\n",
       "        -0.01435291,  0.00750641,  0.02936572,  0.05122504,  0.07308436,\n",
       "         0.09494368]),\n",
       " <BarContainer object of 10 artists>)"
      ]
     },
     "execution_count": 218,
     "metadata": {},
     "output_type": "execute_result"
    },
    {
     "data": {
      "image/png": "[encoded data removed]",
      "text/plain": [
       "<Figure size 432x288 with 1 Axes>"
      ]
     },
     "metadata": {
      "needs_background": "light"
     },
     "output_type": "display_data"
    }
   ],
   "source": [
    "plt.hist(scores_pred_lib)"
   ]
  },
  {
   "cell_type": "code",
   "execution_count": 130,
   "metadata": {},
   "outputs": [
    {
     "data": {
      "text/plain": [
       "2"
      ]
     },
     "execution_count": 130,
     "metadata": {},
     "output_type": "execute_result"
    }
   ],
   "source": [
    "file = open(\"save_vectors.ino\", \"w\")\n",
    "\n",
    "file.write(\"#include <vector>\\n\")\n",
    "file.write(\"using namespace std;\\n\\n\")\n",
    "file.write(\"struct Tree{\\n\")\n",
    "file.write(\"    int child_id_left, child_id_right, feature, n_samples;\\n\")\n",
    "file.write(\"    float threshold;\\n\")\n",
    "file.write(\"};\\n\\n\")\n",
    "\n",
    "file.write(\"vector<vector<Tree>> iForest;\\n\")\n",
    "m = 0\n",
    "while m < clf_lib.n_estimators:\n",
    "    file.write(\"std::vector<Tree> iTree\" + str(m + 1) + \";\\n\")\n",
    "    m += 1\n",
    "file.write(\"\\n\")\n",
    "\n",
    "f = 0\n",
    "file.write(\"void setup() {\\n\")\n",
    "file.write(\"    Serial.begin(9600);\\n\")\n",
    "while f < clf_lib.n_estimators:\n",
    "    j = 0\n",
    "    while j < len(clf_lib.estimators_[f].tree_.feature):\n",
    "        temp_child_l = clf_lib.estimators_[f].tree_.children_left[j]\n",
    "        if clf_lib.estimators_[f].tree_.children_left[j] == -1:\n",
    "            temp_child_l = 0\n",
    "\n",
    "        temp_child_r = clf_lib.estimators_[f].tree_.children_right[j]\n",
    "        if temp_child_r == clf_lib.estimators_[f].tree_.children_right[j] == -1:\n",
    "            temp_child_r = 0\n",
    "\n",
    "        temp_feature = clf_lib.estimators_[f].tree_.feature[j]\n",
    "        temp_threshold = clf_lib.estimators_[f].tree_.threshold[j]\n",
    "        temps_values = clf_lib.estimators_[f].tree_.n_node_samples[j]\n",
    "\n",
    "        file.write(\"    iTree\" + str(f + 1) + \".push_back({\"  \n",
    "                                                            + str(temp_child_l) + \", \"\n",
    "                                                            + str(temp_child_r) + \", \"\n",
    "                                                            + str(temp_feature) + \", \"\n",
    "                                                            + str(temps_values) + \", \"\n",
    "                                                            + str(temp_threshold) + \n",
    "                                                        \"});\\n\")\n",
    "\n",
    "        j += 1\n",
    "\n",
    "    file.write(\"    iForest.push_back(iTree\" + str(f + 1) + \");\\n\\n\")\n",
    "    f += 1\n",
    "\n",
    "rows = f*j\n",
    "memory_per_vector = 8\n",
    "allocated_memory = rows * memory_per_vector\n",
    "file.write(\"}\\n\")\n",
    "file.write(\"void loop() {\\n\")\n",
    "file.write(\"\\n}\")\n",
    "\n",
    "\n"
   ]
  },
  {
   "cell_type": "code",
   "execution_count": 155,
   "metadata": {},
   "outputs": [
    {
     "data": {
      "text/plain": [
       "<Figure size 1080x864 with 0 Axes>"
      ]
     },
     "metadata": {},
     "output_type": "display_data"
    },
    {
     "data": {
      "image/png": "[encoded data removed]",
      "text/plain": [
       "<Figure size 720x720 with 1 Axes>"
      ]
     },
     "metadata": {
      "needs_background": "light"
     },
     "output_type": "display_data"
    }
   ],
   "source": [
    "# Fit the models with the generated data and \n",
    "# compare model performances\n",
    "def c(size):\n",
    "    if size > 2:\n",
    "        return 2 * (np.log(size-1)+0.5772156649) - 2*(size-1)/size\n",
    "    if size == 2:\n",
    "        return 1\n",
    "    return 0\n",
    "\n",
    "np.random.seed(42)\n",
    "clf = antonForest(100, 256, random_state=random_state)\n",
    "clf_lib = IsolationForest(random_state=random_state)\n",
    "# Data generation\n",
    "X1 = 0.3 * np.random.randn(n_inliers // 2, 2) #Removed offest\n",
    "X2 = 0.3 * np.random.randn(n_inliers // 2, 2) #Removed offset\n",
    "X = np.r_[X1, X2]\n",
    "# Add outliers\n",
    "X = np.r_[X, np.random.uniform(low=-6, high=6, size=(n_outliers, 2))]\n",
    "\n",
    "\n",
    "# Fit the model\n",
    "plt.figure(figsize=(15, 12))\n",
    "# fit the data and tag outliers\n",
    "clf.fit(X)\n",
    "clf_lib.fit(X)\n",
    "#WARNING put +1\n",
    "scores_pred = clf.decision_function(X) * 1\n",
    "scores_pred_lib = clf_lib.decision_function(X) * 1 \n",
    "\n",
    "threshold = percentile(scores_pred, 100 * outliers_fraction)\n",
    "threshold_lib = percentile(scores_pred_lib, 100 * outliers_fraction)\n",
    "\n",
    "y_pred = clf.predict(X, threshold) * -1\n",
    "y_pred = (y_pred + 1) #/ 2\n",
    "\n",
    "y_pred_lib = clf_lib.predict(X) * -1\n",
    "y_pred_lib = (y_pred_lib + 1) / 2\n",
    "\n",
    "n_errors = (y_pred != ground_truth).sum()\n",
    "# plot the levels lines and the points\n",
    "\n",
    "#WARNING +1\n",
    "Z = clf.decision_function(np.c_[xx.ravel(), yy.ravel()]) * 1\n",
    "Z = Z.reshape(xx.shape)\n",
    "plt.figure(figsize=[10,10])\n",
    "subplot = plt.subplot(2, 2, 1)\n",
    "subplot.contourf(xx, yy, Z, levels=np.linspace(Z.min(), threshold, 7),\n",
    "                    cmap=plt.cm.Blues_r)\n",
    "a = subplot.contour(xx, yy, Z, levels=[threshold], #Removed - in front of threshold, since -score\n",
    "                    linewidths=2, colors='red')\n",
    "subplot.contourf(xx, yy, Z, levels=[threshold, Z.max()],\n",
    "                    colors='orange')\n",
    "b = subplot.scatter(X[:-n_outliers, 0], X[:-n_outliers, 1], c='white',\n",
    "                    s=20, edgecolor='k')\n",
    "c = subplot.scatter(X[-n_outliers:, 0], X[-n_outliers:, 1], c='black',\n",
    "                    s=20, edgecolor='k')\n",
    "subplot.axis('tight')\n",
    "subplot.set_xlabel(\"%d. %s (errors: %d)\" % (1, \"Isolation Forest\", n_errors))\n",
    "subplot.set_xlim((-7, 7))\n",
    "subplot.set_ylim((-7, 7))\n",
    "plt.subplots_adjust(0.04, 0.1, 0.96, 0.94, 0.1, 0.26)\n",
    "plt.suptitle(\"Outlier detection\")\n",
    "plt.show()"
   ]
  },
  {
   "cell_type": "code",
   "execution_count": null,
   "metadata": {},
   "outputs": [],
   "source": []
  }
 ],
 "metadata": {
  "interpreter": {
   "hash": "c4a31993002339e453ebb2c66c294fd01e84ed8cca375c93fb5e33ef382fbc8b"
  },
  "kernelspec": {
   "display_name": "Python 3.9.10 64-bit (windows store)",
   "language": "python",
   "name": "python3"
  },
  "language_info": {
   "codemirror_mode": {
    "name": "ipython",
    "version": 3
   },
   "file_extension": ".py",
   "mimetype": "text/x-python",
   "name": "python",
   "nbconvert_exporter": "python",
   "pygments_lexer": "ipython3",
   "version": "3.9.10"
  },
  "orig_nbformat": 4
 },
 "nbformat": 4,
 "nbformat_minor": 2
}
