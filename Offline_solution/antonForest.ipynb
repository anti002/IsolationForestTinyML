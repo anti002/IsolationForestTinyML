{
 "cells": [
  {
   "cell_type": "code",
   "execution_count": 1,
   "metadata": {},
   "outputs": [],
   "source": [
    "import numpy as np"
   ]
  },
  {
   "cell_type": "code",
   "execution_count": 12,
   "metadata": {},
   "outputs": [],
   "source": [
    "class antonForest():\n",
    "\n",
    "    def __init__(self, t_trees, sample_size, random_state) -> None:\n",
    "        self.t_trees = t_trees\n",
    "        self.sample_size = sample_size\n",
    "        self.random_state = random_state\n",
    "\n",
    "    def fit(self, X):\n",
    "        \n",
    "        self.forest = []\n",
    "        height_limit = 8 #np.ceil(np.log2(self.sample_size)) #WARNING\n",
    "        n_rows = X.shape[0]\n",
    "        if n_rows < self.sample_size:\n",
    "            self.sample_size = n_rows\n",
    "        for i in range(self.t_trees):\n",
    "            \n",
    "            #index = self.random_state.choice(range(n_rows), size = self.sample_size, replace = False)\n",
    "            #This row makes the subsampling and split values random for each run\n",
    "            index = self.random_state.randint(0, n_rows, self.sample_size)\n",
    "            #index = np.random.choice(range(n_rows), size=self.sample_size, replace=False)\n",
    "            #index = np.random.randint(0, n_rows, self.sample_size)\n",
    "            \n",
    "            sub_X = X[index]\n",
    "            \n",
    "            tree = iTree(0, height_limit)\n",
    "            tree.fit(sub_X)\n",
    "            self.forest.append(tree)\n",
    "            \n",
    "        return self\n",
    "\n",
    "    def path_length(self, data):\n",
    "\n",
    "        edges = []\n",
    "\n",
    "        for row in data:\n",
    "            path = []\n",
    "            for tree in self.forest:\n",
    "                node = tree.root\n",
    "                length = 0\n",
    "                while isinstance(node, DecisionNode):\n",
    "                    if row[node.q_value] < node.x_value:\n",
    "                        node = node.left\n",
    "                    else:\n",
    "                        node = node.right\n",
    "                    length += 1\n",
    "                leaf_size = node.size\n",
    "                path_length = length + c(leaf_size)\n",
    "                path.append(path_length)\n",
    "            \n",
    "            edges.append(path)\n",
    "        edges = np.array(edges)\n",
    "        return np.mean(edges, axis = -1)\n",
    "\n",
    "    def decision_function(self, data):\n",
    "\n",
    "        average_length = self.path_length(data)\n",
    "        scores = np.array([np.power(2, -l/c(self.sample_size)) for l in average_length])\n",
    "        scores = 0.5 - scores\n",
    "        return scores\n",
    "\n",
    "    def predict_from_score(self, scores, threshold):\n",
    "        return np.array([1 if s >= threshold else 0 for s in scores])\n",
    "\n",
    "    def predict(self, data, threshold):\n",
    "        scores = self.decision_function(data)\n",
    "        prediction = self.predict_from_score(scores, threshold)\n",
    "        return prediction"
   ]
  },
  {
   "cell_type": "code",
   "execution_count": 13,
   "metadata": {},
   "outputs": [],
   "source": [
    "class Leaf:\n",
    "\n",
    "    def __init__(self, size, data) -> None:\n",
    "        self.size = size\n",
    "        self.data = data"
   ]
  },
  {
   "cell_type": "code",
   "execution_count": 14,
   "metadata": {},
   "outputs": [],
   "source": [
    "class DecisionNode:\n",
    "\n",
    "    def __init__(self, left, right, q_value, x_value) -> None:\n",
    "        self.left = left\n",
    "        self.right = right\n",
    "        self.q_value = q_value\n",
    "        self.x_value = x_value"
   ]
  },
  {
   "cell_type": "code",
   "execution_count": 15,
   "metadata": {},
   "outputs": [],
   "source": [
    "class iTree():\n",
    "\n",
    "    def __init__(self, current_height, height_limit) -> None:\n",
    "        self.current_height = current_height\n",
    "        self.heigh_limit = height_limit\n",
    "\n",
    "    def fit(self, sub_sample):\n",
    "        \n",
    "        X = sub_sample\n",
    "        \n",
    "        if self.current_height >= self.heigh_limit or X.shape[0] <= 1:\n",
    "            self.root = Leaf(X.shape[0], X)\n",
    "            return self.root\n",
    "        else:\n",
    "            #Chosing random q value\n",
    "            n_attributes = X.shape[1]#WARNING changed from 1 to 0\n",
    "            q_value = np.random.randint(0, n_attributes)\n",
    "            #Chosing random x value\n",
    "            x_value = np.random.uniform(min(X[:, q_value]), max(X[:, q_value]))\n",
    "\n",
    "            X_left = X[X[:, q_value] < x_value]\n",
    "            X_right = X[X[:, q_value] >= x_value]\n",
    "\n",
    "            left_subtree = iTree(self.current_height + 1, self.heigh_limit)\n",
    "            right_subtree = iTree(self.current_height + 1, self.heigh_limit)\n",
    "\n",
    "            left_subtree.fit(X_left)\n",
    "            right_subtree.fit(X_right)\n",
    "\n",
    "            self.root = DecisionNode(left_subtree.root, right_subtree.root, q_value, x_value)\n",
    "            #self.n_nodes = self.count_nodes(self.root)\n",
    "\n",
    "            return self.root\n",
    "\n",
    "    def count_nodes(self, root):\n",
    "            \n",
    "        count = 0\n",
    "        stack = [root]\n",
    "           \n",
    "        while stack:\n",
    "            node = stack.pop()\n",
    "            count += 1\n",
    "\n",
    "        if isinstance(node, DecisionNode):\n",
    "            stack.append(node.right)\n",
    "            stack.append(node.left)\n",
    "\n",
    "        return count\n"
   ]
  },
  {
   "cell_type": "markdown",
   "metadata": {},
   "source": [
    "Code for testing and running the classes and functions:"
   ]
  },
  {
   "cell_type": "code",
   "execution_count": 16,
   "metadata": {},
   "outputs": [],
   "source": [
    "from __future__ import division\n",
    "from __future__ import print_function\n",
    "from sklearn.ensemble import IsolationForest\n",
    "\n",
    "import os\n",
    "import sys\n",
    "from time import time\n",
    "\n",
    "# temporary solution for relative imports in case pyod is not installed\n",
    "# if pyod is installed, no need to use the following line\n",
    "sys.path.append(\n",
    "    os.path.abspath(os.path.join(os.path.dirname(\"__file__\"), '..')))\n",
    "\n",
    "from numpy import percentile\n",
    "from sklearn.metrics import average_precision_score\n",
    "import scipy.io\n",
    "import matplotlib.pyplot as plt"
   ]
  },
  {
   "cell_type": "code",
   "execution_count": 17,
   "metadata": {},
   "outputs": [],
   "source": [
    "# Define the number of inliers and outliers\n",
    "n_samples = 256\n",
    "outliers_fraction = 0.25\n",
    "clusters_separation = [0]\n",
    "\n",
    "# Compare given detectors under given settings\n",
    "# Initialize the data\n",
    "xx, yy = np.meshgrid(np.linspace(-7, 7, 100), np.linspace(-7, 7, 100))\n",
    "n_inliers = int((1. - outliers_fraction) * n_samples)\n",
    "n_outliers = int(outliers_fraction * n_samples)\n",
    "ground_truth = np.zeros(n_samples, dtype=int)\n",
    "ground_truth[-n_outliers:] = 1"
   ]
  },
  {
   "cell_type": "code",
   "execution_count": 18,
   "metadata": {},
   "outputs": [],
   "source": [
    "random_state = np.random.RandomState(42)"
   ]
  },
  {
   "cell_type": "code",
   "execution_count": 2,
   "metadata": {},
   "outputs": [
    {
     "ename": "NameError",
     "evalue": "name 'np' is not defined",
     "output_type": "error",
     "traceback": [
      "\u001b[1;31m---------------------------------------------------------------------------\u001b[0m",
      "\u001b[1;31mNameError\u001b[0m                                 Traceback (most recent call last)",
      "\u001b[1;32mc:\\Users\\anton\\OneDrive\\Skrivbord\\Thesis_Code\\IsolationForestTinyML\\Offline_solution\\antonForest.ipynb Cell 10'\u001b[0m in \u001b[0;36m<module>\u001b[1;34m\u001b[0m\n\u001b[0;32m     <a href='vscode-notebook-cell:/c%3A/Users/anton/OneDrive/Skrivbord/Thesis_Code/IsolationForestTinyML/Offline_solution/antonForest.ipynb#ch0000009?line=14'>15</a>\u001b[0m     \u001b[39mreturn\u001b[39;00m \u001b[39m0.\u001b[39m\n\u001b[0;32m     <a href='vscode-notebook-cell:/c%3A/Users/anton/OneDrive/Skrivbord/Thesis_Code/IsolationForestTinyML/Offline_solution/antonForest.ipynb#ch0000009?line=16'>17</a>\u001b[0m n_trees \u001b[39m=\u001b[39m \u001b[39m100\u001b[39m\n\u001b[1;32m---> <a href='vscode-notebook-cell:/c%3A/Users/anton/OneDrive/Skrivbord/Thesis_Code/IsolationForestTinyML/Offline_solution/antonForest.ipynb#ch0000009?line=17'>18</a>\u001b[0m np\u001b[39m.\u001b[39mrandom\u001b[39m.\u001b[39mseed(\u001b[39m42\u001b[39m)\n\u001b[0;32m     <a href='vscode-notebook-cell:/c%3A/Users/anton/OneDrive/Skrivbord/Thesis_Code/IsolationForestTinyML/Offline_solution/antonForest.ipynb#ch0000009?line=18'>19</a>\u001b[0m clf \u001b[39m=\u001b[39m antonForest(n_trees, \u001b[39m256\u001b[39m, random_state\u001b[39m=\u001b[39mrandom_state)\n\u001b[0;32m     <a href='vscode-notebook-cell:/c%3A/Users/anton/OneDrive/Skrivbord/Thesis_Code/IsolationForestTinyML/Offline_solution/antonForest.ipynb#ch0000009?line=19'>20</a>\u001b[0m clf_lib \u001b[39m=\u001b[39m IsolationForest(n_estimators \u001b[39m=\u001b[39m n_trees, random_state\u001b[39m=\u001b[39mrandom_state)\n",
      "\u001b[1;31mNameError\u001b[0m: name 'np' is not defined"
     ]
    }
   ],
   "source": [
    "# Fit the models with the generated data and \n",
    "# compare model performances\n",
    "def c(size):\n",
    "    #if size <= 1:\n",
    "    #    return 1.\n",
    "    #else:\n",
    "    #    return 2. * (np.log(size-1.)+0.5772156649) - 2.*(size-1.)/size\n",
    "    \n",
    "    \n",
    "    \n",
    "    if size > 2:\n",
    "        return 2 * (np.log(size-1)+0.5772156649) - 2*(size-1)/size\n",
    "    if size == 2:\n",
    "        return 1.\n",
    "    return 0.\n",
    "\n",
    "n_trees = 100\n",
    "np.random.seed(42)\n",
    "clf = antonForest(n_trees, 256, random_state=random_state)\n",
    "clf_lib = IsolationForest(n_estimators = n_trees, random_state=random_state)\n",
    "# Data generation\n",
    "#X1 = 0.3 * np.random.randn(n_inliers // 2, 2) #Removed offest\n",
    "#X2 = 0.3 * np.random.randn(n_inliers // 2, 2) #Removed offset\n",
    "#X = np.r_[X1, X2]\n",
    "# Add outliers\n",
    "#X = np.r_[X, np.random.uniform(low=-6, high=6, size=(n_outliers, 2))]\n",
    "\n",
    "data = scipy.io.loadmat('C:\\\\Users\\\\anton\\\\OneDrive\\\\Skrivbord\\\\Thesis_Code\\\\IsolationForestTinyML\\\\DatSets\\\\ionosphere.mat',\n",
    "                        squeeze_me=False)\n",
    "\n",
    "enlist = list(data.items())\n",
    "X = np.array(enlist, dtype=object)\n",
    "X = np.delete(X, 0, 0)\n",
    "X = np.delete(X, 0, 0)\n",
    "X = np.delete(X, 0, 0)\n",
    "X = np.delete(X, 0, 1)\n",
    "\n",
    "y_true = np.empty([1,0], dtype=int)\n",
    "\n",
    "#print(X[1][0][0])\n",
    "k = 0\n",
    "#while k < len(X[1][0]):\n",
    "#    y_true = np.append(y_true, int(X[1][0][k]))\n",
    "#    k += 1\n",
    "\n",
    "X = X[0][0]\n",
    "#print(X[0][0])\n",
    "# Fit the model\n",
    "#plt.figure(figsize=(15, 12))\n",
    "# fit the data and tag outliers\n",
    "p = 0\n",
    "aps = []\n",
    "aps_lib = []\n",
    "outliers = 10\n",
    "#while p < 10:\n",
    "clf.fit(X)\n",
    "clf_lib.fit(X)\n",
    "#WARNING put +1\n",
    "scores_pred = clf.decision_function(X) * 1\n",
    "scores_pred_lib = clf_lib.decision_function(X) * 1 \n",
    "\n",
    "threshold = percentile(scores_pred, 100 * outliers_fraction)\n",
    "threshold_lib = percentile(scores_pred_lib, 100 * outliers_fraction)\n",
    "\n",
    "\n",
    "#aps.append(average_precision_score(y_true, scores_pred))\n",
    "#aps_lib.append(average_precision_score(y_true, scores_pred_lib))\n",
    "#p += 1\n",
    "#n_errors = (y_pred != ground_truth).sum()\n",
    "# plot the levels lines and the points\n",
    "\n",
    "#WARNING +1\n",
    "#Z = clf.decision_function(np.c_[xx.ravel(), yy.ravel()]) * 1\n",
    "#Z = Z.reshape(xx.shape)\n",
    "#plt.figure(figsize=[10,10])\n",
    "#subplot = plt.subplot(2, 2, 1)\n",
    "#subplot.contourf(xx, yy, Z, levels=np.linspace(Z.min(), threshold, 7),\n",
    "#                    cmap=plt.cm.Blues_r)\n",
    "#a = subplot.contour(xx, yy, Z, levels=[threshold], #Removed - in front of threshold, since -score\n",
    "#                    linewidths=2, colors='red')\n",
    "#subplot.contourf(xx, yy, Z, levels=[threshold, Z.max()],\n",
    "#                    colors='orange')\n",
    "#b = subplot.scatter(X[:-n_outliers, 0], X[:-n_outliers, 1], c='white',\n",
    "#                    s=20, edgecolor='k')\n",
    "#c = subplot.scatter(X[-n_outliers:, 0], X[-n_outliers:, 1], c='black',\n",
    "#                    s=20, edgecolor='k')\n",
    "#subplot.axis('tight')\n",
    "#subplot.set_xlabel(\"%d. %s (errors: %d)\" % (1, \"Isolation Forest\", n_errors))\n",
    "#subplot.set_xlim((-7, 7))\n",
    "#subplot.set_ylim((-7, 7))\n",
    "#plt.subplots_adjust(0.04, 0.1, 0.96, 0.94, 0.1, 0.26)\n",
    "#plt.suptitle(\"Outlier detection\")\n",
    "#plt.show()\n",
    "#all_data = [aps, aps_lib]\n",
    "#plt.boxplot(all_data)\n",
    "\n",
    "å = 0\n",
    "while(å < len(scores_pred)):\n",
    "    print(scores_pred[å])\n",
    "    å += 1"
   ]
  },
  {
   "cell_type": "code",
   "execution_count": 136,
   "metadata": {},
   "outputs": [
    {
     "name": "stdout",
     "output_type": "stream",
     "text": [
      "[ 0.01669184  0.00515473  0.05146643 -0.00547119 -0.00059348  0.03095742\n",
      " -0.00998812  0.05942021 -0.0349231  -0.00316742 -0.06395142  0.00918045\n",
      "  0.05393689  0.0488285   0.04397609  0.04639708  0.07040348  0.00169034\n",
      "  0.05296525  0.02083627 -0.0419589   0.03803893 -0.00221261  0.07508383\n",
      " -0.08267784  0.01710875  0.04180126  0.02780292  0.08832095  0.00675496\n",
      "  0.04010822  0.03191191  0.09342941  0.05323876  0.08005986  0.05904484\n",
      "  0.09137652  0.08382863  0.03752688  0.09494368  0.06112219  0.08445183\n",
      "  0.07995298  0.08538066  0.05444135  0.05153005 -0.03015201  0.03459267\n",
      "  0.08058774  0.02515008 -0.00078449  0.06544617  0.08105317  0.08829696\n",
      "  0.08673784  0.08947275  0.02256765  0.0871629   0.0933216   0.06147927\n",
      "  0.0580874  -0.03798971  0.07936059  0.03764077  0.06209469  0.07232379\n",
      "  0.00376812  0.08115689  0.07910372  0.03761152  0.06531724  0.05629769\n",
      " -0.1236495   0.00887783 -0.0017858  -0.02653565  0.09099972  0.06039556\n",
      "  0.02672626  0.06625448  0.0724465   0.05260476  0.09045962  0.05186836\n",
      "  0.08445878  0.07221668  0.07556005  0.0246446   0.02843474  0.08386108\n",
      "  0.0803838   0.09216569  0.06880237  0.06600471  0.0635979   0.02242373\n",
      "  0.0557495  -0.02788599  0.06811368  0.0898664   0.04909728  0.0126889\n",
      "  0.01246888  0.00671149  0.03680619  0.05529113  0.05461453  0.0662606\n",
      "  0.00791732 -0.06123484  0.01768115  0.07026035  0.07643771  0.09213222\n",
      "  0.09103938  0.07496858  0.04955928  0.05258224  0.08460627  0.06231536\n",
      "  0.0200047   0.06308978  0.06210432  0.07752839  0.04729415  0.0836011\n",
      "  0.03496268  0.05441259  0.02872123]\n"
     ]
    }
   ],
   "source": [
    "\n",
    "print(scores_pred_lib)"
   ]
  },
  {
   "cell_type": "code",
   "execution_count": 137,
   "metadata": {},
   "outputs": [
    {
     "data": {
      "text/plain": [
       "(array([ 2.,  2.,  5.,  6., 10., 23., 21., 30., 15., 15.]),\n",
       " array([-0.06252613, -0.04745994, -0.03239375, -0.01732756, -0.00226138,\n",
       "         0.01280481,  0.027871  ,  0.04293719,  0.05800338,  0.07306957,\n",
       "         0.08813576]),\n",
       " <BarContainer object of 10 artists>)"
      ]
     },
     "execution_count": 137,
     "metadata": {},
     "output_type": "execute_result"
    },
    {
     "data": {
      "image/png": "[encoded data removed]",
      "text/plain": [
       "<Figure size 432x288 with 1 Axes>"
      ]
     },
     "metadata": {
      "needs_background": "light"
     },
     "output_type": "display_data"
    }
   ],
   "source": [
    "plt.hist(scores_pred)"
   ]
  },
  {
   "cell_type": "code",
   "execution_count": 138,
   "metadata": {},
   "outputs": [
    {
     "data": {
      "text/plain": [
       "(array([ 1.,  1.,  2.,  2.,  4., 12., 18., 17., 37., 35.]),\n",
       " array([-0.1236495 , -0.10179019, -0.07993087, -0.05807155, -0.03621223,\n",
       "        -0.01435291,  0.00750641,  0.02936572,  0.05122504,  0.07308436,\n",
       "         0.09494368]),\n",
       " <BarContainer object of 10 artists>)"
      ]
     },
     "execution_count": 138,
     "metadata": {},
     "output_type": "execute_result"
    },
    {
     "data": {
      "image/png": "[encoded data removed]",
      "text/plain": [
       "<Figure size 432x288 with 1 Axes>"
      ]
     },
     "metadata": {
      "needs_background": "light"
     },
     "output_type": "display_data"
    }
   ],
   "source": [
    "plt.hist(scores_pred_lib)"
   ]
  },
  {
   "cell_type": "code",
   "execution_count": 125,
   "metadata": {},
   "outputs": [
    {
     "data": {
      "text/plain": [
       "2"
      ]
     },
     "execution_count": 125,
     "metadata": {},
     "output_type": "execute_result"
    }
   ],
   "source": [
    "file = open(\"save_forest.ino\", \"w\")\n",
    "\n",
    "file.write(\"#include <vector>\\n\")\n",
    "file.write(\"using namespace std;\\n\\n\")\n",
    "file.write(\"struct Tree{\\n\")\n",
    "file.write(\"    int child_id_left, child_id_right, feature, n_samples;\\n\")\n",
    "file.write(\"    float threshold;\\n\")\n",
    "file.write(\"};\\n\\n\")\n",
    "\n",
    "file.write(\"vector<vector<Tree>> iForest;\\n\")\n",
    "m = 0\n",
    "while m < clf_lib.n_estimators:\n",
    "    file.write(\"std::vector<Tree> iTree\" + str(m + 1) + \";\\n\")\n",
    "    m += 1\n",
    "file.write(\"\\n\")\n",
    "\n",
    "f = 0\n",
    "file.write(\"void setup() {\\n\")\n",
    "file.write(\"    Serial.begin(9600);\\n\")\n",
    "while f < clf_lib.n_estimators:\n",
    "    j = 0\n",
    "    while j < len(clf_lib.estimators_[f].tree_.feature):\n",
    "        temp_child_l = clf_lib.estimators_[f].tree_.children_left[j]\n",
    "        if clf_lib.estimators_[f].tree_.children_left[j] == -1:\n",
    "            temp_child_l = 0\n",
    "\n",
    "        temp_child_r = clf_lib.estimators_[f].tree_.children_right[j]\n",
    "        if temp_child_r == clf_lib.estimators_[f].tree_.children_right[j] == -1:\n",
    "            temp_child_r = 0\n",
    "\n",
    "        temp_feature = clf_lib.estimators_[f].tree_.feature[j]\n",
    "        temp_threshold = clf_lib.estimators_[f].tree_.threshold[j]\n",
    "        temps_values = clf_lib.estimators_[f].tree_.n_node_samples[j]\n",
    "\n",
    "        file.write(\"    iTree\" + str(f + 1) + \".push_back({\"  \n",
    "                                                            + str(temp_child_l) + \", \"\n",
    "                                                            + str(temp_child_r) + \", \"\n",
    "                                                            + str(temp_feature) + \", \"\n",
    "                                                            + str(temps_values) + \", \"\n",
    "                                                            + str(temp_threshold) + \n",
    "                                                        \"});\\n\")\n",
    "\n",
    "        j += 1\n",
    "\n",
    "    file.write(\"    iForest.push_back(iTree\" + str(f + 1) + \");\\n\\n\")\n",
    "    f += 1\n",
    "\n",
    "rows = f*j\n",
    "memory_per_vector = 8\n",
    "allocated_memory = rows * memory_per_vector\n",
    "file.write(\"}\\n\")\n",
    "file.write(\"void loop() {\\n\")\n",
    "file.write(\"\\n}\")\n",
    "\n",
    "\n"
   ]
  },
  {
   "cell_type": "code",
   "execution_count": 139,
   "metadata": {},
   "outputs": [
    {
     "data": {
      "text/plain": [
       "<Figure size 1080x864 with 0 Axes>"
      ]
     },
     "metadata": {},
     "output_type": "display_data"
    },
    {
     "data": {
      "image/png": "[encoded data removed]",
      "text/plain": [
       "<Figure size 720x720 with 1 Axes>"
      ]
     },
     "metadata": {
      "needs_background": "light"
     },
     "output_type": "display_data"
    }
   ],
   "source": [
    "# Fit the models with the generated data and \n",
    "# compare model performances\n",
    "def c(size):\n",
    "    if size <= 1:\n",
    "        return 1\n",
    "    else:\n",
    "        return 2. * (np.log(size-1.)+0.5772156649) - 2.*(size-1.)/size\n",
    "\n",
    "np.random.seed(42)\n",
    "clf = antonForest(100, 256, random_state=random_state)\n",
    "clf_lib = IsolationForest(random_state=random_state)\n",
    "# Data generation\n",
    "X1 = 0.3 * np.random.randn(n_inliers // 2, 2) #Removed offest\n",
    "X2 = 0.3 * np.random.randn(n_inliers // 2, 2) #Removed offset\n",
    "X = np.r_[X1, X2]\n",
    "# Add outliers\n",
    "X = np.r_[X, np.random.uniform(low=-6, high=6, size=(n_outliers, 2))]\n",
    "\n",
    "\n",
    "# Fit the model\n",
    "plt.figure(figsize=(15, 12))\n",
    "# fit the data and tag outliers\n",
    "clf.fit(X)\n",
    "clf_lib.fit(X)\n",
    "#WARNING put +1\n",
    "scores_pred = clf.decision_function(X) * 1\n",
    "scores_pred_lib = clf_lib.decision_function(X) * 1 \n",
    "\n",
    "threshold = percentile(scores_pred, 100 * outliers_fraction)\n",
    "threshold_lib = percentile(scores_pred_lib, 100 * outliers_fraction)\n",
    "\n",
    "y_pred = clf.predict(X, threshold) * -1\n",
    "y_pred = (y_pred + 1) #/ 2\n",
    "\n",
    "y_pred_lib = clf_lib.predict(X) * -1\n",
    "y_pred_lib = (y_pred_lib + 1) / 2\n",
    "\n",
    "n_errors = (y_pred != ground_truth).sum()\n",
    "# plot the levels lines and the points\n",
    "\n",
    "#WARNING +1\n",
    "Z = clf.decision_function(np.c_[xx.ravel(), yy.ravel()]) * 1\n",
    "Z = Z.reshape(xx.shape)\n",
    "plt.figure(figsize=[10,10])\n",
    "subplot = plt.subplot(2, 2, 1)\n",
    "subplot.contourf(xx, yy, Z, levels=np.linspace(Z.min(), threshold, 7),\n",
    "                    cmap=plt.cm.Blues_r)\n",
    "a = subplot.contour(xx, yy, Z, levels=[threshold], #Removed - in front of threshold, since -score\n",
    "                    linewidths=2, colors='red')\n",
    "subplot.contourf(xx, yy, Z, levels=[threshold, Z.max()],\n",
    "                    colors='orange')\n",
    "b = subplot.scatter(X[:-n_outliers, 0], X[:-n_outliers, 1], c='white',\n",
    "                    s=20, edgecolor='k')\n",
    "c = subplot.scatter(X[-n_outliers:, 0], X[-n_outliers:, 1], c='black',\n",
    "                    s=20, edgecolor='k')\n",
    "subplot.axis('tight')\n",
    "subplot.set_xlabel(\"%d. %s (errors: %d)\" % (1, \"Isolation Forest\", n_errors))\n",
    "subplot.set_xlim((-7, 7))\n",
    "subplot.set_ylim((-7, 7))\n",
    "plt.subplots_adjust(0.04, 0.1, 0.96, 0.94, 0.1, 0.26)\n",
    "plt.suptitle(\"Outlier detection\")\n",
    "plt.show()"
   ]
  },
  {
   "cell_type": "code",
   "execution_count": 140,
   "metadata": {},
   "outputs": [
    {
     "name": "stdout",
     "output_type": "stream",
     "text": [
      "[ 0.16280269  0.13204607  0.16977461  0.1360178   0.16104879  0.16560154\n",
      "  0.12442904  0.12959913  0.15334063  0.13955119  0.14054806  0.14642001\n",
      "  0.16634536  0.14881356  0.16705213  0.12305806  0.15617496  0.13984554\n",
      "  0.12093084  0.14211579  0.16041967  0.16820808  0.13789815  0.14571358\n",
      "  0.13081358  0.16430417  0.15736123  0.14621318  0.1670545   0.15183273\n",
      "  0.16707095  0.14191136  0.13313918  0.15359281  0.16315951  0.13781979\n",
      "  0.13698496  0.08369043  0.16901318  0.12343542  0.16533199  0.13831063\n",
      "  0.16403006  0.15049281  0.15945517  0.15862744  0.16500549  0.14521501\n",
      "  0.16026244  0.17012355  0.14382557  0.16266801  0.16377949  0.12281993\n",
      "  0.16611317  0.12657864  0.11425487  0.16516517  0.15439845  0.14493752\n",
      "  0.15325228  0.12103754  0.11490291  0.15548909  0.16806163  0.13544239\n",
      "  0.15112449  0.12296638  0.16586272  0.14107278  0.13957777  0.13533802\n",
      "  0.15843566  0.13399636  0.15800312  0.1604331   0.16124132  0.16287897\n",
      "  0.12273799  0.14575692  0.15047935  0.1453417   0.15168377  0.12122182\n",
      "  0.16434877  0.15511522  0.16349137  0.1571693   0.14121266  0.09907603\n",
      "  0.15866199  0.15112449  0.16220775  0.16363742  0.14115091  0.15542652\n",
      "  0.14588625  0.16305977  0.16148789  0.1554955   0.1617983   0.14138738\n",
      "  0.13564856  0.15594226  0.05408981  0.14075874  0.15107331  0.15883566\n",
      "  0.16657448  0.1670434   0.07597295  0.13651459  0.14482436  0.15669868\n",
      "  0.15725492  0.16353679  0.1654559   0.11531473  0.12230009  0.15411307\n",
      "  0.16520677  0.15514727  0.15451964  0.16256031  0.12918598  0.13857504\n",
      "  0.1075212   0.1398062   0.14204514  0.15529775  0.16209592  0.07244757\n",
      "  0.15181375  0.11136583  0.16665034  0.11793532  0.15016711  0.1531039\n",
      "  0.16198319  0.16822284  0.16410866  0.11921143  0.08296259  0.16224368\n",
      "  0.16348333  0.16827019  0.15569169  0.16315951  0.15108944  0.15717406\n",
      "  0.16271859  0.15825641  0.16633073  0.14106688  0.16440294  0.15021472\n",
      "  0.15123865  0.14437425  0.16093853  0.16481748  0.16459437  0.11496969\n",
      "  0.13971216  0.14411357  0.15817773  0.16180763  0.16559363  0.15643546\n",
      "  0.1670545   0.16191209  0.16202327  0.16547126  0.16320058  0.12146454\n",
      "  0.16657448  0.13709336  0.15763325  0.15835513  0.16825492  0.1612433\n",
      "  0.1350925   0.16385735  0.16070538  0.1664345   0.16448923  0.16419112\n",
      "  0.13392465  0.11620026  0.15676291  0.11626058  0.16069528  0.11477532\n",
      " -0.09003197 -0.11687229 -0.03047317 -0.09142889 -0.07143506 -0.09605904\n",
      " -0.09752641 -0.01443201 -0.09190248 -0.12170773 -0.06945005 -0.11464357\n",
      " -0.00894192 -0.09731094 -0.05777491 -0.05307551 -0.12317317 -0.10691156\n",
      " -0.09692733 -0.10408929 -0.08583791 -0.06999341 -0.08420248 -0.08645722\n",
      " -0.03572499 -0.09369431 -0.0319063  -0.0580949   0.0749968  -0.0766837\n",
      " -0.10370911 -0.06765915 -0.06645846 -0.11556487 -0.04195774  0.00760103\n",
      " -0.0892469  -0.03366314 -0.03039608 -0.09451867 -0.12026382 -0.00030708\n",
      " -0.11021896  0.00774901 -0.05367287 -0.11318293 -0.08577053 -0.07952091\n",
      " -0.06853559 -0.06721031 -0.07185035 -0.10809092 -0.07491603 -0.09116968\n",
      " -0.07207935 -0.06297254 -0.00723454 -0.14862836 -0.08330307 -0.0999424\n",
      " -0.10264038 -0.08237921 -0.08449795  0.01860307]\n"
     ]
    }
   ],
   "source": [
    "print(scores_pred)"
   ]
  },
  {
   "cell_type": "code",
   "execution_count": 141,
   "metadata": {},
   "outputs": [
    {
     "data": {
      "text/plain": [
       "(array([  5.,  24.,  21.,   6.,   6.,   1.,   2.,   5.,  40., 146.]),\n",
       " array([-0.14862836, -0.11675317, -0.08487798, -0.05300279, -0.0211276 ,\n",
       "         0.0107476 ,  0.04262279,  0.07449798,  0.10637317,  0.13824836,\n",
       "         0.17012355]),\n",
       " <BarContainer object of 10 artists>)"
      ]
     },
     "execution_count": 141,
     "metadata": {},
     "output_type": "execute_result"
    },
    {
     "data": {
      "image/png": "[encoded data removed]",
      "text/plain": [
       "<Figure size 432x288 with 1 Axes>"
      ]
     },
     "metadata": {
      "needs_background": "light"
     },
     "output_type": "display_data"
    }
   ],
   "source": [
    "plt.hist(scores_pred)"
   ]
  },
  {
   "cell_type": "code",
   "execution_count": 142,
   "metadata": {},
   "outputs": [
    {
     "data": {
      "text/plain": [
       "(array([  7.,   8.,  23.,  12.,   8.,   5.,   0.,   6.,  29., 158.]),\n",
       " array([-0.19174075, -0.1557485 , -0.11975626, -0.08376401, -0.04777176,\n",
       "        -0.01177952,  0.02421273,  0.06020498,  0.09619722,  0.13218947,\n",
       "         0.16818172]),\n",
       " <BarContainer object of 10 artists>)"
      ]
     },
     "execution_count": 142,
     "metadata": {},
     "output_type": "execute_result"
    },
    {
     "data": {
      "image/png": "[encoded data removed]",
      "text/plain": [
       "<Figure size 432x288 with 1 Axes>"
      ]
     },
     "metadata": {
      "needs_background": "light"
     },
     "output_type": "display_data"
    }
   ],
   "source": [
    "plt.hist(scores_pred_lib)"
   ]
  },
  {
   "cell_type": "code",
   "execution_count": null,
   "metadata": {},
   "outputs": [],
   "source": []
  }
 ],
 "metadata": {
  "interpreter": {
   "hash": "c4a31993002339e453ebb2c66c294fd01e84ed8cca375c93fb5e33ef382fbc8b"
  },
  "kernelspec": {
   "display_name": "Python 3.9.10 64-bit (windows store)",
   "language": "python",
   "name": "python3"
  },
  "language_info": {
   "codemirror_mode": {
    "name": "ipython",
    "version": 3
   },
   "file_extension": ".py",
   "mimetype": "text/x-python",
   "name": "python",
   "nbconvert_exporter": "python",
   "pygments_lexer": "ipython3",
   "version": "3.9.12"
  },
  "orig_nbformat": 4
 },
 "nbformat": 4,
 "nbformat_minor": 2
}
